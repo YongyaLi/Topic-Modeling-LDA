{
 "cells": [
  {
   "cell_type": "markdown",
   "metadata": {},
   "source": [
    "<h1 style=\"text-align: center\"> Topic Modeling with E-commerce Reviews: Latent Dirichlet Allocation (LDA) </h1>"
   ]
  },
  {
   "cell_type": "markdown",
   "metadata": {},
   "source": [
    "<img align=\"center\" width=\"800\" height=\"200\" src=\"https://www.cdc.gov/coronavirus/2019-ncov/images/case-updates/math-models.jpg\">"
   ]
  },
  {
   "cell_type": "markdown",
   "metadata": {},
   "source": [
    "#### 1. Loading data\n",
    "####  2. Data Cleaning\n",
    "####  3. Phrase Modeling: Bi-grams and Tri-grams\n",
    "####  4. Data transformation: Corpus and Dictionary\n",
    "####  5. Base Model Performance\n",
    "####  6. Hyperparameter Tuning\n",
    "####  7. Final Model\n",
    "####  8. Visualize Results\n",
    "\n",
    "Reference:https://towardsdatascience.com/evaluate-topic-model-in-python-latent-dirichlet-allocation-lda-7d57484bb5d0 "
   ]
  },
  {
   "cell_type": "markdown",
   "metadata": {
    "scrolled": true
   },
   "source": [
    "### Loading data"
   ]
  },
  {
   "cell_type": "code",
   "execution_count": 2,
   "metadata": {},
   "outputs": [],
   "source": [
    "import numpy as np\n",
    "import pandas as pd\n",
    "import matplotlib.pyplot as plt\n",
    "import spacy\n",
    "import numpy as np\n",
    "import tqdm"
   ]
  },
  {
   "cell_type": "code",
   "execution_count": 3,
   "metadata": {},
   "outputs": [],
   "source": [
    "data = pd.read_csv('training_data.csv')"
   ]
  },
  {
   "cell_type": "code",
   "execution_count": 4,
   "metadata": {},
   "outputs": [
    {
     "data": {
      "text/html": [
       "<div>\n",
       "<style scoped>\n",
       "    .dataframe tbody tr th:only-of-type {\n",
       "        vertical-align: middle;\n",
       "    }\n",
       "\n",
       "    .dataframe tbody tr th {\n",
       "        vertical-align: top;\n",
       "    }\n",
       "\n",
       "    .dataframe thead th {\n",
       "        text-align: right;\n",
       "    }\n",
       "</style>\n",
       "<table border=\"1\" class=\"dataframe\">\n",
       "  <thead>\n",
       "    <tr style=\"text-align: right;\">\n",
       "      <th></th>\n",
       "      <th>reviews.title</th>\n",
       "      <th>reviews.text</th>\n",
       "      <th>reviews.rating</th>\n",
       "      <th>reviews.date</th>\n",
       "      <th>reviews.userCity</th>\n",
       "      <th>reviews.userProvince</th>\n",
       "      <th>primaryCategories</th>\n",
       "      <th>categories</th>\n",
       "      <th>name</th>\n",
       "      <th>address</th>\n",
       "      <th>...</th>\n",
       "      <th>dimension</th>\n",
       "      <th>flavors</th>\n",
       "      <th>sizes</th>\n",
       "      <th>weight</th>\n",
       "      <th>colors</th>\n",
       "      <th>imageURLs</th>\n",
       "      <th>review.user_age</th>\n",
       "      <th>divisionName</th>\n",
       "      <th>departmentName</th>\n",
       "      <th>className</th>\n",
       "    </tr>\n",
       "  </thead>\n",
       "  <tbody>\n",
       "    <tr>\n",
       "      <th>0</th>\n",
       "      <td>St Patrick Day Dash Hotel</td>\n",
       "      <td>We stayed at this hotel for the St Patrick's D...</td>\n",
       "      <td>4</td>\n",
       "      <td>2016-06-08T00:00:00.000Z</td>\n",
       "      <td>Seattle</td>\n",
       "      <td>Washington</td>\n",
       "      <td>Accommodation &amp; Food Services</td>\n",
       "      <td>Hotels and motels,Hotel South Lake Union,Hotel</td>\n",
       "      <td>Hyatt House Seattle/Downtown</td>\n",
       "      <td>201 5th Ave N</td>\n",
       "      <td>...</td>\n",
       "      <td>NaN</td>\n",
       "      <td>NaN</td>\n",
       "      <td>NaN</td>\n",
       "      <td>NaN</td>\n",
       "      <td>NaN</td>\n",
       "      <td>NaN</td>\n",
       "      <td>NaN</td>\n",
       "      <td>NaN</td>\n",
       "      <td>NaN</td>\n",
       "      <td>NaN</td>\n",
       "    </tr>\n",
       "    <tr>\n",
       "      <th>1</th>\n",
       "      <td>GREAT SPEAKERS</td>\n",
       "      <td>GREAT SPEAKERS FOR THE PRICE...GOT THEM ON SAL...</td>\n",
       "      <td>5</td>\n",
       "      <td>2013-01-20T00:00:00.000Z</td>\n",
       "      <td>NaN</td>\n",
       "      <td>NaN</td>\n",
       "      <td>Electronics</td>\n",
       "      <td>Auto &amp; Tires,Auto Electronics,Car Speakers and...</td>\n",
       "      <td>Alpine - 6-1/2\" 2-Way Coaxial Car Speakers wit...</td>\n",
       "      <td>NaN</td>\n",
       "      <td>...</td>\n",
       "      <td>NaN</td>\n",
       "      <td>NaN</td>\n",
       "      <td>NaN</td>\n",
       "      <td>5.2 pounds</td>\n",
       "      <td>NaN</td>\n",
       "      <td>https://i5.walmartimages.com/asr/e31a71ea-802e...</td>\n",
       "      <td>NaN</td>\n",
       "      <td>NaN</td>\n",
       "      <td>NaN</td>\n",
       "      <td>NaN</td>\n",
       "    </tr>\n",
       "    <tr>\n",
       "      <th>2</th>\n",
       "      <td>NaN</td>\n",
       "      <td>I love this jumpsuit! it runs a little large b...</td>\n",
       "      <td>4</td>\n",
       "      <td>NaN</td>\n",
       "      <td>NaN</td>\n",
       "      <td>NaN</td>\n",
       "      <td>Clothing</td>\n",
       "      <td>NaN</td>\n",
       "      <td>NaN</td>\n",
       "      <td>NaN</td>\n",
       "      <td>...</td>\n",
       "      <td>NaN</td>\n",
       "      <td>NaN</td>\n",
       "      <td>NaN</td>\n",
       "      <td>NaN</td>\n",
       "      <td>NaN</td>\n",
       "      <td>NaN</td>\n",
       "      <td>25.0</td>\n",
       "      <td>General</td>\n",
       "      <td>Bottoms</td>\n",
       "      <td>Pants</td>\n",
       "    </tr>\n",
       "    <tr>\n",
       "      <th>3</th>\n",
       "      <td>Works great. Instructions were not clear that ...</td>\n",
       "      <td>Works great. Instructions were not clear that ...</td>\n",
       "      <td>5</td>\n",
       "      <td>NaN</td>\n",
       "      <td>NaN</td>\n",
       "      <td>NaN</td>\n",
       "      <td>Electronics</td>\n",
       "      <td>Office,Office Technology,Phones &amp; Accessories,...</td>\n",
       "      <td>Clarity - Super-Loud Phone Ringer - White</td>\n",
       "      <td>NaN</td>\n",
       "      <td>...</td>\n",
       "      <td>NaN</td>\n",
       "      <td>NaN</td>\n",
       "      <td>NaN</td>\n",
       "      <td>1.2 pounds</td>\n",
       "      <td>Cream</td>\n",
       "      <td>https://i5.walmartimages.com/asr/05e84e90-d193...</td>\n",
       "      <td>NaN</td>\n",
       "      <td>NaN</td>\n",
       "      <td>NaN</td>\n",
       "      <td>NaN</td>\n",
       "    </tr>\n",
       "    <tr>\n",
       "      <th>4</th>\n",
       "      <td>Fun place and great staff</td>\n",
       "      <td>Bad: Everything was great. Good: Superior expe...</td>\n",
       "      <td>5</td>\n",
       "      <td>2017-05-15T00:00:00.000Z</td>\n",
       "      <td>NaN</td>\n",
       "      <td>NaN</td>\n",
       "      <td>Accommodation &amp; Food Services</td>\n",
       "      <td>Hotels,Honeymoon Resorts,Resorts Reservations,...</td>\n",
       "      <td>Virgin Hotels Chicago</td>\n",
       "      <td>203 N Wabash Ave</td>\n",
       "      <td>...</td>\n",
       "      <td>NaN</td>\n",
       "      <td>NaN</td>\n",
       "      <td>NaN</td>\n",
       "      <td>NaN</td>\n",
       "      <td>NaN</td>\n",
       "      <td>NaN</td>\n",
       "      <td>NaN</td>\n",
       "      <td>NaN</td>\n",
       "      <td>NaN</td>\n",
       "      <td>NaN</td>\n",
       "    </tr>\n",
       "  </tbody>\n",
       "</table>\n",
       "<p>5 rows × 35 columns</p>\n",
       "</div>"
      ],
      "text/plain": [
       "                                       reviews.title  \\\n",
       "0                          St Patrick Day Dash Hotel   \n",
       "1                                     GREAT SPEAKERS   \n",
       "2                                                NaN   \n",
       "3  Works great. Instructions were not clear that ...   \n",
       "4                          Fun place and great staff   \n",
       "\n",
       "                                        reviews.text  reviews.rating  \\\n",
       "0  We stayed at this hotel for the St Patrick's D...               4   \n",
       "1  GREAT SPEAKERS FOR THE PRICE...GOT THEM ON SAL...               5   \n",
       "2  I love this jumpsuit! it runs a little large b...               4   \n",
       "3  Works great. Instructions were not clear that ...               5   \n",
       "4  Bad: Everything was great. Good: Superior expe...               5   \n",
       "\n",
       "               reviews.date reviews.userCity reviews.userProvince  \\\n",
       "0  2016-06-08T00:00:00.000Z          Seattle           Washington   \n",
       "1  2013-01-20T00:00:00.000Z              NaN                  NaN   \n",
       "2                       NaN              NaN                  NaN   \n",
       "3                       NaN              NaN                  NaN   \n",
       "4  2017-05-15T00:00:00.000Z              NaN                  NaN   \n",
       "\n",
       "               primaryCategories  \\\n",
       "0  Accommodation & Food Services   \n",
       "1                    Electronics   \n",
       "2                       Clothing   \n",
       "3                    Electronics   \n",
       "4  Accommodation & Food Services   \n",
       "\n",
       "                                          categories  \\\n",
       "0     Hotels and motels,Hotel South Lake Union,Hotel   \n",
       "1  Auto & Tires,Auto Electronics,Car Speakers and...   \n",
       "2                                                NaN   \n",
       "3  Office,Office Technology,Phones & Accessories,...   \n",
       "4  Hotels,Honeymoon Resorts,Resorts Reservations,...   \n",
       "\n",
       "                                                name           address  ...  \\\n",
       "0                       Hyatt House Seattle/Downtown     201 5th Ave N  ...   \n",
       "1  Alpine - 6-1/2\" 2-Way Coaxial Car Speakers wit...               NaN  ...   \n",
       "2                                                NaN               NaN  ...   \n",
       "3          Clarity - Super-Loud Phone Ringer - White               NaN  ...   \n",
       "4                              Virgin Hotels Chicago  203 N Wabash Ave  ...   \n",
       "\n",
       "  dimension flavors sizes      weight  colors  \\\n",
       "0       NaN     NaN   NaN         NaN     NaN   \n",
       "1       NaN     NaN   NaN  5.2 pounds     NaN   \n",
       "2       NaN     NaN   NaN         NaN     NaN   \n",
       "3       NaN     NaN   NaN  1.2 pounds   Cream   \n",
       "4       NaN     NaN   NaN         NaN     NaN   \n",
       "\n",
       "                                           imageURLs review.user_age  \\\n",
       "0                                                NaN             NaN   \n",
       "1  https://i5.walmartimages.com/asr/e31a71ea-802e...             NaN   \n",
       "2                                                NaN            25.0   \n",
       "3  https://i5.walmartimages.com/asr/05e84e90-d193...             NaN   \n",
       "4                                                NaN             NaN   \n",
       "\n",
       "  divisionName departmentName className  \n",
       "0          NaN            NaN       NaN  \n",
       "1          NaN            NaN       NaN  \n",
       "2      General        Bottoms     Pants  \n",
       "3          NaN            NaN       NaN  \n",
       "4          NaN            NaN       NaN  \n",
       "\n",
       "[5 rows x 35 columns]"
      ]
     },
     "execution_count": 4,
     "metadata": {},
     "output_type": "execute_result"
    }
   ],
   "source": [
    "data.head()"
   ]
  },
  {
   "cell_type": "markdown",
   "metadata": {},
   "source": [
    "### Loading data"
   ]
  },
  {
   "cell_type": "code",
   "execution_count": 5,
   "metadata": {},
   "outputs": [],
   "source": [
    "df = data[['reviews.text','reviews.rating']].copy()"
   ]
  },
  {
   "cell_type": "code",
   "execution_count": 6,
   "metadata": {},
   "outputs": [
    {
     "data": {
      "text/html": [
       "<div>\n",
       "<style scoped>\n",
       "    .dataframe tbody tr th:only-of-type {\n",
       "        vertical-align: middle;\n",
       "    }\n",
       "\n",
       "    .dataframe tbody tr th {\n",
       "        vertical-align: top;\n",
       "    }\n",
       "\n",
       "    .dataframe thead th {\n",
       "        text-align: right;\n",
       "    }\n",
       "</style>\n",
       "<table border=\"1\" class=\"dataframe\">\n",
       "  <thead>\n",
       "    <tr style=\"text-align: right;\">\n",
       "      <th></th>\n",
       "      <th>reviews.text</th>\n",
       "      <th>reviews.rating</th>\n",
       "    </tr>\n",
       "  </thead>\n",
       "  <tbody>\n",
       "    <tr>\n",
       "      <th>0</th>\n",
       "      <td>We stayed at this hotel for the St Patrick's D...</td>\n",
       "      <td>4</td>\n",
       "    </tr>\n",
       "    <tr>\n",
       "      <th>1</th>\n",
       "      <td>GREAT SPEAKERS FOR THE PRICE...GOT THEM ON SAL...</td>\n",
       "      <td>5</td>\n",
       "    </tr>\n",
       "    <tr>\n",
       "      <th>2</th>\n",
       "      <td>I love this jumpsuit! it runs a little large b...</td>\n",
       "      <td>4</td>\n",
       "    </tr>\n",
       "    <tr>\n",
       "      <th>3</th>\n",
       "      <td>Works great. Instructions were not clear that ...</td>\n",
       "      <td>5</td>\n",
       "    </tr>\n",
       "    <tr>\n",
       "      <th>4</th>\n",
       "      <td>Bad: Everything was great. Good: Superior expe...</td>\n",
       "      <td>5</td>\n",
       "    </tr>\n",
       "  </tbody>\n",
       "</table>\n",
       "</div>"
      ],
      "text/plain": [
       "                                        reviews.text  reviews.rating\n",
       "0  We stayed at this hotel for the St Patrick's D...               4\n",
       "1  GREAT SPEAKERS FOR THE PRICE...GOT THEM ON SAL...               5\n",
       "2  I love this jumpsuit! it runs a little large b...               4\n",
       "3  Works great. Instructions were not clear that ...               5\n",
       "4  Bad: Everything was great. Good: Superior expe...               5"
      ]
     },
     "execution_count": 6,
     "metadata": {},
     "output_type": "execute_result"
    }
   ],
   "source": [
    "df.head()"
   ]
  },
  {
   "cell_type": "code",
   "execution_count": 7,
   "metadata": {},
   "outputs": [],
   "source": [
    "def standardize_text(df, text_field):\n",
    "    df[text_field] = df[text_field].str.replace(r\"http\\S+\", \"\")\n",
    "    df[text_field] = df[text_field].str.replace(r\"http\", \"\")\n",
    "    df[text_field] = df[text_field].str.replace(r\"@\\S+\", \"\")\n",
    "    df[text_field] = df[text_field].str.replace(r\"[^A-Za-z0-9(),!?@\\'\\`\\\"\\_\\n]\", \" \")\n",
    "    df[text_field] = df[text_field].str.replace(r\"@\", \"at\")\n",
    "    df[text_field] = df[text_field].str.lower()\n",
    "    return df\n"
   ]
  },
  {
   "cell_type": "code",
   "execution_count": 8,
   "metadata": {},
   "outputs": [],
   "source": [
    "df= standardize_text(df, \"reviews.text\")"
   ]
  },
  {
   "cell_type": "code",
   "execution_count": 9,
   "metadata": {},
   "outputs": [
    {
     "data": {
      "text/html": [
       "<div>\n",
       "<style scoped>\n",
       "    .dataframe tbody tr th:only-of-type {\n",
       "        vertical-align: middle;\n",
       "    }\n",
       "\n",
       "    .dataframe tbody tr th {\n",
       "        vertical-align: top;\n",
       "    }\n",
       "\n",
       "    .dataframe thead th {\n",
       "        text-align: right;\n",
       "    }\n",
       "</style>\n",
       "<table border=\"1\" class=\"dataframe\">\n",
       "  <thead>\n",
       "    <tr style=\"text-align: right;\">\n",
       "      <th></th>\n",
       "      <th>reviews.text</th>\n",
       "      <th>reviews.rating</th>\n",
       "    </tr>\n",
       "  </thead>\n",
       "  <tbody>\n",
       "    <tr>\n",
       "      <th>0</th>\n",
       "      <td>we stayed at this hotel for the st patrick's d...</td>\n",
       "      <td>4</td>\n",
       "    </tr>\n",
       "    <tr>\n",
       "      <th>1</th>\n",
       "      <td>great speakers for the price   got them on sal...</td>\n",
       "      <td>5</td>\n",
       "    </tr>\n",
       "    <tr>\n",
       "      <th>2</th>\n",
       "      <td>i love this jumpsuit! it runs a little large b...</td>\n",
       "      <td>4</td>\n",
       "    </tr>\n",
       "    <tr>\n",
       "      <th>3</th>\n",
       "      <td>works great  instructions were not clear that ...</td>\n",
       "      <td>5</td>\n",
       "    </tr>\n",
       "    <tr>\n",
       "      <th>4</th>\n",
       "      <td>bad  everything was great  good  superior expe...</td>\n",
       "      <td>5</td>\n",
       "    </tr>\n",
       "  </tbody>\n",
       "</table>\n",
       "</div>"
      ],
      "text/plain": [
       "                                        reviews.text  reviews.rating\n",
       "0  we stayed at this hotel for the st patrick's d...               4\n",
       "1  great speakers for the price   got them on sal...               5\n",
       "2  i love this jumpsuit! it runs a little large b...               4\n",
       "3  works great  instructions were not clear that ...               5\n",
       "4  bad  everything was great  good  superior expe...               5"
      ]
     },
     "execution_count": 9,
     "metadata": {},
     "output_type": "execute_result"
    }
   ],
   "source": [
    "df.head()"
   ]
  },
  {
   "cell_type": "code",
   "execution_count": 10,
   "metadata": {},
   "outputs": [],
   "source": [
    "import gensim\n",
    "from gensim import corpora\n",
    "from gensim import models\n",
    "from gensim.utils import simple_preprocess\n",
    "from gensim.parsing.preprocessing import remove_stopwords\n"
   ]
  },
  {
   "cell_type": "code",
   "execution_count": 11,
   "metadata": {},
   "outputs": [],
   "source": [
    "reviews = df['reviews.text'].to_list()"
   ]
  },
  {
   "cell_type": "code",
   "execution_count": null,
   "metadata": {},
   "outputs": [],
   "source": []
  },
  {
   "cell_type": "code",
   "execution_count": 12,
   "metadata": {},
   "outputs": [],
   "source": [
    "docs = [simple_preprocess(remove_stopwords(r)) for r in reviews]"
   ]
  },
  {
   "cell_type": "code",
   "execution_count": null,
   "metadata": {},
   "outputs": [],
   "source": []
  },
  {
   "cell_type": "code",
   "execution_count": 13,
   "metadata": {},
   "outputs": [],
   "source": [
    "review_dict = corpora.Dictionary(docs)"
   ]
  },
  {
   "cell_type": "code",
   "execution_count": 14,
   "metadata": {},
   "outputs": [
    {
     "name": "stdout",
     "output_type": "stream",
     "text": [
      "Dictionary(31531 unique tokens: ['actually', 'beware', 'blinds', 'breakfast', 'comments']...)\n"
     ]
    }
   ],
   "source": [
    "print(review_dict)"
   ]
  },
  {
   "cell_type": "markdown",
   "metadata": {},
   "source": [
    "### Phrase Modeling: Bi-grams and Tri-grams"
   ]
  },
  {
   "cell_type": "code",
   "execution_count": 15,
   "metadata": {},
   "outputs": [],
   "source": [
    "# Build the bigram and trigram models\n",
    "bigram = gensim.models.Phrases(docs, min_count=5, threshold=100) # higher threshold fewer phrases.\n",
    "trigram = gensim.models.Phrases(bigram[docs], threshold=100)\n",
    "# Faster way to get a sentence clubbed as a trigram/bigram\n",
    "bigram_mod = gensim.models.phrases.Phraser(bigram)\n",
    "trigram_mod = gensim.models.phrases.Phraser(trigram)"
   ]
  },
  {
   "cell_type": "code",
   "execution_count": 16,
   "metadata": {},
   "outputs": [],
   "source": [
    "# prepare stopwords\n",
    "from nltk.corpus import stopwords\n",
    "stop_words = stopwords.words('english')\n",
    "stop_words.extend(['it', 're', 've', 'didn'])\n",
    "\n",
    "# Define functions for stopwords, bigrams, trigrams and lemmatization\n",
    "def remove_stopwords(texts):\n",
    "    return [[word for word in simple_preprocess(str(doc)) if word not in stop_words] for doc in texts]\n",
    "def make_bigrams(texts):\n",
    "    return [bigram_mod[doc] for doc in texts]\n",
    "def make_trigrams(texts):\n",
    "    return [trigram_mod[bigram_mod[doc]] for doc in texts]\n",
    "def lemmatization(texts, allowed_postags=['NOUN', 'ADJ', 'VERB', 'ADV']):\n",
    "    \"\"\"https://spacy.io/api/annotation\"\"\"\n",
    "    texts_out = []\n",
    "    for sent in texts:\n",
    "        doc = nlp(\" \".join(sent)) \n",
    "        texts_out.append([token.lemma_ for token in doc if token.pos_ in allowed_postags])\n",
    "    return texts_out"
   ]
  },
  {
   "cell_type": "code",
   "execution_count": 17,
   "metadata": {},
   "outputs": [
    {
     "name": "stdout",
     "output_type": "stream",
     "text": [
      "Requirement already satisfied: en_core_web_sm==2.3.1 from https://github.com/explosion/spacy-models/releases/download/en_core_web_sm-2.3.1/en_core_web_sm-2.3.1.tar.gz#egg=en_core_web_sm==2.3.1 in c:\\users\\tellytenny\\anaconda3\\lib\\site-packages (2.3.1)\n",
      "Requirement already satisfied: spacy<2.4.0,>=2.3.0 in c:\\users\\tellytenny\\anaconda3\\lib\\site-packages (from en_core_web_sm==2.3.1) (2.3.2)\n",
      "Requirement already satisfied: requests<3.0.0,>=2.13.0 in c:\\users\\tellytenny\\appdata\\roaming\\python\\python37\\site-packages (from spacy<2.4.0,>=2.3.0->en_core_web_sm==2.3.1) (2.24.0)\n",
      "Requirement already satisfied: wasabi<1.1.0,>=0.4.0 in c:\\users\\tellytenny\\anaconda3\\lib\\site-packages (from spacy<2.4.0,>=2.3.0->en_core_web_sm==2.3.1) (0.8.0)\n",
      "Requirement already satisfied: catalogue<1.1.0,>=0.0.7 in c:\\users\\tellytenny\\anaconda3\\lib\\site-packages (from spacy<2.4.0,>=2.3.0->en_core_web_sm==2.3.1) (1.0.0)\n",
      "Requirement already satisfied: thinc==7.4.1 in c:\\users\\tellytenny\\anaconda3\\lib\\site-packages (from spacy<2.4.0,>=2.3.0->en_core_web_sm==2.3.1) (7.4.1)\n",
      "Requirement already satisfied: numpy>=1.15.0 in c:\\users\\tellytenny\\anaconda3\\lib\\site-packages (from spacy<2.4.0,>=2.3.0->en_core_web_sm==2.3.1) (1.18.5)\n",
      "Requirement already satisfied: plac<1.2.0,>=0.9.6 in c:\\users\\tellytenny\\anaconda3\\lib\\site-packages (from spacy<2.4.0,>=2.3.0->en_core_web_sm==2.3.1) (1.1.3)\n",
      "Requirement already satisfied: blis<0.5.0,>=0.4.0 in c:\\users\\tellytenny\\anaconda3\\lib\\site-packages (from spacy<2.4.0,>=2.3.0->en_core_web_sm==2.3.1) (0.4.1)\n",
      "Requirement already satisfied: setuptools in c:\\users\\tellytenny\\appdata\\roaming\\python\\python37\\site-packages (from spacy<2.4.0,>=2.3.0->en_core_web_sm==2.3.1) (50.3.0)\n",
      "Requirement already satisfied: srsly<1.1.0,>=1.0.2 in c:\\users\\tellytenny\\anaconda3\\lib\\site-packages (from spacy<2.4.0,>=2.3.0->en_core_web_sm==2.3.1) (1.0.2)\n",
      "Requirement already satisfied: murmurhash<1.1.0,>=0.28.0 in c:\\users\\tellytenny\\anaconda3\\lib\\site-packages (from spacy<2.4.0,>=2.3.0->en_core_web_sm==2.3.1) (1.0.2)\n",
      "Requirement already satisfied: preshed<3.1.0,>=3.0.2 in c:\\users\\tellytenny\\anaconda3\\lib\\site-packages (from spacy<2.4.0,>=2.3.0->en_core_web_sm==2.3.1) (3.0.2)\n",
      "Requirement already satisfied: cymem<2.1.0,>=2.0.2 in c:\\users\\tellytenny\\anaconda3\\lib\\site-packages (from spacy<2.4.0,>=2.3.0->en_core_web_sm==2.3.1) (2.0.3)\n",
      "Requirement already satisfied: tqdm<5.0.0,>=4.38.0 in c:\\users\\tellytenny\\anaconda3\\lib\\site-packages (from spacy<2.4.0,>=2.3.0->en_core_web_sm==2.3.1) (4.50.0)\n",
      "Requirement already satisfied: idna<3,>=2.5 in c:\\users\\tellytenny\\appdata\\roaming\\python\\python37\\site-packages (from requests<3.0.0,>=2.13.0->spacy<2.4.0,>=2.3.0->en_core_web_sm==2.3.1) (2.10)\n",
      "Requirement already satisfied: chardet<4,>=3.0.2 in c:\\users\\tellytenny\\appdata\\roaming\\python\\python37\\site-packages (from requests<3.0.0,>=2.13.0->spacy<2.4.0,>=2.3.0->en_core_web_sm==2.3.1) (3.0.4)\n",
      "Requirement already satisfied: certifi>=2017.4.17 in c:\\users\\tellytenny\\appdata\\roaming\\python\\python37\\site-packages (from requests<3.0.0,>=2.13.0->spacy<2.4.0,>=2.3.0->en_core_web_sm==2.3.1) (2020.6.20)\n",
      "Requirement already satisfied: urllib3!=1.25.0,!=1.25.1,<1.26,>=1.21.1 in c:\\users\\tellytenny\\appdata\\roaming\\python\\python37\\site-packages (from requests<3.0.0,>=2.13.0->spacy<2.4.0,>=2.3.0->en_core_web_sm==2.3.1) (1.25.10)\n",
      "Requirement already satisfied: importlib-metadata>=0.20; python_version < \"3.8\" in c:\\users\\tellytenny\\appdata\\roaming\\python\\python37\\site-packages (from catalogue<1.1.0,>=0.0.7->spacy<2.4.0,>=2.3.0->en_core_web_sm==2.3.1) (1.7.0)\n",
      "Requirement already satisfied: zipp>=0.5 in c:\\users\\tellytenny\\appdata\\roaming\\python\\python37\\site-packages (from importlib-metadata>=0.20; python_version < \"3.8\"->catalogue<1.1.0,>=0.0.7->spacy<2.4.0,>=2.3.0->en_core_web_sm==2.3.1) (3.1.0)\n",
      "[+] Download and installation successful\n",
      "You can now load the model via spacy.load('en_core_web_sm')\n"
     ]
    }
   ],
   "source": [
    "!python -m spacy download en_core_web_sm"
   ]
  },
  {
   "cell_type": "code",
   "execution_count": 18,
   "metadata": {},
   "outputs": [
    {
     "name": "stdout",
     "output_type": "stream",
     "text": [
      "[['stay', 'nice', 'hotel', 'stay', 'suite', 'actually', 'kitchen', 'include', 'garbage', 'disposal', 'perfect', 'family', 'staying', 'day', 'room', 'face', 'room', 'open', 'blind', 'room', 'request', 'room', 'face', 'street', 'hotel', 'server', 'hot', 'breakfast', 'actually', 'pretty', 'good', 'supervised', 'good', 'went', 'second', 'hotel', 'parking', 'space', 'limit', 'small', 'leave', 'hotel', 'excellent', 'location', 'thank', 'take', 'time', 'pleasant', 'comment', 'downtown', 'ecstatic', 'hear', 'enjoy', 'room', 'morning', 'breakfast', 'spread', 'unbeatable', 'location', 'look', 'forward_hoste', 'future', 'happy', 'travel']]\n"
     ]
    }
   ],
   "source": [
    "# Remove Stop Words\n",
    "data_words_nostops = remove_stopwords(docs)\n",
    "\n",
    "# Form Bigrams\n",
    "data_words_bigrams = make_bigrams(data_words_nostops)\n",
    "\n",
    "# Initialize spacy 'en' model, keeping only tagger component (for efficiency)\n",
    "nlp = spacy.load('en_core_web_sm', disable=['parser', 'ner'])\n",
    "\n",
    "# Do lemmatization keeping only noun, adj, vb, adv\n",
    "data_lemmatized = lemmatization(data_words_bigrams, allowed_postags=['NOUN', 'ADJ', 'VERB', 'ADV'])\n",
    "\n",
    "print(data_lemmatized[:1])"
   ]
  },
  {
   "cell_type": "markdown",
   "metadata": {},
   "source": [
    "### Data transformation: Corpus and Dictionary"
   ]
  },
  {
   "cell_type": "code",
   "execution_count": 19,
   "metadata": {},
   "outputs": [
    {
     "name": "stdout",
     "output_type": "stream",
     "text": [
      "[[(0, 2), (1, 1), (2, 2), (3, 1), (4, 1), (5, 1), (6, 1), (7, 1), (8, 1), (9, 1), (10, 2), (11, 1), (12, 1), (13, 1), (14, 1), (15, 2), (16, 1), (17, 1), (18, 1), (19, 4), (20, 1), (21, 1), (22, 1), (23, 1), (24, 2), (25, 1), (26, 1), (27, 1), (28, 1), (29, 1), (30, 1), (31, 1), (32, 1), (33, 1), (34, 5), (35, 1), (36, 1), (37, 1), (38, 1), (39, 1), (40, 2), (41, 1), (42, 1), (43, 1), (44, 1), (45, 1), (46, 1), (47, 1), (48, 1), (49, 1), (50, 1)]]\n"
     ]
    }
   ],
   "source": [
    "# Create Dictionary\n",
    "id2word = corpora.Dictionary(data_lemmatized)\n",
    "\n",
    "# Create Corpus\n",
    "texts = data_lemmatized\n",
    "\n",
    "# Term Document Frequency (Bag of Words)\n",
    "corpus = [id2word.doc2bow(text) for text in texts]\n",
    "\n",
    "# View\n",
    "print(corpus[:1])"
   ]
  },
  {
   "cell_type": "markdown",
   "metadata": {},
   "source": [
    "### Base Model"
   ]
  },
  {
   "cell_type": "code",
   "execution_count": 20,
   "metadata": {},
   "outputs": [],
   "source": [
    "from gensim.models import LdaModel, LdaMulticore"
   ]
  },
  {
   "cell_type": "code",
   "execution_count": 21,
   "metadata": {},
   "outputs": [],
   "source": [
    "lda_model = LdaMulticore(corpus=corpus,\n",
    "                         id2word=id2word,\n",
    "                         random_state=100,\n",
    "                         num_topics=10,\n",
    "                         chunksize=100,\n",
    "                         passes =10,\n",
    "                         per_word_topics=True)"
   ]
  },
  {
   "cell_type": "code",
   "execution_count": 22,
   "metadata": {},
   "outputs": [
    {
     "name": "stdout",
     "output_type": "stream",
     "text": [
      "[(0,\n",
      "  '0.017*\"tell\" + 0.017*\"go\" + 0.017*\"check\" + 0.015*\"say\" + 0.014*\"try\" + '\n",
      "  '0.014*\"time\" + 0.013*\"get\" + 0.012*\"ask\" + 0.012*\"day\" + 0.011*\"book\"'),\n",
      " (1,\n",
      "  '0.029*\"dress\" + 0.027*\"size\" + 0.026*\"wear\" + 0.024*\"love\" + 0.024*\"look\" + '\n",
      "  '0.022*\"fit\" + 0.019*\"color\" + 0.015*\"small\" + 0.014*\"great\" + '\n",
      "  '0.012*\"fabric\"'),\n",
      " (2,\n",
      "  '0.047*\"cheap\" + 0.027*\"bright\" + 0.024*\"drape\" + 0.022*\"surprise\" + '\n",
      "  '0.017*\"stretchy\" + 0.017*\"snug\" + 0.017*\"carry\" + 0.014*\"stylish\" + '\n",
      "  '0.014*\"download\" + 0.013*\"embroidery\"'),\n",
      " (3,\n",
      "  '0.034*\"use\" + 0.025*\"easy\" + 0.024*\"work\" + 0.021*\"remote\" + 0.020*\"great\" '\n",
      "  '+ 0.016*\"love\" + 0.016*\"buy\" + 0.015*\"device\" + 0.013*\"tv\" + '\n",
      "  '0.012*\"tablet\"'),\n",
      " (4,\n",
      "  '0.028*\"suit\" + 0.027*\"smell\" + 0.026*\"daughter\" + 0.023*\"back\" + '\n",
      "  '0.020*\"cover\" + 0.020*\"gift\" + 0.019*\"twice\" + 0.018*\"bag\" + '\n",
      "  '0.017*\"construction\" + 0.017*\"terrible\"'),\n",
      " (5,\n",
      "  '0.047*\"good\" + 0.045*\"sound\" + 0.044*\"great\" + 0.037*\"price\" + '\n",
      "  '0.024*\"quality\" + 0.024*\"speaker\" + 0.015*\"buy\" + 0.014*\"product\" + '\n",
      "  '0.013*\"well\" + 0.011*\"headphone\"'),\n",
      " (6,\n",
      "  '0.045*\"stay\" + 0.044*\"hotel\" + 0.035*\"room\" + 0.027*\"staff\" + 0.020*\"great\" '\n",
      "  '+ 0.018*\"good\" + 0.017*\"breakfast\" + 0.017*\"clean\" + 0.014*\"location\" + '\n",
      "  '0.013*\"friendly\"'),\n",
      " (7,\n",
      "  '0.036*\"love\" + 0.024*\"place\" + 0.024*\"great\" + 0.023*\"friend\" + '\n",
      "  '0.023*\"awesome\" + 0.020*\"year\" + 0.019*\"perfect\" + 0.018*\"family\" + '\n",
      "  '0.018*\"view\" + 0.017*\"amazing\"'),\n",
      " (8,\n",
      "  '0.023*\"button\" + 0.018*\"pocket\" + 0.016*\"like\" + 0.015*\"dark\" + '\n",
      "  '0.013*\"pink\" + 0.013*\"wash\" + 0.012*\"favorite\" + 0.010*\"coat\" + '\n",
      "  '0.009*\"incredibly\" + 0.009*\"fan\"'),\n",
      " (9,\n",
      "  '0.096*\"room\" + 0.023*\"night\" + 0.022*\"bed\" + 0.016*\"small\" + '\n",
      "  '0.015*\"bathroom\" + 0.013*\"bad\" + 0.013*\"floor\" + 0.013*\"clean\" + '\n",
      "  '0.012*\"good\" + 0.012*\"door\"')]\n"
     ]
    }
   ],
   "source": [
    "from pprint import pprint\n",
    "# Print the Keyword in the 10 topics\n",
    "pprint(lda_model.print_topics())\n",
    "doc_lda = lda_model[corpus]"
   ]
  },
  {
   "cell_type": "code",
   "execution_count": 23,
   "metadata": {
    "scrolled": false
   },
   "outputs": [
    {
     "name": "stdout",
     "output_type": "stream",
     "text": [
      "\n",
      "Coherence Score:  0.5249171874372575\n"
     ]
    }
   ],
   "source": [
    "from gensim.models import CoherenceModel\n",
    "# Compute Coherence Score\n",
    "coherence_model_lda = CoherenceModel(model=lda_model, texts=data_lemmatized, dictionary=id2word, coherence='c_v')\n",
    "coherence_lda = coherence_model_lda.get_coherence()\n",
    "print('\\nCoherence Score: ', coherence_lda)"
   ]
  },
  {
   "cell_type": "markdown",
   "metadata": {},
   "source": [
    "### Hyperparameter Tuning"
   ]
  },
  {
   "cell_type": "code",
   "execution_count": 24,
   "metadata": {},
   "outputs": [],
   "source": [
    "# supporting function\n",
    "def compute_coherence_values(corpus, dictionary, k):\n",
    "    \n",
    "    lda_model = gensim.models.LdaMulticore(corpus=corpus,\n",
    "                                           id2word=id2word,\n",
    "                                           num_topics=k, \n",
    "                                           random_state=100,\n",
    "                                           chunksize=100,\n",
    "                                           passes=10,\n",
    "                                           per_word_topics=True)\n",
    "    \n",
    "    coherence_model_lda = CoherenceModel(model=lda_model, texts=data_lemmatized, dictionary=id2word, coherence='c_v')\n",
    "    \n",
    "    return coherence_model_lda.get_coherence()"
   ]
  },
  {
   "cell_type": "code",
   "execution_count": 25,
   "metadata": {},
   "outputs": [],
   "source": [
    "import numpy as np\n",
    "# Topics range\n",
    "min_topics = 3\n",
    "max_topics = 11\n",
    "step_size = 1\n",
    "topics_range = list(np.arange(min_topics, max_topics, step_size))\n",
    "# Validation sets\n",
    "model_results = {'Topics': [],'Coherence': []}\n"
   ]
  },
  {
   "cell_type": "code",
   "execution_count": 26,
   "metadata": {},
   "outputs": [
    {
     "data": {
      "text/plain": [
       "[3, 4, 5, 6, 7, 8, 9, 10]"
      ]
     },
     "execution_count": 26,
     "metadata": {},
     "output_type": "execute_result"
    }
   ],
   "source": [
    "topics_range"
   ]
  },
  {
   "cell_type": "code",
   "execution_count": 28,
   "metadata": {},
   "outputs": [],
   "source": [
    "# Can take a long time to run\n",
    "for k in topics_range:\n",
    "    # get the coherence score for the given parameters\n",
    "    cv = compute_coherence_values(corpus, dictionary=id2word, k=k)\n",
    "    # Save the model results\n",
    "    model_results['Topics'].append(k)\n",
    "    model_results['Coherence'].append(cv)\n",
    "    pd.DataFrame(model_results).to_csv('lda_tuning_results.csv', index=False)\n",
    "  \n"
   ]
  },
  {
   "cell_type": "code",
   "execution_count": 29,
   "metadata": {},
   "outputs": [],
   "source": [
    "result = pd.DataFrame.from_dict(model_results)"
   ]
  },
  {
   "cell_type": "code",
   "execution_count": null,
   "metadata": {},
   "outputs": [],
   "source": []
  },
  {
   "cell_type": "code",
   "execution_count": null,
   "metadata": {},
   "outputs": [],
   "source": [
    "result"
   ]
  },
  {
   "cell_type": "code",
   "execution_count": 30,
   "metadata": {},
   "outputs": [
    {
     "data": {
      "text/plain": [
       "Text(0.5, 0, 'Topic Numbers')"
      ]
     },
     "execution_count": 30,
     "metadata": {},
     "output_type": "execute_result"
    },
    {
     "data": {
      "image/png": "[encoded data removed]",
      "text/plain": [
       "<Figure size 432x288 with 1 Axes>"
      ]
     },
     "metadata": {
      "needs_background": "light"
     },
     "output_type": "display_data"
    }
   ],
   "source": [
    "import matplotlib.pyplot as plt\n",
    "plt.plot(result['Topics'], result['Coherence'])\n",
    "plt.ylabel('Coherence Score')\n",
    "plt.xlabel('Topic Numbers')"
   ]
  },
  {
   "cell_type": "markdown",
   "metadata": {},
   "source": [
    "### Final Model (Bag-of-Words & Tf-idf)"
   ]
  },
  {
   "cell_type": "code",
   "execution_count": 31,
   "metadata": {},
   "outputs": [],
   "source": [
    "#Bag-of-words\n",
    "lda_model = gensim.models.LdaMulticore(corpus=corpus,\n",
    "                                        id2word=id2word,\n",
    "                                        num_topics=3, \n",
    "                                        random_state=100,\n",
    "                                        chunksize=100,\n",
    "                                        passes=10,\n",
    "                                        alpha=0.01,\n",
    "                                        eta=0.9)"
   ]
  },
  {
   "cell_type": "code",
   "execution_count": 32,
   "metadata": {},
   "outputs": [
    {
     "name": "stdout",
     "output_type": "stream",
     "text": [
      "\n",
      "Coherence Score (Topic Number = 3):  0.5891916429213772\n"
     ]
    }
   ],
   "source": [
    "coherence_model_lda = CoherenceModel(model=lda_model, texts=data_lemmatized, dictionary=id2word, coherence='c_v')\n",
    "coherence_lda = coherence_model_lda.get_coherence()\n",
    "print('\\nCoherence Score (Topic Number = 3): ', coherence_lda)"
   ]
  },
  {
   "cell_type": "code",
   "execution_count": 33,
   "metadata": {},
   "outputs": [],
   "source": [
    "# Tf-idf\n",
    "tfidf = models.TfidfModel(corpus)"
   ]
  },
  {
   "cell_type": "code",
   "execution_count": 34,
   "metadata": {},
   "outputs": [],
   "source": [
    "lda_tfidf = LdaMulticore(corpus=tfidf[corpus],\n",
    "                         id2word=id2word,\n",
    "                         random_state=100,\n",
    "                         num_topics=3,\n",
    "                         chunksize=100,\n",
    "                         passes=10,\n",
    "                         per_word_topics=True)"
   ]
  },
  {
   "cell_type": "code",
   "execution_count": 35,
   "metadata": {},
   "outputs": [
    {
     "name": "stdout",
     "output_type": "stream",
     "text": [
      "\n",
      "Coherence Score (Topic Number = 3):  0.6151737459596557\n"
     ]
    }
   ],
   "source": [
    "coherence_model_lda_tfidf = CoherenceModel(model=lda_tfidf, texts=data_lemmatized, dictionary=id2word, coherence='c_v')\n",
    "coherence_lda_tfidf = coherence_model_lda_tfidf.get_coherence()\n",
    "print('\\nCoherence Score (Topic Number = 3): ', coherence_lda_tfidf)"
   ]
  },
  {
   "cell_type": "markdown",
   "metadata": {},
   "source": [
    "### Visualize Results"
   ]
  },
  {
   "cell_type": "code",
   "execution_count": 36,
   "metadata": {},
   "outputs": [],
   "source": [
    "import pyLDAvis\n",
    "import pyLDAvis.gensim"
   ]
  },
  {
   "cell_type": "code",
   "execution_count": 37,
   "metadata": {},
   "outputs": [],
   "source": [
    "pyLDAvis.enable_notebook()"
   ]
  },
  {
   "cell_type": "markdown",
   "metadata": {},
   "source": [
    "#### Bag-of-words"
   ]
  },
  {
   "cell_type": "code",
   "execution_count": 38,
   "metadata": {},
   "outputs": [
    {
     "data": {
      "text/html": [
       "\n",
       "<link rel=\"stylesheet\" type=\"text/css\" href=\"https://cdn.rawgit.com/bmabey/pyLDAvis/files/ldavis.v1.0.0.css\">\n",
       "\n",
       "\n",
       "<div id=\"ldavis_el3063626185011678881664640052\"></div>\n",
       "<script type=\"text/javascript\">\n",
       "\n",
       "var ldavis_el3063626185011678881664640052_data = {\"mdsDat\": {\"x\": [0.15227222127188692, -0.20394195472958587, 0.05166973345769899], \"y\": [-0.11189447660112875, -0.04403892012360616, 0.15593339672473497], \"topics\": [1, 2, 3], \"cluster\": [1, 1, 1], \"Freq\": [47.134132385253906, 37.107425689697266, 15.758447647094727]}, \"tinfo\": {\"Term\": [\"room\", \"stay\", \"hotel\", \"dress\", \"wear\", \"fit\", \"size\", \"staff\", \"color\", \"use\", \"clean\", \"buy\", \"love\", \"breakfast\", \"sound\", \"fabric\", \"great\", \"good\", \"remote\", \"easy\", \"work\", \"location\", \"flattering\", \"friendly\", \"look\", \"device\", \"bed\", \"order\", \"soft\", \"purchase\", \"hotel\", \"stay\", \"staff\", \"breakfast\", \"clean\", \"location\", \"bed\", \"restaurant\", \"guest\", \"helpful\", \"visit\", \"parking\", \"bathroom\", \"desk\", \"property\", \"food\", \"downtown\", \"lobby\", \"morning\", \"spacious\", \"manager\", \"shuttle\", \"pleasant\", \"amenity\", \"suite\", \"pool\", \"quiet\", \"elevator\", \"dear\", \"city\", \"room\", \"friendly\", \"welcome\", \"coffee\", \"park\", \"service\", \"thank\", \"experience\", \"night\", \"check\", \"feedback\", \"place\", \"walk\", \"area\", \"enjoy\", \"close\", \"good\", \"time\", \"free\", \"nice\", \"great\", \"comfortable\", \"take\", \"need\", \"day\", \"look\", \"dress\", \"wear\", \"fit\", \"fabric\", \"flattering\", \"material\", \"length\", \"shirt\", \"waist\", \"cute\", \"petite\", \"retailer\", \"pant\", \"skirt\", \"sweater\", \"sleeve\", \"top\", \"jean\", \"shoulder\", \"chest\", \"bust\", \"lbs\", \"blouse\", \"pattern\", \"arm\", \"hip\", \"boxy\", \"stretch\", \"legging\", \"jacket\", \"color\", \"medium\", \"pocket\", \"loose\", \"soft\", \"size\", \"tight\", \"cut\", \"order\", \"true\", \"black\", \"look\", \"love\", \"usually\", \"style\", \"small\", \"short\", \"run\", \"large\", \"perfect\", \"try\", \"buy\", \"little\", \"long\", \"beautiful\", \"think\", \"great\", \"feel\", \"bit\", \"get\", \"comfortable\", \"go\", \"nice\", \"work\", \"remote\", \"device\", \"speaker\", \"tablet\", \"app\", \"screen\", \"headphone\", \"video\", \"harmony\", \"alexa\", \"camera\", \"bluetooth\", \"bass\", \"setup\", \"keyboard\", \"echo\", \"kindle\", \"program\", \"battery\", \"smart\", \"download\", \"function\", \"user\", \"wireless\", \"install\", \"software\", \"portable\", \"audio\", \"radio\", \"ipad\", \"product\", \"control\", \"sound\", \"music\", \"use\", \"set\", \"play\", \"feature\", \"tv\", \"easy\", \"phone\", \"watch\", \"work\", \"buy\", \"great\", \"good\", \"button\", \"purchase\", \"turn\", \"price\", \"love\", \"well\", \"need\", \"time\", \"quality\", \"get\", \"new\", \"want\"], \"Freq\": [16551.0, 12655.0, 12544.0, 8221.0, 7297.0, 6184.0, 8011.0, 7156.0, 5350.0, 3089.0, 5402.0, 4623.0, 9799.0, 4620.0, 1957.0, 3266.0, 13482.0, 9831.0, 1661.0, 3186.0, 5325.0, 3846.0, 2470.0, 3609.0, 9416.0, 1183.0, 2935.0, 3636.0, 2520.0, 2662.0, 12542.40234375, 12653.302734375, 7155.2177734375, 4619.0654296875, 5399.65576171875, 3844.367431640625, 2933.5732421875, 2037.512451171875, 1989.564208984375, 2160.017822265625, 1854.76220703125, 1553.4156494140625, 1370.983642578125, 1409.3687744140625, 1225.1231689453125, 1212.56884765625, 941.8338012695312, 914.5853271484375, 1164.8680419921875, 807.9222412109375, 813.6837768554688, 643.7681274414062, 669.1115112304688, 570.4431762695312, 558.3064575195312, 1706.2086181640625, 1061.225341796875, 533.552490234375, 555.5011596679688, 566.5888061523438, 16282.6845703125, 3557.260498046875, 787.8466796875, 735.2672729492188, 615.3570556640625, 2477.732421875, 3351.94775390625, 2341.662109375, 3644.306640625, 2458.31787109375, 1035.326171875, 2889.7177734375, 1576.16259765625, 2996.115478515625, 1939.982421875, 1905.2093505859375, 6025.4482421875, 4093.81298828125, 1754.95849609375, 4205.18701171875, 6248.69970703125, 3109.784423828125, 1933.06591796875, 2134.886474609375, 1910.5216064453125, 2175.01708984375, 8220.095703125, 7295.2001953125, 6182.39013671875, 3265.13818359375, 2469.013427734375, 2032.0509033203125, 1873.3082275390625, 1713.717529296875, 1573.485595703125, 2073.849365234375, 1600.3306884765625, 1526.3511962890625, 1482.764404296875, 1429.3271484375, 1380.71923828125, 1230.7471923828125, 1261.4249267578125, 833.89111328125, 878.7017822265625, 741.1043090820312, 728.2523193359375, 686.98779296875, 654.4287719726562, 712.8984375, 792.1334228515625, 756.8430786132812, 531.8018798828125, 630.1068725585938, 512.214599609375, 473.5372314453125, 5293.62353515625, 1688.802734375, 608.7825927734375, 979.8499145507812, 2428.530517578125, 7446.21826171875, 1279.9669189453125, 1411.644775390625, 3284.0263671875, 1316.84716796875, 1167.33544921875, 6713.7666015625, 6941.9375, 1675.16015625, 1504.361083984375, 4292.6767578125, 2086.735595703125, 2310.369384765625, 2656.6142578125, 2774.398193359375, 2735.028564453125, 2825.4228515625, 2825.927490234375, 2324.25048828125, 2145.60791015625, 2260.97705078125, 4097.37646484375, 2300.275146484375, 1943.0665283203125, 2196.882568359375, 2258.578369140625, 1975.9957275390625, 2005.5345458984375, 1983.6011962890625, 1660.0755615234375, 1181.8050537109375, 1027.87451171875, 955.1012573242188, 605.621337890625, 631.6870727539062, 448.3987121582031, 340.6034851074219, 319.33587646484375, 297.5039367675781, 290.4064636230469, 264.2126159667969, 260.1393737792969, 318.1416015625, 254.68328857421875, 236.91397094726562, 226.25094604492188, 277.8072509765625, 278.54296875, 212.66664123535156, 199.2375030517578, 240.09683227539062, 191.55197143554688, 213.038330078125, 163.14002990722656, 151.960205078125, 154.3782958984375, 142.00987243652344, 156.89320373535156, 144.37022399902344, 1123.5020751953125, 522.1080932617188, 1838.6173095703125, 548.9483642578125, 2287.45263671875, 931.2084350585938, 471.91619873046875, 614.7828369140625, 936.575439453125, 1789.2457275390625, 554.7994995117188, 486.0343933105469, 1985.24365234375, 1796.927001953125, 3136.634765625, 2345.785400390625, 650.4708251953125, 964.937744140625, 525.5980834960938, 1026.6622314453125, 1644.7354736328125, 919.1162719726562, 932.3062744140625, 975.017578125, 748.7352294921875, 815.1610717773438, 628.0599975585938, 714.321044921875], \"Total\": [16551.0, 12655.0, 12544.0, 8221.0, 7297.0, 6184.0, 8011.0, 7156.0, 5350.0, 3089.0, 5402.0, 4623.0, 9799.0, 4620.0, 1957.0, 3266.0, 13482.0, 9831.0, 1661.0, 3186.0, 5325.0, 3846.0, 2470.0, 3609.0, 9416.0, 1183.0, 2935.0, 3636.0, 2520.0, 2662.0, 12544.1083984375, 12655.31640625, 7156.9296875, 4620.76123046875, 5402.22607421875, 3846.436767578125, 2935.46875, 2039.2391357421875, 1991.33740234375, 2162.130859375, 1856.6234130859375, 1555.1553955078125, 1372.7435302734375, 1411.2933349609375, 1226.8160400390625, 1214.3853759765625, 943.5270385742188, 916.29150390625, 1167.138671875, 809.6221923828125, 815.5234985351562, 645.4785766601562, 670.9503173828125, 572.1324462890625, 560.0059204101562, 1711.552490234375, 1064.5927734375, 535.2664184570312, 557.2930297851562, 568.4344482421875, 16551.427734375, 3609.6328125, 791.0745239257812, 737.8745727539062, 617.391845703125, 2530.864990234375, 3446.718017578125, 2438.22802734375, 3859.1884765625, 2582.322998046875, 1051.3314208984375, 3239.379150390625, 1675.806640625, 3467.162109375, 2181.37548828125, 2179.351806640625, 9831.5107421875, 5964.552734375, 1985.18896484375, 6669.20556640625, 13482.7109375, 5410.20703125, 2767.84521484375, 4083.64111328125, 2900.129150390625, 9416.669921875, 8221.8203125, 7297.25634765625, 6184.8330078125, 3266.911376953125, 2470.70947265625, 2033.9046630859375, 1875.16796875, 1715.4769287109375, 1575.1773681640625, 2076.125, 1602.1087646484375, 1528.0574951171875, 1484.476806640625, 1431.026611328125, 1382.4237060546875, 1232.4398193359375, 1263.7720947265625, 835.5894775390625, 880.58203125, 742.8682250976562, 729.9940795898438, 688.6962890625, 656.1259765625, 714.8113403320312, 794.3487548828125, 759.0272216796875, 533.494384765625, 632.1554565429688, 513.910400390625, 475.306640625, 5350.20751953125, 1702.0555419921875, 611.0831298828125, 989.490234375, 2520.642822265625, 8011.76171875, 1326.3828125, 1477.68212890625, 3636.32080078125, 1386.595947265625, 1234.462890625, 9416.669921875, 9799.189453125, 1880.6876220703125, 1666.303955078125, 6178.0166015625, 2550.040771484375, 2916.1904296875, 3656.184326171875, 3892.798095703125, 3921.24365234375, 4623.3671875, 4681.251953125, 3382.7080078125, 2945.900390625, 3293.20703125, 13482.7109375, 4021.51318359375, 2674.842529296875, 4481.9833984375, 5410.20703125, 4095.53271484375, 6669.20556640625, 5325.49853515625, 1661.8624267578125, 1183.5758056640625, 1029.6380615234375, 956.8389892578125, 607.3787231445312, 633.736083984375, 450.1517028808594, 342.3782043457031, 321.060546875, 299.23681640625, 292.2421569824219, 265.94268798828125, 261.882568359375, 320.31781005859375, 256.42791748046875, 238.66067504882812, 227.9903564453125, 279.97833251953125, 280.7763366699219, 214.46759033203125, 200.9677276611328, 242.38816833496094, 193.569091796875, 215.35775756835938, 164.9814453125, 153.68780517578125, 156.20542907714844, 143.7427978515625, 158.83920288085938, 146.1720428466797, 1173.9088134765625, 539.3762817382812, 1957.625244140625, 616.955078125, 3089.4287109375, 1138.35009765625, 540.2882080078125, 771.8427734375, 1338.205078125, 3186.93017578125, 732.118408203125, 658.578857421875, 5325.49853515625, 4623.3671875, 13482.7109375, 9831.5107421875, 1262.603271484375, 2662.16455078125, 883.6498413085938, 3499.9130859375, 9799.189453125, 3256.931640625, 4083.64111328125, 5964.552734375, 2626.3046875, 4481.9833984375, 1740.096435546875, 3493.047607421875], \"Category\": [\"Default\", \"Default\", \"Default\", \"Default\", \"Default\", \"Default\", \"Default\", \"Default\", \"Default\", \"Default\", \"Default\", \"Default\", \"Default\", \"Default\", \"Default\", \"Default\", \"Default\", \"Default\", \"Default\", \"Default\", \"Default\", \"Default\", \"Default\", \"Default\", \"Default\", \"Default\", \"Default\", \"Default\", \"Default\", \"Default\", \"Topic1\", \"Topic1\", \"Topic1\", \"Topic1\", \"Topic1\", \"Topic1\", \"Topic1\", \"Topic1\", \"Topic1\", \"Topic1\", \"Topic1\", \"Topic1\", \"Topic1\", \"Topic1\", \"Topic1\", \"Topic1\", \"Topic1\", \"Topic1\", \"Topic1\", \"Topic1\", \"Topic1\", \"Topic1\", \"Topic1\", \"Topic1\", \"Topic1\", \"Topic1\", \"Topic1\", \"Topic1\", \"Topic1\", \"Topic1\", \"Topic1\", \"Topic1\", \"Topic1\", \"Topic1\", \"Topic1\", \"Topic1\", \"Topic1\", \"Topic1\", \"Topic1\", \"Topic1\", \"Topic1\", \"Topic1\", \"Topic1\", \"Topic1\", \"Topic1\", \"Topic1\", \"Topic1\", \"Topic1\", \"Topic1\", \"Topic1\", \"Topic1\", \"Topic1\", \"Topic1\", \"Topic1\", \"Topic1\", \"Topic1\", \"Topic2\", \"Topic2\", \"Topic2\", \"Topic2\", \"Topic2\", \"Topic2\", \"Topic2\", \"Topic2\", \"Topic2\", \"Topic2\", \"Topic2\", \"Topic2\", \"Topic2\", \"Topic2\", \"Topic2\", \"Topic2\", \"Topic2\", \"Topic2\", \"Topic2\", \"Topic2\", \"Topic2\", \"Topic2\", \"Topic2\", \"Topic2\", \"Topic2\", \"Topic2\", \"Topic2\", \"Topic2\", \"Topic2\", \"Topic2\", \"Topic2\", \"Topic2\", \"Topic2\", \"Topic2\", \"Topic2\", \"Topic2\", \"Topic2\", \"Topic2\", \"Topic2\", \"Topic2\", \"Topic2\", \"Topic2\", \"Topic2\", \"Topic2\", \"Topic2\", \"Topic2\", \"Topic2\", \"Topic2\", \"Topic2\", \"Topic2\", \"Topic2\", \"Topic2\", \"Topic2\", \"Topic2\", \"Topic2\", \"Topic2\", \"Topic2\", \"Topic2\", \"Topic2\", \"Topic2\", \"Topic2\", \"Topic2\", \"Topic2\", \"Topic2\", \"Topic3\", \"Topic3\", \"Topic3\", \"Topic3\", \"Topic3\", \"Topic3\", \"Topic3\", \"Topic3\", \"Topic3\", \"Topic3\", \"Topic3\", \"Topic3\", \"Topic3\", \"Topic3\", \"Topic3\", \"Topic3\", \"Topic3\", \"Topic3\", \"Topic3\", \"Topic3\", \"Topic3\", \"Topic3\", \"Topic3\", \"Topic3\", \"Topic3\", \"Topic3\", \"Topic3\", \"Topic3\", \"Topic3\", \"Topic3\", \"Topic3\", \"Topic3\", \"Topic3\", \"Topic3\", \"Topic3\", \"Topic3\", \"Topic3\", \"Topic3\", \"Topic3\", \"Topic3\", \"Topic3\", \"Topic3\", \"Topic3\", \"Topic3\", \"Topic3\", \"Topic3\", \"Topic3\", \"Topic3\", \"Topic3\", \"Topic3\", \"Topic3\", \"Topic3\", \"Topic3\", \"Topic3\", \"Topic3\", \"Topic3\", \"Topic3\", \"Topic3\"], \"logprob\": [30.0, 29.0, 28.0, 27.0, 26.0, 25.0, 24.0, 23.0, 22.0, 21.0, 20.0, 19.0, 18.0, 17.0, 16.0, 15.0, 14.0, 13.0, 12.0, 11.0, 10.0, 9.0, 8.0, 7.0, 6.0, 5.0, 4.0, 3.0, 2.0, 1.0, -3.5947999954223633, -3.5859999656677246, -4.156099796295166, -4.593699932098389, -4.437600135803223, -4.777299880981445, -5.047699928283691, -5.412199974060059, -5.435999870300293, -5.353799819946289, -5.506199836730957, -5.683499813079834, -5.8084001541137695, -5.780799865722656, -5.920899868011475, -5.93120002746582, -6.183800220489502, -6.213200092315674, -5.97130012512207, -6.337200164794922, -6.330100059509277, -6.564300060272217, -6.525700092315674, -6.685200214385986, -6.7067999839782715, -5.589600086212158, -6.064499855041504, -6.752099990844727, -6.7118000984191895, -6.691999912261963, -3.3338000774383545, -4.854899883270264, -6.362400054931641, -6.431399822235107, -6.609499931335449, -5.216599941253662, -4.914400100708008, -5.2729997634887695, -4.830699920654297, -5.224400043487549, -6.089200019836426, -5.062699794769287, -5.668900012969971, -5.026599884033203, -5.46120023727417, -5.479300022125244, -4.327899932861328, -4.714399814605713, -5.561500072479248, -4.687600135803223, -4.291500091552734, -4.9893999099731445, -5.464799880981445, -5.365499973297119, -5.476500034332275, -5.34689998626709, -3.77810001373291, -3.8975000381469727, -4.063000202178955, -4.701399803161621, -4.980899810791016, -5.1757001876831055, -5.256999969482422, -5.346099853515625, -5.431399822235107, -5.155300140380859, -5.4145002365112305, -5.4618000984191895, -5.490799903869629, -5.527500152587891, -5.562099933624268, -5.67710018157959, -5.652500152587891, -6.066400051116943, -6.013999938964844, -6.184299945831299, -6.2017998695373535, -6.260200023651123, -6.308700084686279, -6.223100185394287, -6.117800235748291, -6.163300037384033, -6.516200065612793, -6.34660005569458, -6.553699970245361, -6.632299900054932, -4.218200206756592, -5.3607001304626465, -6.38100004196167, -5.905099868774414, -4.997399806976318, -3.877000093460083, -5.637899875640869, -5.539999961853027, -4.695700168609619, -5.609499931335449, -5.730000019073486, -3.980600118637085, -3.9470999240875244, -5.368800163269043, -5.476399898529053, -4.427800178527832, -5.149099826812744, -5.047299861907959, -4.907700061798096, -4.864299774169922, -4.878600120544434, -4.846099853515625, -4.845900058746338, -5.041299819946289, -5.121300220489502, -5.068900108337402, -4.474400043487549, -5.051700115203857, -5.2204999923706055, -5.097700119018555, -5.070000171661377, -5.203700065612793, -5.188799858093262, -5.19980001449585, -4.521399974822998, -4.861199855804443, -5.000800132751465, -5.07420015335083, -5.529799938201904, -5.487599849700928, -5.830399990081787, -6.105299949645996, -6.1697998046875, -6.240600109100342, -6.264800071716309, -6.359300136566162, -6.374800205230713, -6.173500061035156, -6.395999908447266, -6.468299865722656, -6.514400005340576, -6.309100151062012, -6.30649995803833, -6.576300144195557, -6.641499996185303, -6.454999923706055, -6.6809000968933105, -6.5746002197265625, -6.841400146484375, -6.912399768829346, -6.896599769592285, -6.980100154876709, -6.880499839782715, -6.963699817657471, -4.911799907684326, -5.678199768066406, -4.419300079345703, -5.627999782562256, -4.200799942016602, -5.099599838256836, -5.779200077056885, -5.514800071716309, -5.093800067901611, -4.446499824523926, -5.617400169372559, -5.749800205230713, -4.34250020980835, -4.442200183868408, -3.8850998878479004, -4.1757001876831055, -5.4583001136779785, -5.064000129699707, -5.671500205993652, -5.001999855041504, -4.530700206756592, -5.112599849700928, -5.098400115966797, -5.053599834442139, -5.317699909210205, -5.232699871063232, -5.4934000968933105, -5.364699840545654], \"loglift\": [30.0, 29.0, 28.0, 27.0, 26.0, 25.0, 24.0, 23.0, 22.0, 21.0, 20.0, 19.0, 18.0, 17.0, 16.0, 15.0, 14.0, 13.0, 12.0, 11.0, 10.0, 9.0, 8.0, 7.0, 6.0, 5.0, 4.0, 3.0, 2.0, 1.0, 0.7519999742507935, 0.7519999742507935, 0.7519000172615051, 0.751800000667572, 0.7516999840736389, 0.7516000270843506, 0.7515000104904175, 0.7512999773025513, 0.7512999773025513, 0.7512000203132629, 0.7512000203132629, 0.7511000037193298, 0.7508999705314636, 0.7508000135421753, 0.7508000135421753, 0.7506999969482422, 0.7504000067710876, 0.7502999901771545, 0.7501999735832214, 0.7501000165939331, 0.7498999834060669, 0.7494999766349792, 0.7494000196456909, 0.7491999864578247, 0.7491000294685364, 0.7490000128746033, 0.7490000128746033, 0.7490000128746033, 0.7490000128746033, 0.7488999962806702, 0.73580002784729, 0.7376000285148621, 0.7480999827384949, 0.7486000061035156, 0.7488999962806702, 0.7310000061988831, 0.7243000268936157, 0.7117999792098999, 0.6948999762535095, 0.703000009059906, 0.7368000149726868, 0.6380000114440918, 0.6909000277519226, 0.6061999797821045, 0.6348999738693237, 0.6176999807357788, 0.26260000467300415, 0.3758000135421753, 0.6288999915122986, 0.29100000858306885, -0.016899999231100082, 0.19840000569820404, 0.39320001006126404, 0.10360000282526016, 0.33480000495910645, -0.7132999897003174, 0.991100013256073, 0.991100013256073, 0.9909999966621399, 0.9908000230789185, 0.9907000064849854, 0.9904000163078308, 0.9904000163078308, 0.9902999997138977, 0.9902999997138977, 0.9902999997138977, 0.9901999831199646, 0.9901999831199646, 0.9901999831199646, 0.9901999831199646, 0.9901000261306763, 0.9900000095367432, 0.9894999861717224, 0.989300012588501, 0.9891999959945679, 0.9890000224113464, 0.9890000224113464, 0.9889000058174133, 0.9887999892234802, 0.9886999726295471, 0.9886000156402588, 0.9884999990463257, 0.9882000088691711, 0.988099992275238, 0.9879999756813049, 0.9876000285148621, 0.9807000160217285, 0.9835000038146973, 0.9876000285148621, 0.9815999865531921, 0.9541000127792358, 0.9180999994277954, 0.9556999802589417, 0.9455999732017517, 0.8895000219345093, 0.9397000074386597, 0.9354000091552734, 0.652999997138977, 0.6466000080108643, 0.8755999803543091, 0.8891000151634216, 0.6273000240325928, 0.7907999753952026, 0.7584999799728394, 0.671999990940094, 0.6527000069618225, 0.6310999989509583, 0.49889999628067017, 0.48660001158714294, 0.616100013256073, 0.6743999719619751, 0.6152999997138977, -0.1996999979019165, 0.4327000081539154, 0.6717000007629395, 0.2782999873161316, 0.11779999732971191, 0.26249998807907104, -0.2101999968290329, 0.003800000064074993, 1.8466999530792236, 1.8463000059127808, 1.8460999727249146, 1.8459999561309814, 1.8449000120162964, 1.844599962234497, 1.8438999652862549, 1.8425999879837036, 1.8423999547958374, 1.8420000076293945, 1.8415000438690186, 1.8413000106811523, 1.8410999774932861, 1.840999960899353, 1.840999960899353, 1.840399980545044, 1.8401000499725342, 1.840000033378601, 1.8398000001907349, 1.839400053024292, 1.8391000032424927, 1.8382999897003174, 1.8372999429702759, 1.8370000123977661, 1.8365999460220337, 1.8365000486373901, 1.8359999656677246, 1.8357000350952148, 1.8355000019073486, 1.8353999853134155, 1.8039000034332275, 1.8152999877929688, 1.785099983215332, 1.7309999465942383, 1.5471999645233154, 1.6469000577926636, 1.712499976158142, 1.620300054550171, 1.4909000396728516, 1.2704999446868896, 1.5705000162124634, 1.5440000295639038, 0.8610000014305115, 0.9027000069618225, 0.3894999921321869, 0.4147999882698059, 1.1845999956130981, 0.8330000042915344, 1.3282999992370605, 0.621399998664856, 0.06310000270605087, 0.5827000141143799, 0.37070000171661377, 0.03669999912381172, 0.5928000211715698, 0.14339999854564667, 0.8287000060081482, 0.2606000006198883]}, \"token.table\": {\"Topic\": [1, 2, 3, 1, 2, 3, 1, 2, 3, 1, 2, 3, 1, 2, 3, 1, 2, 3, 1, 2, 3, 1, 2, 3, 1, 2, 3, 1, 2, 3, 1, 2, 3, 1, 2, 3, 1, 2, 3, 1, 2, 3, 1, 2, 3, 1, 2, 3, 1, 2, 3, 1, 2, 3, 1, 2, 3, 1, 2, 3, 1, 2, 3, 1, 2, 3, 1, 2, 3, 1, 2, 3, 1, 2, 3, 1, 2, 3, 1, 2, 3, 1, 2, 3, 1, 2, 3, 1, 2, 3, 1, 2, 3, 1, 2, 3, 1, 2, 3, 1, 2, 3, 1, 2, 3, 1, 2, 3, 1, 2, 3, 1, 2, 3, 1, 2, 3, 1, 2, 3, 1, 2, 3, 1, 2, 3, 1, 2, 3, 1, 2, 3, 1, 2, 3, 1, 2, 3, 1, 2, 3, 1, 2, 3, 1, 2, 3, 1, 2, 3, 1, 2, 3, 1, 2, 3, 1, 2, 3, 1, 2, 3, 1, 2, 3, 1, 2, 3, 1, 2, 3, 1, 2, 3, 1, 2, 3, 1, 2, 3, 1, 2, 3, 1, 2, 3, 1, 2, 3, 1, 2, 3, 1, 2, 3, 1, 2, 3, 1, 2, 3, 1, 2, 3, 1, 2, 3, 1, 2, 3, 1, 2, 3, 1, 2, 3, 1, 2, 3, 1, 2, 3, 1, 2, 3, 1, 2, 3, 1, 2, 3, 1, 2, 3, 1, 2, 3, 1, 2, 3, 1, 2, 3, 1, 2, 3, 1, 2, 3, 1, 2, 3, 1, 2, 3, 1, 2, 3, 1, 2, 3, 1, 2, 3, 1, 2, 3, 1, 2, 3, 1, 2, 3, 1, 2, 3, 1, 2, 3, 1, 2, 3, 1, 2, 3, 1, 2, 3, 1, 2, 3, 1, 2, 3, 1, 2, 3, 1, 2, 3, 1, 2, 3, 1, 2, 3, 1, 2, 3, 1, 2, 3, 1, 2, 3, 1, 2, 3, 1, 2, 3, 1, 2, 3, 1, 2, 3, 1, 2, 3, 1, 2, 3, 1, 2, 3, 1, 2, 3, 1, 2, 3, 1, 2, 3, 1, 2, 3, 1, 2, 3, 1, 2, 3, 1, 2, 3, 1, 2, 3, 1, 2, 3, 1, 2, 3, 1, 2, 3, 1, 2, 3, 1, 2, 3, 1, 2, 3, 1, 2, 3, 1, 2, 3, 1, 2, 3, 1, 2, 3, 1, 2, 3, 1, 2, 3, 1, 2, 3, 1, 2, 3, 1, 2, 3, 1, 2, 3, 1, 2, 3, 1, 2, 3, 1, 2, 3, 1, 2, 3, 1, 2, 3, 1, 2, 3, 1, 2, 3, 1, 2, 3, 1, 2, 3, 1, 2, 3, 1, 2, 3, 1, 2, 3, 1, 2, 3, 1, 2, 3, 1, 2, 3, 1, 2, 3, 1, 2, 3, 1, 2, 3, 1, 2, 3, 1, 2, 3, 1, 2, 3, 1, 2, 3, 1, 2, 3, 1, 2, 3, 1, 2, 3, 1, 2, 3, 1, 2, 3, 1, 2, 3, 1, 2, 3, 1, 2, 3], \"Freq\": [0.00334183475933969, 0.00334183475933969, 0.9958667755126953, 0.9962728023529053, 0.001747847069054842, 0.001747847069054842, 0.0016464191721752286, 0.0016464191721752286, 0.997730016708374, 0.8641072511672974, 0.1352691352367401, 0.0005768406554125249, 0.0012588929384946823, 0.9970431923866272, 0.0012588929384946823, 0.006956870201975107, 0.006956870201975107, 0.9878755807876587, 0.0038185054436326027, 0.0038185054436326027, 0.992811381816864, 0.9987298846244812, 0.0007284681778401136, 0.0007284681778401136, 0.003561553778126836, 0.003561553778126836, 0.9936735033988953, 0.27122437953948975, 0.728469967842102, 0.0003394547966308892, 0.9994996786117554, 0.0003406610921956599, 0.0003406610921956599, 0.2127228081226349, 0.7263978719711304, 0.0605643130838871, 0.028352411463856697, 0.9453504085540771, 0.025922205299139023, 0.0015240975189954042, 0.996759831905365, 0.0015240975189954042, 0.003760208608582616, 0.003760208608582616, 0.9926950931549072, 0.0018744339467957616, 0.9971988797187805, 0.0018744339467957616, 0.9996188282966614, 0.00021641455532517284, 0.00021641455532517284, 0.0013698741095140576, 0.9972683787345886, 0.0013698741095140576, 0.0007920144125819206, 0.4839208126068115, 0.5148093700408936, 0.00021629258117172867, 0.6110265254974365, 0.3886777460575104, 0.003421819768846035, 0.003421819768846035, 0.9923277497291565, 0.9518561363220215, 0.025558382272720337, 0.022460397332906723, 0.0013461337657645345, 0.9974851012229919, 0.0013461337657645345, 0.9974765181541443, 0.001759217819198966, 0.001759217819198966, 0.9995879530906677, 0.00018510887457523495, 0.00018510887457523495, 0.874113142490387, 0.09544122219085693, 0.030284233391284943, 0.9961042404174805, 0.0013552438467741013, 0.0027104876935482025, 0.00018690864089876413, 0.9894943237304688, 0.010466883890330791, 0.5748393535614014, 0.41754409670829773, 0.007763104047626257, 0.029663892462849617, 0.001853993278928101, 0.9677844643592834, 0.030453098937869072, 0.9555505514144897, 0.014211446046829224, 0.000481666560517624, 0.998976469039917, 0.000481666560517624, 0.6589361429214478, 0.24860961735248566, 0.09275449067354202, 0.9976798295974731, 0.0017943881684914231, 0.0017943881684914231, 0.9983749985694885, 0.0007085698889568448, 0.0007085698889568448, 0.000844897294882685, 0.000844897294882685, 0.9986686110496521, 0.004975923337042332, 0.004975923337042332, 0.9902087450027466, 0.9983815550804138, 0.0010598530061542988, 0.0010598530061542988, 0.00012162757047917694, 0.9997786283493042, 0.00012162757047917694, 0.27298998832702637, 0.16567668318748474, 0.5613552331924438, 0.004190049134194851, 0.004190049134194851, 0.9930416941642761, 0.9976340532302856, 0.0018682285444810987, 0.0018682285444810987, 0.8893471360206604, 0.00045842633699066937, 0.11002232134342194, 0.960533618927002, 0.0004101339145563543, 0.038962721824645996, 0.00030609950772486627, 0.9994149208068848, 0.00030609950772486627, 0.14122046530246735, 0.062188830226659775, 0.7967944145202637, 0.9844659566879272, 0.0009511748212389648, 0.014267622493207455, 0.3401704728603363, 0.5719240307807922, 0.08777790516614914, 0.00016168584988918155, 0.9995419383049011, 0.00016168584988918155, 0.00040474205161444843, 0.9993081092834473, 0.00040474205161444843, 0.998859167098999, 0.0008234617998823524, 0.0008234617998823524, 0.8840468525886536, 0.012089529074728489, 0.10376846045255661, 0.9854187965393066, 0.0002770364808384329, 0.014128861017525196, 0.00412561371922493, 0.00412561371922493, 0.9901473522186279, 0.32797980308532715, 0.4901847839355469, 0.18183913826942444, 0.4121564030647278, 0.4824769198894501, 0.10523661226034164, 0.6128254532814026, 0.14850209653377533, 0.23862050473690033, 0.46348246932029724, 0.30387064814567566, 0.23266834020614624, 0.9993283748626709, 0.0005021750694140792, 0.0005021750694140792, 0.0031146772671490908, 0.0031146772671490908, 0.9935820698738098, 0.0022214732598513365, 0.0022214732598513365, 0.9952200651168823, 0.9990144371986389, 0.00046250669402070343, 0.00046250669402070343, 0.001317475805990398, 0.9973291754722595, 0.001317475805990398, 0.9998319149017334, 7.971870218170807e-05, 7.971870218170807e-05, 0.006061287596821785, 0.006061287596821785, 0.9879899024963379, 0.006841253489255905, 0.006841253489255905, 0.9851405024528503, 0.0021039049606770277, 0.9972509741783142, 0.0021039049606770277, 0.0011967598693445325, 0.9980977773666382, 0.0011967598693445325, 0.0038997314404696226, 0.0038997314404696226, 0.9944314956665039, 0.004386150278151035, 0.004386150278151035, 0.9912700057029724, 0.24424369633197784, 0.7267138957977295, 0.02926548384130001, 0.0014520188560709357, 0.9975369572639465, 0.0014520188560709357, 0.0019458645256236196, 0.9962826371192932, 0.0019458645256236196, 0.0005332855507731438, 0.9988438487052917, 0.0005332855507731438, 0.29543378949165344, 0.603684663772583, 0.10082773119211197, 0.9985905289649963, 0.0010913556907325983, 0.0010913556907325983, 0.9993664622306824, 0.0002599808794911951, 0.0002599808794911951, 0.20043113827705383, 0.6870235204696655, 0.11233603209257126, 0.23097337782382965, 0.7129908800125122, 0.056070778518915176, 0.0010106214322149754, 0.9904089570045471, 0.009095592424273491, 0.12378574907779694, 0.7084259390830994, 0.16787102818489075, 0.9981318712234497, 0.001226206193678081, 0.001226206193678081, 0.0004916651523672044, 0.9990635514259338, 0.0004916651523672044, 0.0005875249044038355, 0.9923295378684998, 0.007050298620015383, 0.9981675744056702, 0.0008567962213419378, 0.0008567962213419378, 0.10859785974025726, 0.001620863564312458, 0.8898540735244751, 0.5228177309036255, 0.24879758059978485, 0.22822768986225128, 0.5143393278121948, 0.12528041005134583, 0.36089953780174255, 0.6305098533630371, 0.30078545212745667, 0.06867384910583496, 0.9442399740219116, 0.05519295111298561, 0.0005182436434552073, 0.07067583501338959, 0.9031106233596802, 0.026125308126211166, 0.0006736380164511502, 0.999005138874054, 0.0006736380164511502, 0.9961258769035339, 0.0016197168733924627, 0.0016197168733924627, 0.9986140131950378, 0.0006430225330404937, 0.0006430225330404937, 0.0013989704893901944, 0.997465968132019, 0.0013989704893901944, 0.22117766737937927, 0.7125979661941528, 0.06601934880018234, 0.0006241773371584713, 0.998683750629425, 0.0006241773371584713, 0.24039827287197113, 0.0013658992247655988, 0.7580741047859192, 0.8921462893486023, 0.08797982335090637, 0.02006557397544384, 0.12400788813829422, 0.001850864035077393, 0.8736078143119812, 0.9970932006835938, 0.001490423339419067, 0.001490423339419067, 0.00163643853738904, 0.9965910911560059, 0.00163643853738904, 0.9967558979988098, 0.000584264867939055, 0.00233705947175622, 0.006401826161891222, 0.006401826161891222, 0.9858812093734741, 0.46344009041786194, 0.2434346228837967, 0.29343587160110474, 0.0008518549147993326, 0.041740890592336655, 0.9574849605560303, 0.003571704961359501, 0.003571704961359501, 0.992933988571167, 0.9985197186470032, 0.0008151181391440332, 0.0008151181391440332, 0.00037563417572528124, 0.6370755434036255, 0.36248698830604553, 0.16487044095993042, 0.5498219728469849, 0.2851915955543518, 0.9966251850128174, 0.000939326302614063, 0.002817978849634528, 0.006295674946159124, 0.006295674946159124, 0.9884209632873535, 0.0006017345003783703, 0.0006017345003783703, 0.9988793134689331, 0.9993923306465149, 0.0004903789958916605, 0.0004903789958916605, 0.0006544256466440856, 0.9986535310745239, 0.0006544256466440856, 0.983782172203064, 0.016131538897752762, 0.0001208354951813817, 0.14916720986366272, 0.7921293377876282, 0.05863814428448677, 0.0015779439127072692, 0.0015779439127072692, 0.997260570526123, 0.979111909866333, 0.000395121838664636, 0.020546335726976395, 0.1809636652469635, 0.0008784643723629415, 0.8178503513336182, 0.00312189944088459, 0.00312189944088459, 0.9927640557289124, 0.000582928245421499, 0.9991390705108643, 0.000582928245421499, 0.16862475872039795, 0.8184182643890381, 0.012940969318151474, 0.0011356124887242913, 0.9982033967971802, 0.0011356124887242913, 0.997709333896637, 0.0015492381062358618, 0.0015492381062358618, 0.049427330493927, 0.9293836355209351, 0.021218804642558098, 0.0006987990345805883, 0.9985837936401367, 0.0006987990345805883, 0.0008113986696116626, 0.9988317489624023, 0.0008113986696116626, 0.26043957471847534, 0.6948832273483276, 0.04483639448881149, 0.0046627093106508255, 0.0046627093106508255, 0.9931570291519165, 0.03610190376639366, 0.9636430740356445, 0.0003967242082580924, 0.006506697274744511, 0.006506697274744511, 0.9890179634094238, 0.06027711555361748, 0.000510822981595993, 0.9394034743309021, 0.9979963302612305, 0.001235143980011344, 0.001235143980011344, 0.0009712150786072016, 0.0009712150786072016, 0.9984090924263, 0.9997303485870361, 0.00013972472515888512, 0.00013972472515888512, 0.9998169541358948, 7.901817298261449e-05, 7.901817298261449e-05, 0.0015818893443793058, 0.9965903162956238, 0.0015818893443793058, 0.0960208997130394, 0.9025964140892029, 0.0012002611765637994, 0.9964180588722229, 0.001785695436410606, 0.001785695436410606, 0.0007233672076836228, 0.9989701509475708, 0.0007233672076836228, 0.001045107957907021, 0.001045107957907021, 0.9980780482292175, 0.6983771920204163, 0.17811690270900726, 0.12356182187795639, 0.9725193381309509, 0.01247563585639, 0.015086815692484379, 0.19859060645103455, 0.6865648031234741, 0.11478172987699509, 0.03392685577273369, 0.9650306105613708, 0.0007539301295764744, 0.6863884329795837, 0.1502208262681961, 0.1634657382965088, 0.0007912819273769855, 0.9978064894676208, 0.0007912819273769855, 0.03822310268878937, 0.9498080611228943, 0.012260240502655506, 0.18820559978485107, 0.6974828243255615, 0.11450448632240295, 0.29310253262519836, 0.11203532665967941, 0.5952584147453308, 0.29965510964393616, 0.0007472696015611291, 0.7001916170120239, 0.21266067028045654, 0.04693424329161644, 0.7402663230895996, 0.005166113842278719, 0.005166113842278719, 0.9918938875198364, 0.07763118296861649, 0.8906316757202148, 0.031903225928545, 0.0029207465704530478, 0.0029207465704530478, 0.995974600315094, 0.999125599861145, 0.0005386121920309961, 0.0005386121920309961, 0.0006348491297103465, 0.9986177086830139, 0.0006348491297103465, 0.9404426217079163, 0.05847930163145065, 0.0011934550711885095, 0.3690187335014343, 0.4262753129005432, 0.2044060379266739, 0.2611684203147888, 0.001518421107903123, 0.7379526495933533, 0.00013703780132345855, 0.9996907711029053, 0.00013703780132345855, 0.9961134791374207, 0.0012641034554690123, 0.0025282069109380245, 0.3463382422924042, 0.37151533365249634, 0.2821674346923828, 0.0046434360556304455, 0.0046434360556304455, 0.989051878452301, 0.2548118233680725, 0.3725472688674927, 0.37273505330085754], \"Term\": [\"alexa\", \"alexa\", \"alexa\", \"amenity\", \"amenity\", \"amenity\", \"app\", \"app\", \"app\", \"area\", \"area\", \"area\", \"arm\", \"arm\", \"arm\", \"audio\", \"audio\", \"audio\", \"bass\", \"bass\", \"bass\", \"bathroom\", \"bathroom\", \"bathroom\", \"battery\", \"battery\", \"battery\", \"beautiful\", \"beautiful\", \"beautiful\", \"bed\", \"bed\", \"bed\", \"bit\", \"bit\", \"bit\", \"black\", \"black\", \"black\", \"blouse\", \"blouse\", \"blouse\", \"bluetooth\", \"bluetooth\", \"bluetooth\", \"boxy\", \"boxy\", \"boxy\", \"breakfast\", \"breakfast\", \"breakfast\", \"bust\", \"bust\", \"bust\", \"button\", \"button\", \"button\", \"buy\", \"buy\", \"buy\", \"camera\", \"camera\", \"camera\", \"check\", \"check\", \"check\", \"chest\", \"chest\", \"chest\", \"city\", \"city\", \"city\", \"clean\", \"clean\", \"clean\", \"close\", \"close\", \"close\", \"coffee\", \"coffee\", \"coffee\", \"color\", \"color\", \"color\", \"comfortable\", \"comfortable\", \"comfortable\", \"control\", \"control\", \"control\", \"cut\", \"cut\", \"cut\", \"cute\", \"cute\", \"cute\", \"day\", \"day\", \"day\", \"dear\", \"dear\", \"dear\", \"desk\", \"desk\", \"desk\", \"device\", \"device\", \"device\", \"download\", \"download\", \"download\", \"downtown\", \"downtown\", \"downtown\", \"dress\", \"dress\", \"dress\", \"easy\", \"easy\", \"easy\", \"echo\", \"echo\", \"echo\", \"elevator\", \"elevator\", \"elevator\", \"enjoy\", \"enjoy\", \"enjoy\", \"experience\", \"experience\", \"experience\", \"fabric\", \"fabric\", \"fabric\", \"feature\", \"feature\", \"feature\", \"feedback\", \"feedback\", \"feedback\", \"feel\", \"feel\", \"feel\", \"fit\", \"fit\", \"fit\", \"flattering\", \"flattering\", \"flattering\", \"food\", \"food\", \"food\", \"free\", \"free\", \"free\", \"friendly\", \"friendly\", \"friendly\", \"function\", \"function\", \"function\", \"get\", \"get\", \"get\", \"go\", \"go\", \"go\", \"good\", \"good\", \"good\", \"great\", \"great\", \"great\", \"guest\", \"guest\", \"guest\", \"harmony\", \"harmony\", \"harmony\", \"headphone\", \"headphone\", \"headphone\", \"helpful\", \"helpful\", \"helpful\", \"hip\", \"hip\", \"hip\", \"hotel\", \"hotel\", \"hotel\", \"install\", \"install\", \"install\", \"ipad\", \"ipad\", \"ipad\", \"jacket\", \"jacket\", \"jacket\", \"jean\", \"jean\", \"jean\", \"keyboard\", \"keyboard\", \"keyboard\", \"kindle\", \"kindle\", \"kindle\", \"large\", \"large\", \"large\", \"lbs\", \"lbs\", \"lbs\", \"legging\", \"legging\", \"legging\", \"length\", \"length\", \"length\", \"little\", \"little\", \"little\", \"lobby\", \"lobby\", \"lobby\", \"location\", \"location\", \"location\", \"long\", \"long\", \"long\", \"look\", \"look\", \"look\", \"loose\", \"loose\", \"loose\", \"love\", \"love\", \"love\", \"manager\", \"manager\", \"manager\", \"material\", \"material\", \"material\", \"medium\", \"medium\", \"medium\", \"morning\", \"morning\", \"morning\", \"music\", \"music\", \"music\", \"need\", \"need\", \"need\", \"new\", \"new\", \"new\", \"nice\", \"nice\", \"nice\", \"night\", \"night\", \"night\", \"order\", \"order\", \"order\", \"pant\", \"pant\", \"pant\", \"park\", \"park\", \"park\", \"parking\", \"parking\", \"parking\", \"pattern\", \"pattern\", \"pattern\", \"perfect\", \"perfect\", \"perfect\", \"petite\", \"petite\", \"petite\", \"phone\", \"phone\", \"phone\", \"place\", \"place\", \"place\", \"play\", \"play\", \"play\", \"pleasant\", \"pleasant\", \"pleasant\", \"pocket\", \"pocket\", \"pocket\", \"pool\", \"pool\", \"pool\", \"portable\", \"portable\", \"portable\", \"price\", \"price\", \"price\", \"product\", \"product\", \"product\", \"program\", \"program\", \"program\", \"property\", \"property\", \"property\", \"purchase\", \"purchase\", \"purchase\", \"quality\", \"quality\", \"quality\", \"quiet\", \"quiet\", \"quiet\", \"radio\", \"radio\", \"radio\", \"remote\", \"remote\", \"remote\", \"restaurant\", \"restaurant\", \"restaurant\", \"retailer\", \"retailer\", \"retailer\", \"room\", \"room\", \"room\", \"run\", \"run\", \"run\", \"screen\", \"screen\", \"screen\", \"service\", \"service\", \"service\", \"set\", \"set\", \"set\", \"setup\", \"setup\", \"setup\", \"shirt\", \"shirt\", \"shirt\", \"short\", \"short\", \"short\", \"shoulder\", \"shoulder\", \"shoulder\", \"shuttle\", \"shuttle\", \"shuttle\", \"size\", \"size\", \"size\", \"skirt\", \"skirt\", \"skirt\", \"sleeve\", \"sleeve\", \"sleeve\", \"small\", \"small\", \"small\", \"smart\", \"smart\", \"smart\", \"soft\", \"soft\", \"soft\", \"software\", \"software\", \"software\", \"sound\", \"sound\", \"sound\", \"spacious\", \"spacious\", \"spacious\", \"speaker\", \"speaker\", \"speaker\", \"staff\", \"staff\", \"staff\", \"stay\", \"stay\", \"stay\", \"stretch\", \"stretch\", \"stretch\", \"style\", \"style\", \"style\", \"suite\", \"suite\", \"suite\", \"sweater\", \"sweater\", \"sweater\", \"tablet\", \"tablet\", \"tablet\", \"take\", \"take\", \"take\", \"thank\", \"thank\", \"thank\", \"think\", \"think\", \"think\", \"tight\", \"tight\", \"tight\", \"time\", \"time\", \"time\", \"top\", \"top\", \"top\", \"true\", \"true\", \"true\", \"try\", \"try\", \"try\", \"turn\", \"turn\", \"turn\", \"tv\", \"tv\", \"tv\", \"use\", \"use\", \"use\", \"user\", \"user\", \"user\", \"usually\", \"usually\", \"usually\", \"video\", \"video\", \"video\", \"visit\", \"visit\", \"visit\", \"waist\", \"waist\", \"waist\", \"walk\", \"walk\", \"walk\", \"want\", \"want\", \"want\", \"watch\", \"watch\", \"watch\", \"wear\", \"wear\", \"wear\", \"welcome\", \"welcome\", \"welcome\", \"well\", \"well\", \"well\", \"wireless\", \"wireless\", \"wireless\", \"work\", \"work\", \"work\"]}, \"R\": 30, \"lambda.step\": 0.01, \"plot.opts\": {\"xlab\": \"PC1\", \"ylab\": \"PC2\"}, \"topic.order\": [1, 2, 3]};\n",
       "\n",
       "function LDAvis_load_lib(url, callback){\n",
       "  var s = document.createElement('script');\n",
       "  s.src = url;\n",
       "  s.async = true;\n",
       "  s.onreadystatechange = s.onload = callback;\n",
       "  s.onerror = function(){console.warn(\"failed to load library \" + url);};\n",
       "  document.getElementsByTagName(\"head\")[0].appendChild(s);\n",
       "}\n",
       "\n",
       "if(typeof(LDAvis) !== \"undefined\"){\n",
       "   // already loaded: just create the visualization\n",
       "   !function(LDAvis){\n",
       "       new LDAvis(\"#\" + \"ldavis_el3063626185011678881664640052\", ldavis_el3063626185011678881664640052_data);\n",
       "   }(LDAvis);\n",
       "}else if(typeof define === \"function\" && define.amd){\n",
       "   // require.js is available: use it to load d3/LDAvis\n",
       "   require.config({paths: {d3: \"https://cdnjs.cloudflare.com/ajax/libs/d3/3.5.5/d3.min\"}});\n",
       "   require([\"d3\"], function(d3){\n",
       "      window.d3 = d3;\n",
       "      LDAvis_load_lib(\"https://cdn.rawgit.com/bmabey/pyLDAvis/files/ldavis.v1.0.0.js\", function(){\n",
       "        new LDAvis(\"#\" + \"ldavis_el3063626185011678881664640052\", ldavis_el3063626185011678881664640052_data);\n",
       "      });\n",
       "    });\n",
       "}else{\n",
       "    // require.js not available: dynamically load d3 & LDAvis\n",
       "    LDAvis_load_lib(\"https://cdnjs.cloudflare.com/ajax/libs/d3/3.5.5/d3.min.js\", function(){\n",
       "         LDAvis_load_lib(\"https://cdn.rawgit.com/bmabey/pyLDAvis/files/ldavis.v1.0.0.js\", function(){\n",
       "                 new LDAvis(\"#\" + \"ldavis_el3063626185011678881664640052\", ldavis_el3063626185011678881664640052_data);\n",
       "            })\n",
       "         });\n",
       "}\n",
       "</script>"
      ],
      "text/plain": [
       "PreparedData(topic_coordinates=              x         y  topics  cluster       Freq\n",
       "topic                                                \n",
       "0      0.152272 -0.111894       1        1  47.134132\n",
       "1     -0.203942 -0.044039       2        1  37.107426\n",
       "2      0.051670  0.155933       3        1  15.758448, topic_info=        Term          Freq         Total Category  logprob  loglift\n",
       "34      room  16551.000000  16551.000000  Default  30.0000  30.0000\n",
       "40      stay  12655.000000  12655.000000  Default  29.0000  29.0000\n",
       "19     hotel  12544.000000  12544.000000  Default  28.0000  28.0000\n",
       "103    dress   8221.000000   8221.000000  Default  27.0000  27.0000\n",
       "146     wear   7297.000000   7297.000000  Default  26.0000  26.0000\n",
       "..       ...           ...           ...      ...      ...      ...\n",
       "47      time    975.017578   5964.552734   Topic3  -5.0536   0.0367\n",
       "542  quality    748.735229   2626.304688   Topic3  -5.3177   0.5928\n",
       "54       get    815.161072   4481.983398   Topic3  -5.2327   0.1434\n",
       "110      new    628.059998   1740.096436   Topic3  -5.4934   0.8287\n",
       "568     want    714.321045   3493.047607   Topic3  -5.3647   0.2606\n",
       "\n",
       "[208 rows x 6 columns], token_table=      Topic      Freq      Term\n",
       "term                           \n",
       "2255      1  0.003342     alexa\n",
       "2255      2  0.003342     alexa\n",
       "2255      3  0.995867     alexa\n",
       "660       1  0.996273   amenity\n",
       "660       2  0.001748   amenity\n",
       "...     ...       ...       ...\n",
       "2296      2  0.004643  wireless\n",
       "2296      3  0.989052  wireless\n",
       "69        1  0.254812      work\n",
       "69        2  0.372547      work\n",
       "69        3  0.372735      work\n",
       "\n",
       "[498 rows x 3 columns], R=30, lambda_step=0.01, plot_opts={'xlab': 'PC1', 'ylab': 'PC2'}, topic_order=[1, 2, 3])"
      ]
     },
     "execution_count": 38,
     "metadata": {},
     "output_type": "execute_result"
    }
   ],
   "source": [
    "vis = pyLDAvis.gensim.prepare(lda_model, corpus, dictionary=lda_model.id2word)\n",
    "vis"
   ]
  },
  {
   "cell_type": "markdown",
   "metadata": {},
   "source": [
    "#### Tf-idf"
   ]
  },
  {
   "cell_type": "code",
   "execution_count": 39,
   "metadata": {},
   "outputs": [
    {
     "data": {
      "text/html": [
       "\n",
       "<link rel=\"stylesheet\" type=\"text/css\" href=\"https://cdn.rawgit.com/bmabey/pyLDAvis/files/ldavis.v1.0.0.css\">\n",
       "\n",
       "\n",
       "<div id=\"ldavis_el3063626185866106886596484219\"></div>\n",
       "<script type=\"text/javascript\">\n",
       "\n",
       "var ldavis_el3063626185866106886596484219_data = {\"mdsDat\": {\"x\": [0.12511622923143464, -0.2315601560732501, 0.10644392684181551], \"y\": [0.16440443096400137, 0.009082166175858058, -0.17348659713985937], \"topics\": [1, 2, 3], \"cluster\": [1, 1, 1], \"Freq\": [40.62953186035156, 39.36589050292969, 20.004581451416016]}, \"tinfo\": {\"Term\": [\"room\", \"dress\", \"hotel\", \"stay\", \"use\", \"size\", \"wear\", \"fit\", \"sound\", \"staff\", \"easy\", \"color\", \"clean\", \"product\", \"remote\", \"buy\", \"breakfast\", \"tablet\", \"friendly\", \"fabric\", \"location\", \"order\", \"work\", \"flattering\", \"night\", \"soft\", \"love\", \"speaker\", \"cute\", \"device\", \"hotel\", \"room\", \"stay\", \"staff\", \"clean\", \"breakfast\", \"friendly\", \"location\", \"bed\", \"helpful\", \"service\", \"thank\", \"restaurant\", \"check\", \"pool\", \"night\", \"experience\", \"visit\", \"parking\", \"guest\", \"food\", \"property\", \"desk\", \"bathroom\", \"quiet\", \"convenient\", \"trip\", \"downtown\", \"morning\", \"sleep\", \"view\", \"place\", \"close\", \"walk\", \"area\", \"free\", \"bad\", \"wonderful\", \"enjoy\", \"good\", \"nice\", \"time\", \"comfortable\", \"great\", \"need\", \"dress\", \"wear\", \"fit\", \"color\", \"fabric\", \"flattering\", \"material\", \"soft\", \"cute\", \"shirt\", \"length\", \"petite\", \"medium\", \"sweater\", \"pant\", \"skirt\", \"retailer\", \"waist\", \"true\", \"top\", \"cut\", \"sleeve\", \"black\", \"summer\", \"tight\", \"shape\", \"jean\", \"loose\", \"shoulder\", \"lbs\", \"size\", \"order\", \"regular\", \"style\", \"usually\", \"run\", \"look\", \"short\", \"small\", \"love\", \"large\", \"try\", \"perfect\", \"beautiful\", \"little\", \"think\", \"long\", \"pretty\", \"buy\", \"feel\", \"great\", \"sound\", \"remote\", \"product\", \"tablet\", \"speaker\", \"device\", \"feature\", \"app\", \"music\", \"play\", \"screen\", \"gift\", \"alexa\", \"control\", \"headphone\", \"video\", \"echo\", \"keyboard\", \"kindle\", \"program\", \"connect\", \"setup\", \"bluetooth\", \"camera\", \"bass\", \"battery\", \"install\", \"original\", \"smart\", \"harmony\", \"user\", \"use\", \"set\", \"easy\", \"phone\", \"watch\", \"taste\", \"tv\", \"replace\", \"house\", \"work\", \"buy\", \"great\", \"kid\", \"good\", \"price\", \"purchase\", \"love\", \"fast\", \"well\", \"awesome\", \"quality\", \"need\", \"light\"], \"Freq\": [884.0, 819.0, 792.0, 776.0, 455.0, 711.0, 647.0, 631.0, 353.0, 603.0, 495.0, 551.0, 506.0, 274.0, 269.0, 583.0, 444.0, 243.0, 419.0, 391.0, 404.0, 408.0, 593.0, 357.0, 361.0, 341.0, 874.0, 188.0, 328.0, 184.0, 792.0872192382812, 883.6036376953125, 776.2649536132812, 602.64697265625, 506.17279052734375, 443.7733459472656, 419.26434326171875, 403.8726501464844, 319.6408996582031, 301.86322021484375, 273.20208740234375, 276.0630798339844, 237.6111297607422, 261.4326477050781, 231.9744110107422, 360.99212646484375, 239.888671875, 209.26934814453125, 182.6866455078125, 177.26231384277344, 158.29916381835938, 155.5933074951172, 156.1385498046875, 155.45257568359375, 155.79754638671875, 160.67352294921875, 148.1798553466797, 134.4394989013672, 140.82020568847656, 140.7415008544922, 141.80792236328125, 317.5185852050781, 240.1968231201172, 182.6910858154297, 304.2483825683594, 209.960205078125, 235.97213745117188, 197.42959594726562, 215.86045837402344, 472.6601257324219, 376.6041564941406, 310.8843688964844, 289.4422302246094, 350.4513854980469, 202.12335205078125, 818.7171020507812, 647.2205200195312, 630.910888671875, 551.0559692382812, 390.5194091796875, 356.82720947265625, 321.2527770996094, 341.0620422363281, 327.4910888671875, 283.9794921875, 273.9549560546875, 258.74371337890625, 262.42889404296875, 245.9823760986328, 243.31036376953125, 238.86985778808594, 214.90509033203125, 211.96766662597656, 224.109375, 210.0525665283203, 214.58834838867188, 191.72232055664062, 209.91514587402344, 228.44741821289062, 195.33749389648438, 178.23770141601562, 152.29302978515625, 154.4901123046875, 149.81910705566406, 133.41702270507812, 703.379150390625, 400.8664245605469, 159.4963836669922, 263.62890625, 249.05361938476562, 346.7833557128906, 527.3190307617188, 292.1656799316406, 462.8479309082031, 588.6073608398438, 329.28387451171875, 306.8971862792969, 334.4134521484375, 293.000244140625, 333.4768371582031, 280.9042663574219, 282.2356872558594, 269.8019104003906, 296.9737548828125, 267.9842834472656, 283.41082763671875, 353.3695373535156, 268.989990234375, 273.84991455078125, 243.25714111328125, 187.4132080078125, 184.2651824951172, 128.8073272705078, 106.61276245117188, 111.5623779296875, 109.9600830078125, 101.96263885498047, 100.8747787475586, 90.64971923828125, 96.4276351928711, 85.15512084960938, 81.70570373535156, 76.85553741455078, 69.84063720703125, 69.31367492675781, 73.58299255371094, 77.29143524169922, 61.32944107055664, 59.86422348022461, 57.61482620239258, 56.54178237915039, 58.413116455078125, 55.667232513427734, 60.51039123535156, 51.635738372802734, 48.93578338623047, 50.13190460205078, 420.8487548828125, 181.46034240722656, 381.7099914550781, 104.7246322631836, 100.35427856445312, 80.50445556640625, 156.66848754882812, 76.04664611816406, 75.47616577148438, 302.5255432128906, 286.6722412109375, 341.0221862792969, 121.63922119140625, 270.5242919921875, 175.58892822265625, 163.59632873535156, 225.7821807861328, 96.92426300048828, 133.0377655029297, 107.79473876953125, 116.50013732910156, 119.45088195800781, 106.40321350097656], \"Total\": [884.0, 819.0, 792.0, 776.0, 455.0, 711.0, 647.0, 631.0, 353.0, 603.0, 495.0, 551.0, 506.0, 274.0, 269.0, 583.0, 444.0, 243.0, 419.0, 391.0, 404.0, 408.0, 593.0, 357.0, 361.0, 341.0, 874.0, 188.0, 328.0, 184.0, 792.7001953125, 884.291748046875, 776.8972778320312, 603.2609252929688, 506.81427001953125, 444.3857421875, 419.9075012207031, 404.4947509765625, 320.26116943359375, 302.488037109375, 273.8373718261719, 276.73614501953125, 238.2241668701172, 262.1122741699219, 232.607177734375, 361.9843444824219, 240.54884338378906, 209.89080810546875, 183.29910278320312, 177.87730407714844, 158.91217041015625, 156.20547485351562, 156.7576141357422, 156.06993103027344, 156.41981506347656, 161.39369201660156, 148.85174560546875, 135.05081176757812, 141.49444580078125, 141.41867065429688, 142.5918426513672, 337.0975036621094, 260.1913146972656, 191.18478393554688, 348.4037780761719, 225.7894744873047, 269.44927978515625, 218.08912658691406, 254.666259765625, 837.450439453125, 613.6713256835938, 471.2448425292969, 538.838134765625, 974.8843994140625, 427.92156982421875, 819.3370971679688, 647.8547973632812, 631.5786743164062, 551.7178955078125, 391.1385192871094, 357.44488525390625, 321.8777770996094, 341.72650146484375, 328.1346740722656, 284.5986022949219, 274.5789489746094, 259.36663818359375, 263.0771484375, 246.60145568847656, 243.92974853515625, 239.48802185058594, 215.5254364013672, 212.58432006835938, 224.77960205078125, 210.68324279785156, 215.24658203125, 192.339599609375, 210.60105895996094, 229.21531677246094, 195.99649047851562, 178.9119873046875, 152.91050720214844, 155.13233947753906, 150.44781494140625, 134.0348663330078, 711.7115478515625, 408.9087829589844, 160.27406311035156, 269.66961669921875, 256.1661376953125, 387.3551025390625, 660.041259765625, 328.052978515625, 602.0010986328125, 874.3760986328125, 410.3469543457031, 384.7472839355469, 452.9158020019531, 362.7188415527344, 486.37799072265625, 352.63360595703125, 374.82208251953125, 346.2319030761719, 583.9554443359375, 402.14990234375, 974.8843994140625, 353.98614501953125, 269.58367919921875, 274.472412109375, 243.8467559814453, 188.00424194335938, 184.863037109375, 129.50619506835938, 107.2012710571289, 112.2008056640625, 110.59374237060547, 102.5682144165039, 101.514892578125, 91.2395248413086, 97.05672454833984, 85.74869537353516, 82.2997817993164, 77.44609832763672, 70.43153381347656, 69.90314483642578, 74.21356964111328, 77.95740509033203, 61.932247161865234, 60.45276641845703, 58.21458053588867, 57.13140869140625, 59.023658752441406, 56.2592658996582, 61.17821502685547, 52.22833251953125, 49.52347183227539, 50.737022399902344, 455.4175720214844, 193.67141723632812, 495.1860046386719, 119.46843719482422, 113.64030456542969, 87.26673889160156, 200.74195861816406, 82.29054260253906, 82.20136260986328, 593.1346435546875, 583.9554443359375, 974.8843994140625, 184.34878540039062, 837.450439453125, 458.1853942871094, 396.0078125, 874.3760986328125, 130.4756622314453, 383.2015380859375, 192.34039306640625, 359.68218994140625, 427.92156982421875, 245.21255493164062], \"Category\": [\"Default\", \"Default\", \"Default\", \"Default\", \"Default\", \"Default\", \"Default\", \"Default\", \"Default\", \"Default\", \"Default\", \"Default\", \"Default\", \"Default\", \"Default\", \"Default\", \"Default\", \"Default\", \"Default\", \"Default\", \"Default\", \"Default\", \"Default\", \"Default\", \"Default\", \"Default\", \"Default\", \"Default\", \"Default\", \"Default\", \"Topic1\", \"Topic1\", \"Topic1\", \"Topic1\", \"Topic1\", \"Topic1\", \"Topic1\", \"Topic1\", \"Topic1\", \"Topic1\", \"Topic1\", \"Topic1\", \"Topic1\", \"Topic1\", \"Topic1\", \"Topic1\", \"Topic1\", \"Topic1\", \"Topic1\", \"Topic1\", \"Topic1\", \"Topic1\", \"Topic1\", \"Topic1\", \"Topic1\", \"Topic1\", \"Topic1\", \"Topic1\", \"Topic1\", \"Topic1\", \"Topic1\", \"Topic1\", \"Topic1\", \"Topic1\", \"Topic1\", \"Topic1\", \"Topic1\", \"Topic1\", \"Topic1\", \"Topic1\", \"Topic1\", \"Topic1\", \"Topic1\", \"Topic1\", \"Topic1\", \"Topic2\", \"Topic2\", \"Topic2\", \"Topic2\", \"Topic2\", \"Topic2\", \"Topic2\", \"Topic2\", \"Topic2\", \"Topic2\", \"Topic2\", \"Topic2\", \"Topic2\", \"Topic2\", \"Topic2\", \"Topic2\", \"Topic2\", \"Topic2\", \"Topic2\", \"Topic2\", \"Topic2\", \"Topic2\", \"Topic2\", \"Topic2\", \"Topic2\", \"Topic2\", \"Topic2\", \"Topic2\", \"Topic2\", \"Topic2\", \"Topic2\", \"Topic2\", \"Topic2\", \"Topic2\", \"Topic2\", \"Topic2\", \"Topic2\", \"Topic2\", \"Topic2\", \"Topic2\", \"Topic2\", \"Topic2\", \"Topic2\", \"Topic2\", \"Topic2\", \"Topic2\", \"Topic2\", \"Topic2\", \"Topic2\", \"Topic2\", \"Topic2\", \"Topic3\", \"Topic3\", \"Topic3\", \"Topic3\", \"Topic3\", \"Topic3\", \"Topic3\", \"Topic3\", \"Topic3\", \"Topic3\", \"Topic3\", \"Topic3\", \"Topic3\", \"Topic3\", \"Topic3\", \"Topic3\", \"Topic3\", \"Topic3\", \"Topic3\", \"Topic3\", \"Topic3\", \"Topic3\", \"Topic3\", \"Topic3\", \"Topic3\", \"Topic3\", \"Topic3\", \"Topic3\", \"Topic3\", \"Topic3\", \"Topic3\", \"Topic3\", \"Topic3\", \"Topic3\", \"Topic3\", \"Topic3\", \"Topic3\", \"Topic3\", \"Topic3\", \"Topic3\", \"Topic3\", \"Topic3\", \"Topic3\", \"Topic3\", \"Topic3\", \"Topic3\", \"Topic3\", \"Topic3\", \"Topic3\", \"Topic3\", \"Topic3\", \"Topic3\", \"Topic3\", \"Topic3\"], \"logprob\": [30.0, 29.0, 28.0, 27.0, 26.0, 25.0, 24.0, 23.0, 22.0, 21.0, 20.0, 19.0, 18.0, 17.0, 16.0, 15.0, 14.0, 13.0, 12.0, 11.0, 10.0, 9.0, 8.0, 7.0, 6.0, 5.0, 4.0, 3.0, 2.0, 1.0, -4.41349983215332, -4.304200172424316, -4.433700084686279, -4.6869001388549805, -4.861299991607666, -4.9928998947143555, -5.049699783325195, -5.087100028991699, -5.321000099182129, -5.378200054168701, -5.478000164031982, -5.467599868774414, -5.617599964141846, -5.521999835968018, -5.641600131988525, -5.1992998123168945, -5.607999801635742, -5.74459981918335, -5.88040018081665, -5.910600185394287, -6.02370023727417, -6.040900230407715, -6.037399768829346, -6.041800022125244, -6.039599895477295, -6.008800029754639, -6.089799880981445, -6.187099933624268, -6.140699863433838, -6.141300201416016, -6.133699893951416, -5.327700138092041, -5.6066999435424805, -5.88040018081665, -5.370299816131592, -5.741300106048584, -5.624499797821045, -5.802800178527832, -5.713600158691406, -4.929800033569336, -5.1570000648498535, -5.348800182342529, -5.420199871063232, -5.229000091552734, -5.779300212860107, -4.348899841308594, -4.583899974822998, -4.609399795532227, -4.744800090789795, -5.089099884033203, -5.179299831390381, -5.28439998626709, -5.2245001792907715, -5.265100002288818, -5.407700061798096, -5.443600177764893, -5.500800132751465, -5.486599922180176, -5.551300048828125, -5.562300205230713, -5.580699920654297, -5.686399936676025, -5.700200080871582, -5.644499778747559, -5.709199905395508, -5.687900066375732, -5.80049991607666, -5.70989990234375, -5.62529993057251, -5.781899929046631, -5.873499870300293, -6.030799865722656, -6.016499996185303, -6.0472002029418945, -6.163099765777588, -4.500699996948242, -5.063000202178955, -5.984600067138672, -5.482100009918213, -5.538899898529053, -5.207900047302246, -4.78879976272583, -5.379300117492676, -4.9191999435424805, -4.678800106048584, -5.259699821472168, -5.330100059509277, -5.244200229644775, -5.376399993896484, -5.247000217437744, -5.418600082397461, -5.413899898529053, -5.458899974822998, -5.36299991607666, -5.465700149536133, -5.4096999168396, -4.5121002197265625, -4.784999847412109, -4.767099857330322, -4.885499954223633, -5.146299839019775, -5.163300037384033, -5.521299839019775, -5.7104997634887695, -5.66510009765625, -5.679500102996826, -5.755000114440918, -5.7657999992370605, -5.872700214385986, -5.8109002113342285, -5.935200214385986, -5.976500034332275, -6.037700176239014, -6.133399963378906, -6.140999794006348, -6.081200122833252, -6.032100200653076, -6.263400077819824, -6.287600040435791, -6.325900077819824, -6.344699859619141, -6.312099933624268, -6.360300064086914, -6.276800155639648, -6.435400009155273, -6.489099979400635, -6.465000152587891, -4.337399959564209, -5.178599834442139, -4.434999942779541, -5.728300094604492, -5.770899772644043, -5.991300106048584, -5.325500011444092, -6.048299789428711, -6.055799961090088, -4.667500019073486, -4.72130012512207, -4.547699928283691, -5.57859992980957, -4.779300212860107, -5.21150016784668, -5.282299995422363, -4.960100173950195, -5.805699825286865, -5.488999843597412, -5.699399948120117, -5.621799945831299, -5.596799850463867, -5.712399959564209], \"loglift\": [30.0, 29.0, 28.0, 27.0, 26.0, 25.0, 24.0, 23.0, 22.0, 21.0, 20.0, 19.0, 18.0, 17.0, 16.0, 15.0, 14.0, 13.0, 12.0, 11.0, 10.0, 9.0, 8.0, 7.0, 6.0, 5.0, 4.0, 3.0, 2.0, 1.0, 0.8999000191688538, 0.8999000191688538, 0.8999000191688538, 0.8996999859809875, 0.899399995803833, 0.8992999792098999, 0.8991000056266785, 0.8991000056266785, 0.8986999988555908, 0.8985999822616577, 0.8984000086784363, 0.8981999754905701, 0.8981000185012817, 0.8981000185012817, 0.8980000019073486, 0.8978999853134155, 0.8978999853134155, 0.8977000117301941, 0.8973000049591064, 0.8971999883651733, 0.8967999815940857, 0.8967000246047974, 0.8967000246047974, 0.8967000246047974, 0.8967000246047974, 0.8962000012397766, 0.8962000012397766, 0.8960999846458435, 0.8959000110626221, 0.8959000110626221, 0.8952000141143799, 0.8407999873161316, 0.8206999897956848, 0.8551999926567078, 0.7652000188827515, 0.828000009059906, 0.7680000066757202, 0.8011999726295471, 0.7354000210762024, 0.3287000060081482, 0.4124000072479248, 0.4846999943256378, 0.2791999876499176, -0.12240000069141388, 0.15060000121593475, 0.9315000176429749, 0.9312999844551086, 0.9312000274658203, 0.9311000108718872, 0.9307000041007996, 0.9304999709129333, 0.9302999973297119, 0.9302999973297119, 0.9302999973297119, 0.9301000237464905, 0.9300000071525574, 0.9298999905586243, 0.9297999739646912, 0.9297999739646912, 0.9297000169754028, 0.9297000169754028, 0.9294000267982483, 0.9294000267982483, 0.9293000102043152, 0.9293000102043152, 0.9291999936103821, 0.929099977016449, 0.9290000200271606, 0.9289000034332275, 0.9289000034332275, 0.9284999966621399, 0.9282000064849854, 0.9280999898910522, 0.9280999898910522, 0.9276999831199646, 0.9204999804496765, 0.9124000072479248, 0.9273999929428101, 0.909600019454956, 0.9041000008583069, 0.8216000199317932, 0.7077999711036682, 0.8163999915122986, 0.6693999767303467, 0.5364999771118164, 0.7121999859809875, 0.7062000036239624, 0.6288999915122986, 0.7188000082969666, 0.5548999905586243, 0.7049000263214111, 0.6485999822616577, 0.6827999949455261, 0.25609999895095825, 0.5264000296592712, -0.30320000648498535, 1.6074999570846558, 1.6069999933242798, 1.6068999767303467, 1.6067999601364136, 1.6060999631881714, 1.6059999465942383, 1.6038000583648682, 1.603700041770935, 1.6035000085830688, 1.6035000085830688, 1.6032999753952026, 1.6029000282287598, 1.6026999950408936, 1.6026999950408936, 1.6023000478744507, 1.6019999980926514, 1.6016000509262085, 1.6008000373840332, 1.6007000207901, 1.6007000207901, 1.600600004196167, 1.5994000434875488, 1.5994000434875488, 1.5988999605178833, 1.5987999439239502, 1.5987999439239502, 1.5986000299453735, 1.5981999635696411, 1.5978000164031982, 1.5973000526428223, 1.5972000360488892, 1.5303000211715698, 1.544100046157837, 1.3488999605178833, 1.4774999618530273, 1.4848999977111816, 1.5285999774932861, 1.361299991607666, 1.5303000211715698, 1.523900032043457, 0.9359999895095825, 0.8977000117301941, 0.5587999820709229, 1.1934000253677368, 0.47920000553131104, 0.6500999927520752, 0.7251999974250793, 0.25529998540878296, 1.312000036239624, 0.5512999892234802, 1.0302000045776367, 0.48190000653266907, 0.33320000767707825, 0.7742999792098999]}, \"token.table\": {\"Topic\": [3, 3, 1, 2, 1, 2, 3, 1, 2, 3, 1, 3, 1, 2, 1, 2, 3, 1, 2, 3, 3, 1, 1, 1, 2, 2, 1, 2, 3, 3, 1, 2, 2, 1, 3, 1, 2, 1, 2, 3, 3, 1, 3, 1, 2, 1, 3, 3, 1, 2, 3, 2, 2, 1, 1, 3, 1, 3, 1, 2, 3, 1, 2, 3, 1, 3, 3, 1, 1, 1, 3, 3, 2, 3, 1, 3, 3, 1, 2, 2, 2, 1, 2, 3, 1, 2, 3, 1, 1, 2, 3, 1, 2, 3, 2, 1, 2, 3, 2, 2, 1, 3, 1, 2, 3, 1, 2, 3, 1, 2, 1, 2, 3, 2, 1, 1, 2, 3, 2, 1, 3, 1, 2, 3, 1, 1, 2, 3, 1, 2, 3, 3, 3, 1, 2, 3, 1, 2, 3, 1, 2, 3, 1, 3, 1, 2, 1, 1, 2, 3, 3, 1, 1, 3, 3, 2, 2, 1, 2, 2, 1, 2, 2, 1, 2, 1, 2, 3, 3, 2, 3, 3, 1, 1, 1, 2, 2, 2, 3, 1, 3, 1, 1, 2, 3, 2, 1, 2, 3, 2, 1, 2, 1, 2, 3, 1, 3, 1, 3, 3, 1, 2, 3, 1, 1, 2, 1, 2, 1, 3, 2, 1, 2, 3, 1, 2, 1, 2, 3], \"Freq\": [0.9973747730255127, 0.99812251329422, 0.8725507855415344, 0.1262902468442917, 0.32754430174827576, 0.11438055336475372, 0.5615045428276062, 0.8758605718612671, 0.12247202545404434, 0.9976999163627625, 0.9931445121765137, 0.9826567769050598, 0.19022998213768005, 0.8077881932258606, 0.9991844892501831, 0.9971460103988647, 0.9925104379653931, 0.999131977558136, 0.5086004734039307, 0.4914758503437042, 0.9963139891624451, 0.9957565069198608, 0.9983933568000793, 0.9223982095718384, 0.076866514980793, 0.9986987709999084, 0.5363391637802124, 0.4621053636074066, 0.9877188801765442, 0.9891123175621033, 0.9975606799125671, 0.998854398727417, 0.9965420365333557, 0.9951669573783875, 0.9953314661979675, 0.9922191500663757, 0.9995885491371155, 0.14539991319179535, 0.08481661230325699, 0.7714272737503052, 0.994239866733551, 0.8481689095497131, 0.14921489357948303, 0.9977183938026428, 0.9996458292007446, 0.2529207468032837, 0.7434336543083191, 0.996091365814209, 0.2834763824939728, 0.666418194770813, 0.05221933498978615, 0.9990837574005127, 0.9987553954124451, 0.9942598938941956, 0.9300699234008789, 0.07086247205734253, 0.9978387951850891, 0.9949278831481934, 0.5648095607757568, 0.11224544793367386, 0.32360124588012695, 0.35901692509651184, 0.29029083251953125, 0.34978505969047546, 0.9950679540634155, 0.9894298315048218, 0.9912687540054321, 0.998386561870575, 0.9991167187690735, 0.07299149036407471, 0.9123936295509338, 0.9953916072845459, 0.9940454959869385, 0.9938730001449585, 0.3363189995288849, 0.6617890000343323, 0.9870800375938416, 0.19739393889904022, 0.8017605543136597, 0.9922791123390198, 0.9978914856910706, 0.05709332600235939, 0.5097618103027344, 0.432278037071228, 0.2199935019016266, 0.6846526861190796, 0.0945766493678093, 0.9987768530845642, 0.14140042662620544, 0.7523569464683533, 0.10404936224222183, 0.16817130148410797, 0.7984349131584167, 0.033331248909235, 0.9927008152008057, 0.06862035393714905, 0.6736231446266174, 0.25846999883651733, 0.9972729682922363, 0.9959055781364441, 0.9965055584907532, 0.9982103109359741, 0.47204911708831787, 0.24770894646644592, 0.2780883312225342, 0.6143353581428528, 0.3210187554359436, 0.06518147140741348, 0.9972807168960571, 0.002762550488114357, 0.01956426538527012, 0.9806588292121887, 0.9970869421958923, 0.9961884617805481, 0.9983682036399841, 0.1700095236301422, 0.7374439239501953, 0.09052455425262451, 0.9985864162445068, 0.11718576401472092, 0.8788931965827942, 0.9433472156524658, 0.05636351555585861, 0.9946313500404358, 0.9973896741867065, 0.147300124168396, 0.7798241376876831, 0.07509417831897736, 0.39721912145614624, 0.2204347848892212, 0.3841239809989929, 0.9982788562774658, 0.9971222281455994, 0.9986845850944519, 0.585847020149231, 0.4141332507133484, 0.083406962454319, 0.5949696898460388, 0.3252871632575989, 0.9973161220550537, 0.9920507073402405, 0.9978348612785339, 0.07291238754987717, 0.923556923866272, 0.9990590214729309, 0.997562050819397, 0.9996700882911682, 0.08261153846979141, 0.895818829536438, 0.023234494030475616, 0.9944601058959961, 0.9969421029090881, 0.0619606152176857, 0.9345725774765015, 0.9849473237991333, 0.9949026107788086, 0.997896671295166, 0.10973837226629257, 0.8901001214981079, 0.9970234632492065, 0.01124050933867693, 0.9877597093582153, 0.997962236404419, 0.9970394968986511, 0.9982343912124634, 0.2009963095188141, 0.7691015601158142, 0.02990027703344822, 0.9956281781196594, 0.9978740215301514, 0.9972141981124878, 0.9946584105491638, 0.999567449092865, 0.9988450407981873, 0.02224944718182087, 0.9789757132530212, 0.9946979284286499, 0.9975610375404358, 0.9965274930000305, 0.06875471770763397, 0.928188681602478, 0.9973399043083191, 0.1276112049818039, 0.7968611121177673, 0.07656672596931458, 0.994915783405304, 0.6599541902542114, 0.1570308953523636, 0.1824953705072403, 0.9967570304870605, 0.9942778944969177, 0.9965317249298096, 0.12475721538066864, 0.7979263663291931, 0.07797326147556305, 0.21918685734272003, 0.7820985913276672, 0.07465676218271255, 0.9244263172149658, 0.9854736924171448, 0.027326015755534172, 0.972025454044342, 0.9963574409484863, 0.9958493709564209, 0.9957558512687683, 0.9972513318061829, 0.95718914270401, 0.041844334453344345, 0.11439603567123413, 0.8799694776535034, 0.998680591583252, 0.26095929741859436, 0.39143893122673035, 0.34707584977149963, 0.903300404548645, 0.09170562773942947, 0.15342216193675995, 0.3355056047439575, 0.5108452439308167], \"Term\": [\"alexa\", \"app\", \"area\", \"area\", \"awesome\", \"awesome\", \"awesome\", \"bad\", \"bad\", \"bass\", \"bathroom\", \"battery\", \"beautiful\", \"beautiful\", \"bed\", \"black\", \"bluetooth\", \"breakfast\", \"buy\", \"buy\", \"camera\", \"check\", \"clean\", \"close\", \"close\", \"color\", \"comfortable\", \"comfortable\", \"connect\", \"control\", \"convenient\", \"cut\", \"cute\", \"desk\", \"device\", \"downtown\", \"dress\", \"easy\", \"easy\", \"easy\", \"echo\", \"enjoy\", \"enjoy\", \"experience\", \"fabric\", \"fast\", \"fast\", \"feature\", \"feel\", \"feel\", \"feel\", \"fit\", \"flattering\", \"food\", \"free\", \"free\", \"friendly\", \"gift\", \"good\", \"good\", \"good\", \"great\", \"great\", \"great\", \"guest\", \"harmony\", \"headphone\", \"helpful\", \"hotel\", \"house\", \"house\", \"install\", \"jean\", \"keyboard\", \"kid\", \"kid\", \"kindle\", \"large\", \"large\", \"lbs\", \"length\", \"light\", \"light\", \"light\", \"little\", \"little\", \"little\", \"location\", \"long\", \"long\", \"long\", \"look\", \"look\", \"look\", \"loose\", \"love\", \"love\", \"love\", \"material\", \"medium\", \"morning\", \"music\", \"need\", \"need\", \"need\", \"nice\", \"nice\", \"nice\", \"night\", \"night\", \"order\", \"order\", \"original\", \"pant\", \"parking\", \"perfect\", \"perfect\", \"perfect\", \"petite\", \"phone\", \"phone\", \"place\", \"place\", \"play\", \"pool\", \"pretty\", \"pretty\", \"pretty\", \"price\", \"price\", \"price\", \"product\", \"program\", \"property\", \"purchase\", \"purchase\", \"quality\", \"quality\", \"quality\", \"quiet\", \"regular\", \"remote\", \"replace\", \"replace\", \"restaurant\", \"retailer\", \"room\", \"run\", \"run\", \"run\", \"screen\", \"service\", \"set\", \"set\", \"setup\", \"shape\", \"shirt\", \"short\", \"short\", \"shoulder\", \"size\", \"size\", \"skirt\", \"sleep\", \"sleeve\", \"small\", \"small\", \"small\", \"smart\", \"soft\", \"sound\", \"speaker\", \"staff\", \"stay\", \"style\", \"style\", \"summer\", \"sweater\", \"tablet\", \"taste\", \"taste\", \"thank\", \"think\", \"think\", \"think\", \"tight\", \"time\", \"time\", \"time\", \"top\", \"trip\", \"true\", \"try\", \"try\", \"try\", \"tv\", \"tv\", \"use\", \"use\", \"user\", \"usually\", \"usually\", \"video\", \"view\", \"visit\", \"waist\", \"walk\", \"walk\", \"watch\", \"watch\", \"wear\", \"well\", \"well\", \"well\", \"wonderful\", \"wonderful\", \"work\", \"work\", \"work\"]}, \"R\": 30, \"lambda.step\": 0.01, \"plot.opts\": {\"xlab\": \"PC1\", \"ylab\": \"PC2\"}, \"topic.order\": [1, 2, 3]};\n",
       "\n",
       "function LDAvis_load_lib(url, callback){\n",
       "  var s = document.createElement('script');\n",
       "  s.src = url;\n",
       "  s.async = true;\n",
       "  s.onreadystatechange = s.onload = callback;\n",
       "  s.onerror = function(){console.warn(\"failed to load library \" + url);};\n",
       "  document.getElementsByTagName(\"head\")[0].appendChild(s);\n",
       "}\n",
       "\n",
       "if(typeof(LDAvis) !== \"undefined\"){\n",
       "   // already loaded: just create the visualization\n",
       "   !function(LDAvis){\n",
       "       new LDAvis(\"#\" + \"ldavis_el3063626185866106886596484219\", ldavis_el3063626185866106886596484219_data);\n",
       "   }(LDAvis);\n",
       "}else if(typeof define === \"function\" && define.amd){\n",
       "   // require.js is available: use it to load d3/LDAvis\n",
       "   require.config({paths: {d3: \"https://cdnjs.cloudflare.com/ajax/libs/d3/3.5.5/d3.min\"}});\n",
       "   require([\"d3\"], function(d3){\n",
       "      window.d3 = d3;\n",
       "      LDAvis_load_lib(\"https://cdn.rawgit.com/bmabey/pyLDAvis/files/ldavis.v1.0.0.js\", function(){\n",
       "        new LDAvis(\"#\" + \"ldavis_el3063626185866106886596484219\", ldavis_el3063626185866106886596484219_data);\n",
       "      });\n",
       "    });\n",
       "}else{\n",
       "    // require.js not available: dynamically load d3 & LDAvis\n",
       "    LDAvis_load_lib(\"https://cdnjs.cloudflare.com/ajax/libs/d3/3.5.5/d3.min.js\", function(){\n",
       "         LDAvis_load_lib(\"https://cdn.rawgit.com/bmabey/pyLDAvis/files/ldavis.v1.0.0.js\", function(){\n",
       "                 new LDAvis(\"#\" + \"ldavis_el3063626185866106886596484219\", ldavis_el3063626185866106886596484219_data);\n",
       "            })\n",
       "         });\n",
       "}\n",
       "</script>"
      ],
      "text/plain": [
       "PreparedData(topic_coordinates=              x         y  topics  cluster       Freq\n",
       "topic                                                \n",
       "0      0.125116  0.164404       1        1  40.629532\n",
       "1     -0.231560  0.009082       2        1  39.365891\n",
       "2      0.106444 -0.173487       3        1  20.004581, topic_info=        Term        Freq       Total Category  logprob  loglift\n",
       "34      room  884.000000  884.000000  Default  30.0000  30.0000\n",
       "103    dress  819.000000  819.000000  Default  29.0000  29.0000\n",
       "19     hotel  792.000000  792.000000  Default  28.0000  28.0000\n",
       "40      stay  776.000000  776.000000  Default  27.0000  27.0000\n",
       "85       use  455.000000  455.000000  Default  26.0000  26.0000\n",
       "..       ...         ...         ...      ...      ...      ...\n",
       "205     well  133.037766  383.201538   Topic3  -5.4890   0.5513\n",
       "386  awesome  107.794739  192.340393   Topic3  -5.6994   1.0302\n",
       "542  quality  116.500137  359.682190   Topic3  -5.6218   0.4819\n",
       "526     need  119.450882  427.921570   Topic3  -5.5968   0.3332\n",
       "285    light  106.403214  245.212555   Topic3  -5.7124   0.7743\n",
       "\n",
       "[180 rows x 6 columns], token_table=      Topic      Freq       Term\n",
       "term                            \n",
       "2255      3  0.997375      alexa\n",
       "470       3  0.998123        app\n",
       "154       1  0.872551       area\n",
       "154       2  0.126290       area\n",
       "386       1  0.327544    awesome\n",
       "...     ...       ...        ...\n",
       "99        1  0.903300  wonderful\n",
       "99        2  0.091706  wonderful\n",
       "69        1  0.153422       work\n",
       "69        2  0.335506       work\n",
       "69        3  0.510845       work\n",
       "\n",
       "[219 rows x 3 columns], R=30, lambda_step=0.01, plot_opts={'xlab': 'PC1', 'ylab': 'PC2'}, topic_order=[1, 2, 3])"
      ]
     },
     "execution_count": 39,
     "metadata": {},
     "output_type": "execute_result"
    }
   ],
   "source": [
    "vis = pyLDAvis.gensim.prepare(lda_tfidf,tfidf[corpus], dictionary=lda_tfidf.id2word)\n",
    "vis"
   ]
  },
  {
   "cell_type": "code",
   "execution_count": 40,
   "metadata": {},
   "outputs": [
    {
     "data": {
      "text/plain": [
       "['lda_model_tfidf.pkl']"
      ]
     },
     "execution_count": 40,
     "metadata": {},
     "output_type": "execute_result"
    }
   ],
   "source": [
    "import joblib\n",
    "joblib.dump(lda_model, 'lda_model.pkl')\n",
    "joblib.dump(lda_tfidf, 'lda_model_tfidf.pkl')"
   ]
  },
  {
   "cell_type": "code",
   "execution_count": null,
   "metadata": {},
   "outputs": [],
   "source": []
  },
  {
   "cell_type": "code",
   "execution_count": null,
   "metadata": {},
   "outputs": [],
   "source": []
  }
 ],
 "metadata": {
  "kernelspec": {
   "display_name": "Python 3",
   "language": "python",
   "name": "python3"
  },
  "language_info": {
   "codemirror_mode": {
    "name": "ipython",
    "version": 3
   },
   "file_extension": ".py",
   "mimetype": "text/x-python",
   "name": "python",
   "nbconvert_exporter": "python",
   "pygments_lexer": "ipython3",
   "version": "3.7.3"
  }
 },
 "nbformat": 4,
 "nbformat_minor": 2
}

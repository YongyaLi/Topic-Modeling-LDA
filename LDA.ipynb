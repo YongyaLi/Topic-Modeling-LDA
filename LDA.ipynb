{
 "cells": [
  {
   "cell_type": "markdown",
   "metadata": {},
   "source": [
    "<h2 style=\"text-align: center\"> Topic Modeling: Latent Dirichlet Allocation (LDA) </h2>"
   ]
  },
  {
   "cell_type": "markdown",
   "metadata": {},
   "source": [
    "<img align=\"center\" width=\"800\" height=\"200\" src=\"https://www.cdc.gov/coronavirus/2019-ncov/images/case-updates/math-models.jpg\">"
   ]
  },
  {
   "cell_type": "markdown",
   "metadata": {},
   "source": [
    "#### 1. Loading data\n",
    "####  2. Data Cleaning\n",
    "####  3. Phrase Modeling: Bi-grams and Tri-grams\n",
    "####  4. Data transformation: Corpus and Dictionary\n",
    "####  5. Base Model Performance\n",
    "####  6. Hyperparameter Tuning\n",
    "####  7. Final Model\n",
    "####  8. Visualize Results\n",
    "\n",
    "Reference:https://towardsdatascience.com/evaluate-topic-model-in-python-latent-dirichlet-allocation-lda-7d57484bb5d0 "
   ]
  },
  {
   "cell_type": "markdown",
   "metadata": {
    "scrolled": true
   },
   "source": [
    "### Loading data"
   ]
  },
  {
   "cell_type": "code",
   "execution_count": 32,
   "metadata": {},
   "outputs": [],
   "source": [
    "import numpy as np\n",
    "import pandas as pd\n",
    "import matplotlib.pyplot as plt\n",
    "import spacy\n",
    "import numpy as np\n",
    "import tqdm"
   ]
  },
  {
   "cell_type": "code",
   "execution_count": 2,
   "metadata": {},
   "outputs": [],
   "source": [
    "data = pd.read_csv('training_data.csv')"
   ]
  },
  {
   "cell_type": "code",
   "execution_count": 3,
   "metadata": {},
   "outputs": [
    {
     "data": {
      "text/html": [
       "<div>\n",
       "<style scoped>\n",
       "    .dataframe tbody tr th:only-of-type {\n",
       "        vertical-align: middle;\n",
       "    }\n",
       "\n",
       "    .dataframe tbody tr th {\n",
       "        vertical-align: top;\n",
       "    }\n",
       "\n",
       "    .dataframe thead th {\n",
       "        text-align: right;\n",
       "    }\n",
       "</style>\n",
       "<table border=\"1\" class=\"dataframe\">\n",
       "  <thead>\n",
       "    <tr style=\"text-align: right;\">\n",
       "      <th></th>\n",
       "      <th>reviews.title</th>\n",
       "      <th>reviews.text</th>\n",
       "      <th>reviews.rating</th>\n",
       "      <th>reviews.date</th>\n",
       "      <th>reviews.userCity</th>\n",
       "      <th>reviews.userProvince</th>\n",
       "      <th>primaryCategories</th>\n",
       "      <th>categories</th>\n",
       "      <th>name</th>\n",
       "      <th>address</th>\n",
       "      <th>...</th>\n",
       "      <th>dimension</th>\n",
       "      <th>flavors</th>\n",
       "      <th>sizes</th>\n",
       "      <th>weight</th>\n",
       "      <th>colors</th>\n",
       "      <th>imageURLs</th>\n",
       "      <th>review.user_age</th>\n",
       "      <th>divisionName</th>\n",
       "      <th>departmentName</th>\n",
       "      <th>className</th>\n",
       "    </tr>\n",
       "  </thead>\n",
       "  <tbody>\n",
       "    <tr>\n",
       "      <th>0</th>\n",
       "      <td>St Patrick Day Dash Hotel</td>\n",
       "      <td>We stayed at this hotel for the St Patrick's D...</td>\n",
       "      <td>4</td>\n",
       "      <td>2016-06-08T00:00:00.000Z</td>\n",
       "      <td>Seattle</td>\n",
       "      <td>Washington</td>\n",
       "      <td>Accommodation &amp; Food Services</td>\n",
       "      <td>Hotels and motels,Hotel South Lake Union,Hotel</td>\n",
       "      <td>Hyatt House Seattle/Downtown</td>\n",
       "      <td>201 5th Ave N</td>\n",
       "      <td>...</td>\n",
       "      <td>NaN</td>\n",
       "      <td>NaN</td>\n",
       "      <td>NaN</td>\n",
       "      <td>NaN</td>\n",
       "      <td>NaN</td>\n",
       "      <td>NaN</td>\n",
       "      <td>NaN</td>\n",
       "      <td>NaN</td>\n",
       "      <td>NaN</td>\n",
       "      <td>NaN</td>\n",
       "    </tr>\n",
       "    <tr>\n",
       "      <th>1</th>\n",
       "      <td>GREAT SPEAKERS</td>\n",
       "      <td>GREAT SPEAKERS FOR THE PRICE...GOT THEM ON SAL...</td>\n",
       "      <td>5</td>\n",
       "      <td>2013-01-20T00:00:00.000Z</td>\n",
       "      <td>NaN</td>\n",
       "      <td>NaN</td>\n",
       "      <td>Electronics</td>\n",
       "      <td>Auto &amp; Tires,Auto Electronics,Car Speakers and...</td>\n",
       "      <td>Alpine - 6-1/2\" 2-Way Coaxial Car Speakers wit...</td>\n",
       "      <td>NaN</td>\n",
       "      <td>...</td>\n",
       "      <td>NaN</td>\n",
       "      <td>NaN</td>\n",
       "      <td>NaN</td>\n",
       "      <td>5.2 pounds</td>\n",
       "      <td>NaN</td>\n",
       "      <td>https://i5.walmartimages.com/asr/e31a71ea-802e...</td>\n",
       "      <td>NaN</td>\n",
       "      <td>NaN</td>\n",
       "      <td>NaN</td>\n",
       "      <td>NaN</td>\n",
       "    </tr>\n",
       "    <tr>\n",
       "      <th>2</th>\n",
       "      <td>NaN</td>\n",
       "      <td>I love this jumpsuit! it runs a little large b...</td>\n",
       "      <td>4</td>\n",
       "      <td>NaN</td>\n",
       "      <td>NaN</td>\n",
       "      <td>NaN</td>\n",
       "      <td>Clothing</td>\n",
       "      <td>NaN</td>\n",
       "      <td>NaN</td>\n",
       "      <td>NaN</td>\n",
       "      <td>...</td>\n",
       "      <td>NaN</td>\n",
       "      <td>NaN</td>\n",
       "      <td>NaN</td>\n",
       "      <td>NaN</td>\n",
       "      <td>NaN</td>\n",
       "      <td>NaN</td>\n",
       "      <td>25.0</td>\n",
       "      <td>General</td>\n",
       "      <td>Bottoms</td>\n",
       "      <td>Pants</td>\n",
       "    </tr>\n",
       "    <tr>\n",
       "      <th>3</th>\n",
       "      <td>Works great. Instructions were not clear that ...</td>\n",
       "      <td>Works great. Instructions were not clear that ...</td>\n",
       "      <td>5</td>\n",
       "      <td>NaN</td>\n",
       "      <td>NaN</td>\n",
       "      <td>NaN</td>\n",
       "      <td>Electronics</td>\n",
       "      <td>Office,Office Technology,Phones &amp; Accessories,...</td>\n",
       "      <td>Clarity - Super-Loud Phone Ringer - White</td>\n",
       "      <td>NaN</td>\n",
       "      <td>...</td>\n",
       "      <td>NaN</td>\n",
       "      <td>NaN</td>\n",
       "      <td>NaN</td>\n",
       "      <td>1.2 pounds</td>\n",
       "      <td>Cream</td>\n",
       "      <td>https://i5.walmartimages.com/asr/05e84e90-d193...</td>\n",
       "      <td>NaN</td>\n",
       "      <td>NaN</td>\n",
       "      <td>NaN</td>\n",
       "      <td>NaN</td>\n",
       "    </tr>\n",
       "    <tr>\n",
       "      <th>4</th>\n",
       "      <td>Fun place and great staff</td>\n",
       "      <td>Bad: Everything was great. Good: Superior expe...</td>\n",
       "      <td>5</td>\n",
       "      <td>2017-05-15T00:00:00.000Z</td>\n",
       "      <td>NaN</td>\n",
       "      <td>NaN</td>\n",
       "      <td>Accommodation &amp; Food Services</td>\n",
       "      <td>Hotels,Honeymoon Resorts,Resorts Reservations,...</td>\n",
       "      <td>Virgin Hotels Chicago</td>\n",
       "      <td>203 N Wabash Ave</td>\n",
       "      <td>...</td>\n",
       "      <td>NaN</td>\n",
       "      <td>NaN</td>\n",
       "      <td>NaN</td>\n",
       "      <td>NaN</td>\n",
       "      <td>NaN</td>\n",
       "      <td>NaN</td>\n",
       "      <td>NaN</td>\n",
       "      <td>NaN</td>\n",
       "      <td>NaN</td>\n",
       "      <td>NaN</td>\n",
       "    </tr>\n",
       "  </tbody>\n",
       "</table>\n",
       "<p>5 rows × 35 columns</p>\n",
       "</div>"
      ],
      "text/plain": [
       "                                       reviews.title  \\\n",
       "0                          St Patrick Day Dash Hotel   \n",
       "1                                     GREAT SPEAKERS   \n",
       "2                                                NaN   \n",
       "3  Works great. Instructions were not clear that ...   \n",
       "4                          Fun place and great staff   \n",
       "\n",
       "                                        reviews.text  reviews.rating  \\\n",
       "0  We stayed at this hotel for the St Patrick's D...               4   \n",
       "1  GREAT SPEAKERS FOR THE PRICE...GOT THEM ON SAL...               5   \n",
       "2  I love this jumpsuit! it runs a little large b...               4   \n",
       "3  Works great. Instructions were not clear that ...               5   \n",
       "4  Bad: Everything was great. Good: Superior expe...               5   \n",
       "\n",
       "               reviews.date reviews.userCity reviews.userProvince  \\\n",
       "0  2016-06-08T00:00:00.000Z          Seattle           Washington   \n",
       "1  2013-01-20T00:00:00.000Z              NaN                  NaN   \n",
       "2                       NaN              NaN                  NaN   \n",
       "3                       NaN              NaN                  NaN   \n",
       "4  2017-05-15T00:00:00.000Z              NaN                  NaN   \n",
       "\n",
       "               primaryCategories  \\\n",
       "0  Accommodation & Food Services   \n",
       "1                    Electronics   \n",
       "2                       Clothing   \n",
       "3                    Electronics   \n",
       "4  Accommodation & Food Services   \n",
       "\n",
       "                                          categories  \\\n",
       "0     Hotels and motels,Hotel South Lake Union,Hotel   \n",
       "1  Auto & Tires,Auto Electronics,Car Speakers and...   \n",
       "2                                                NaN   \n",
       "3  Office,Office Technology,Phones & Accessories,...   \n",
       "4  Hotels,Honeymoon Resorts,Resorts Reservations,...   \n",
       "\n",
       "                                                name           address  ...  \\\n",
       "0                       Hyatt House Seattle/Downtown     201 5th Ave N  ...   \n",
       "1  Alpine - 6-1/2\" 2-Way Coaxial Car Speakers wit...               NaN  ...   \n",
       "2                                                NaN               NaN  ...   \n",
       "3          Clarity - Super-Loud Phone Ringer - White               NaN  ...   \n",
       "4                              Virgin Hotels Chicago  203 N Wabash Ave  ...   \n",
       "\n",
       "  dimension flavors sizes      weight  colors  \\\n",
       "0       NaN     NaN   NaN         NaN     NaN   \n",
       "1       NaN     NaN   NaN  5.2 pounds     NaN   \n",
       "2       NaN     NaN   NaN         NaN     NaN   \n",
       "3       NaN     NaN   NaN  1.2 pounds   Cream   \n",
       "4       NaN     NaN   NaN         NaN     NaN   \n",
       "\n",
       "                                           imageURLs review.user_age  \\\n",
       "0                                                NaN             NaN   \n",
       "1  https://i5.walmartimages.com/asr/e31a71ea-802e...             NaN   \n",
       "2                                                NaN            25.0   \n",
       "3  https://i5.walmartimages.com/asr/05e84e90-d193...             NaN   \n",
       "4                                                NaN             NaN   \n",
       "\n",
       "  divisionName departmentName className  \n",
       "0          NaN            NaN       NaN  \n",
       "1          NaN            NaN       NaN  \n",
       "2      General        Bottoms     Pants  \n",
       "3          NaN            NaN       NaN  \n",
       "4          NaN            NaN       NaN  \n",
       "\n",
       "[5 rows x 35 columns]"
      ]
     },
     "execution_count": 3,
     "metadata": {},
     "output_type": "execute_result"
    }
   ],
   "source": [
    "data.head()"
   ]
  },
  {
   "cell_type": "markdown",
   "metadata": {},
   "source": [
    "### Loading data"
   ]
  },
  {
   "cell_type": "code",
   "execution_count": 4,
   "metadata": {},
   "outputs": [],
   "source": [
    "df = data[['reviews.text','reviews.rating']].copy()"
   ]
  },
  {
   "cell_type": "code",
   "execution_count": 5,
   "metadata": {},
   "outputs": [
    {
     "data": {
      "text/html": [
       "<div>\n",
       "<style scoped>\n",
       "    .dataframe tbody tr th:only-of-type {\n",
       "        vertical-align: middle;\n",
       "    }\n",
       "\n",
       "    .dataframe tbody tr th {\n",
       "        vertical-align: top;\n",
       "    }\n",
       "\n",
       "    .dataframe thead th {\n",
       "        text-align: right;\n",
       "    }\n",
       "</style>\n",
       "<table border=\"1\" class=\"dataframe\">\n",
       "  <thead>\n",
       "    <tr style=\"text-align: right;\">\n",
       "      <th></th>\n",
       "      <th>reviews.text</th>\n",
       "      <th>reviews.rating</th>\n",
       "    </tr>\n",
       "  </thead>\n",
       "  <tbody>\n",
       "    <tr>\n",
       "      <th>0</th>\n",
       "      <td>We stayed at this hotel for the St Patrick's D...</td>\n",
       "      <td>4</td>\n",
       "    </tr>\n",
       "    <tr>\n",
       "      <th>1</th>\n",
       "      <td>GREAT SPEAKERS FOR THE PRICE...GOT THEM ON SAL...</td>\n",
       "      <td>5</td>\n",
       "    </tr>\n",
       "    <tr>\n",
       "      <th>2</th>\n",
       "      <td>I love this jumpsuit! it runs a little large b...</td>\n",
       "      <td>4</td>\n",
       "    </tr>\n",
       "    <tr>\n",
       "      <th>3</th>\n",
       "      <td>Works great. Instructions were not clear that ...</td>\n",
       "      <td>5</td>\n",
       "    </tr>\n",
       "    <tr>\n",
       "      <th>4</th>\n",
       "      <td>Bad: Everything was great. Good: Superior expe...</td>\n",
       "      <td>5</td>\n",
       "    </tr>\n",
       "  </tbody>\n",
       "</table>\n",
       "</div>"
      ],
      "text/plain": [
       "                                        reviews.text  reviews.rating\n",
       "0  We stayed at this hotel for the St Patrick's D...               4\n",
       "1  GREAT SPEAKERS FOR THE PRICE...GOT THEM ON SAL...               5\n",
       "2  I love this jumpsuit! it runs a little large b...               4\n",
       "3  Works great. Instructions were not clear that ...               5\n",
       "4  Bad: Everything was great. Good: Superior expe...               5"
      ]
     },
     "execution_count": 5,
     "metadata": {},
     "output_type": "execute_result"
    }
   ],
   "source": [
    "df.head()"
   ]
  },
  {
   "cell_type": "code",
   "execution_count": 6,
   "metadata": {},
   "outputs": [],
   "source": [
    "def standardize_text(df, text_field):\n",
    "    df[text_field] = df[text_field].str.replace(r\"http\\S+\", \"\")\n",
    "    df[text_field] = df[text_field].str.replace(r\"http\", \"\")\n",
    "    df[text_field] = df[text_field].str.replace(r\"@\\S+\", \"\")\n",
    "    df[text_field] = df[text_field].str.replace(r\"[^A-Za-z0-9(),!?@\\'\\`\\\"\\_\\n]\", \" \")\n",
    "    df[text_field] = df[text_field].str.replace(r\"@\", \"at\")\n",
    "    df[text_field] = df[text_field].str.lower()\n",
    "    return df\n"
   ]
  },
  {
   "cell_type": "code",
   "execution_count": 7,
   "metadata": {},
   "outputs": [],
   "source": [
    "df= standardize_text(df, \"reviews.text\")"
   ]
  },
  {
   "cell_type": "code",
   "execution_count": 8,
   "metadata": {},
   "outputs": [
    {
     "data": {
      "text/html": [
       "<div>\n",
       "<style scoped>\n",
       "    .dataframe tbody tr th:only-of-type {\n",
       "        vertical-align: middle;\n",
       "    }\n",
       "\n",
       "    .dataframe tbody tr th {\n",
       "        vertical-align: top;\n",
       "    }\n",
       "\n",
       "    .dataframe thead th {\n",
       "        text-align: right;\n",
       "    }\n",
       "</style>\n",
       "<table border=\"1\" class=\"dataframe\">\n",
       "  <thead>\n",
       "    <tr style=\"text-align: right;\">\n",
       "      <th></th>\n",
       "      <th>reviews.text</th>\n",
       "      <th>reviews.rating</th>\n",
       "    </tr>\n",
       "  </thead>\n",
       "  <tbody>\n",
       "    <tr>\n",
       "      <th>0</th>\n",
       "      <td>we stayed at this hotel for the st patrick's d...</td>\n",
       "      <td>4</td>\n",
       "    </tr>\n",
       "    <tr>\n",
       "      <th>1</th>\n",
       "      <td>great speakers for the price   got them on sal...</td>\n",
       "      <td>5</td>\n",
       "    </tr>\n",
       "    <tr>\n",
       "      <th>2</th>\n",
       "      <td>i love this jumpsuit! it runs a little large b...</td>\n",
       "      <td>4</td>\n",
       "    </tr>\n",
       "    <tr>\n",
       "      <th>3</th>\n",
       "      <td>works great  instructions were not clear that ...</td>\n",
       "      <td>5</td>\n",
       "    </tr>\n",
       "    <tr>\n",
       "      <th>4</th>\n",
       "      <td>bad  everything was great  good  superior expe...</td>\n",
       "      <td>5</td>\n",
       "    </tr>\n",
       "  </tbody>\n",
       "</table>\n",
       "</div>"
      ],
      "text/plain": [
       "                                        reviews.text  reviews.rating\n",
       "0  we stayed at this hotel for the st patrick's d...               4\n",
       "1  great speakers for the price   got them on sal...               5\n",
       "2  i love this jumpsuit! it runs a little large b...               4\n",
       "3  works great  instructions were not clear that ...               5\n",
       "4  bad  everything was great  good  superior expe...               5"
      ]
     },
     "execution_count": 8,
     "metadata": {},
     "output_type": "execute_result"
    }
   ],
   "source": [
    "df.head()"
   ]
  },
  {
   "cell_type": "code",
   "execution_count": 9,
   "metadata": {},
   "outputs": [],
   "source": [
    "import gensim\n",
    "from gensim import corpora\n",
    "from gensim import models\n",
    "from gensim.utils import simple_preprocess\n",
    "from gensim.parsing.preprocessing import remove_stopwords\n"
   ]
  },
  {
   "cell_type": "code",
   "execution_count": 10,
   "metadata": {},
   "outputs": [],
   "source": [
    "reviews = df['reviews.text'].to_list()"
   ]
  },
  {
   "cell_type": "code",
   "execution_count": null,
   "metadata": {},
   "outputs": [],
   "source": []
  },
  {
   "cell_type": "code",
   "execution_count": 12,
   "metadata": {},
   "outputs": [],
   "source": [
    "docs = [simple_preprocess(remove_stopwords(r)) for r in reviews]"
   ]
  },
  {
   "cell_type": "code",
   "execution_count": null,
   "metadata": {},
   "outputs": [],
   "source": []
  },
  {
   "cell_type": "code",
   "execution_count": 14,
   "metadata": {},
   "outputs": [],
   "source": [
    "review_dict = corpora.Dictionary(docs)"
   ]
  },
  {
   "cell_type": "code",
   "execution_count": 15,
   "metadata": {},
   "outputs": [
    {
     "name": "stdout",
     "output_type": "stream",
     "text": [
      "Dictionary(31531 unique tokens: ['actually', 'beware', 'blinds', 'breakfast', 'comments']...)\n"
     ]
    }
   ],
   "source": [
    "print(review_dict)"
   ]
  },
  {
   "cell_type": "markdown",
   "metadata": {},
   "source": [
    "### Phrase Modeling: Bi-grams and Tri-grams"
   ]
  },
  {
   "cell_type": "code",
   "execution_count": 16,
   "metadata": {},
   "outputs": [],
   "source": [
    "# Build the bigram and trigram models\n",
    "bigram = gensim.models.Phrases(docs, min_count=5, threshold=100) # higher threshold fewer phrases.\n",
    "trigram = gensim.models.Phrases(bigram[docs], threshold=100)\n",
    "# Faster way to get a sentence clubbed as a trigram/bigram\n",
    "bigram_mod = gensim.models.phrases.Phraser(bigram)\n",
    "trigram_mod = gensim.models.phrases.Phraser(trigram)"
   ]
  },
  {
   "cell_type": "code",
   "execution_count": 17,
   "metadata": {},
   "outputs": [],
   "source": [
    "# prepare stopwords\n",
    "from nltk.corpus import stopwords\n",
    "stop_words = stopwords.words('english')\n",
    "stop_words.extend(['it', 're', 've', 'didn'])\n",
    "\n",
    "# Define functions for stopwords, bigrams, trigrams and lemmatization\n",
    "def remove_stopwords(texts):\n",
    "    return [[word for word in simple_preprocess(str(doc)) if word not in stop_words] for doc in texts]\n",
    "def make_bigrams(texts):\n",
    "    return [bigram_mod[doc] for doc in texts]\n",
    "def make_trigrams(texts):\n",
    "    return [trigram_mod[bigram_mod[doc]] for doc in texts]\n",
    "def lemmatization(texts, allowed_postags=['NOUN', 'ADJ', 'VERB', 'ADV']):\n",
    "    \"\"\"https://spacy.io/api/annotation\"\"\"\n",
    "    texts_out = []\n",
    "    for sent in texts:\n",
    "        doc = nlp(\" \".join(sent)) \n",
    "        texts_out.append([token.lemma_ for token in doc if token.pos_ in allowed_postags])\n",
    "    return texts_out"
   ]
  },
  {
   "cell_type": "code",
   "execution_count": 18,
   "metadata": {},
   "outputs": [
    {
     "name": "stdout",
     "output_type": "stream",
     "text": [
      "Requirement already satisfied: en_core_web_sm==2.3.1 from https://github.com/explosion/spacy-models/releases/download/en_core_web_sm-2.3.1/en_core_web_sm-2.3.1.tar.gz#egg=en_core_web_sm==2.3.1 in c:\\users\\tellytenny\\anaconda3\\lib\\site-packages (2.3.1)\n",
      "Requirement already satisfied: spacy<2.4.0,>=2.3.0 in c:\\users\\tellytenny\\anaconda3\\lib\\site-packages (from en_core_web_sm==2.3.1) (2.3.2)\n",
      "Requirement already satisfied: preshed<3.1.0,>=3.0.2 in c:\\users\\tellytenny\\anaconda3\\lib\\site-packages (from spacy<2.4.0,>=2.3.0->en_core_web_sm==2.3.1) (3.0.2)\n",
      "Requirement already satisfied: catalogue<1.1.0,>=0.0.7 in c:\\users\\tellytenny\\anaconda3\\lib\\site-packages (from spacy<2.4.0,>=2.3.0->en_core_web_sm==2.3.1) (1.0.0)\n",
      "Requirement already satisfied: plac<1.2.0,>=0.9.6 in c:\\users\\tellytenny\\anaconda3\\lib\\site-packages (from spacy<2.4.0,>=2.3.0->en_core_web_sm==2.3.1) (1.1.3)\n",
      "Requirement already satisfied: wasabi<1.1.0,>=0.4.0 in c:\\users\\tellytenny\\anaconda3\\lib\\site-packages (from spacy<2.4.0,>=2.3.0->en_core_web_sm==2.3.1) (0.8.0)\n",
      "Requirement already satisfied: setuptools in c:\\users\\tellytenny\\appdata\\roaming\\python\\python37\\site-packages (from spacy<2.4.0,>=2.3.0->en_core_web_sm==2.3.1) (50.3.0)\n",
      "Requirement already satisfied: blis<0.5.0,>=0.4.0 in c:\\users\\tellytenny\\anaconda3\\lib\\site-packages (from spacy<2.4.0,>=2.3.0->en_core_web_sm==2.3.1) (0.4.1)\n",
      "Requirement already satisfied: cymem<2.1.0,>=2.0.2 in c:\\users\\tellytenny\\anaconda3\\lib\\site-packages (from spacy<2.4.0,>=2.3.0->en_core_web_sm==2.3.1) (2.0.3)\n",
      "Requirement already satisfied: srsly<1.1.0,>=1.0.2 in c:\\users\\tellytenny\\anaconda3\\lib\\site-packages (from spacy<2.4.0,>=2.3.0->en_core_web_sm==2.3.1) (1.0.2)\n",
      "Requirement already satisfied: tqdm<5.0.0,>=4.38.0 in c:\\users\\tellytenny\\anaconda3\\lib\\site-packages (from spacy<2.4.0,>=2.3.0->en_core_web_sm==2.3.1) (4.50.0)\n",
      "Requirement already satisfied: requests<3.0.0,>=2.13.0 in c:\\users\\tellytenny\\appdata\\roaming\\python\\python37\\site-packages (from spacy<2.4.0,>=2.3.0->en_core_web_sm==2.3.1) (2.24.0)\n",
      "Requirement already satisfied: numpy>=1.15.0 in c:\\users\\tellytenny\\anaconda3\\lib\\site-packages (from spacy<2.4.0,>=2.3.0->en_core_web_sm==2.3.1) (1.18.5)\n",
      "Requirement already satisfied: thinc==7.4.1 in c:\\users\\tellytenny\\anaconda3\\lib\\site-packages (from spacy<2.4.0,>=2.3.0->en_core_web_sm==2.3.1) (7.4.1)\n",
      "Requirement already satisfied: murmurhash<1.1.0,>=0.28.0 in c:\\users\\tellytenny\\anaconda3\\lib\\site-packages (from spacy<2.4.0,>=2.3.0->en_core_web_sm==2.3.1) (1.0.2)\n",
      "Requirement already satisfied: importlib-metadata>=0.20; python_version < \"3.8\" in c:\\users\\tellytenny\\appdata\\roaming\\python\\python37\\site-packages (from catalogue<1.1.0,>=0.0.7->spacy<2.4.0,>=2.3.0->en_core_web_sm==2.3.1) (1.7.0)\n",
      "Requirement already satisfied: urllib3!=1.25.0,!=1.25.1,<1.26,>=1.21.1 in c:\\users\\tellytenny\\appdata\\roaming\\python\\python37\\site-packages (from requests<3.0.0,>=2.13.0->spacy<2.4.0,>=2.3.0->en_core_web_sm==2.3.1) (1.25.10)\n",
      "Requirement already satisfied: certifi>=2017.4.17 in c:\\users\\tellytenny\\appdata\\roaming\\python\\python37\\site-packages (from requests<3.0.0,>=2.13.0->spacy<2.4.0,>=2.3.0->en_core_web_sm==2.3.1) (2020.6.20)\n",
      "Requirement already satisfied: idna<3,>=2.5 in c:\\users\\tellytenny\\appdata\\roaming\\python\\python37\\site-packages (from requests<3.0.0,>=2.13.0->spacy<2.4.0,>=2.3.0->en_core_web_sm==2.3.1) (2.10)\n",
      "Requirement already satisfied: chardet<4,>=3.0.2 in c:\\users\\tellytenny\\appdata\\roaming\\python\\python37\\site-packages (from requests<3.0.0,>=2.13.0->spacy<2.4.0,>=2.3.0->en_core_web_sm==2.3.1) (3.0.4)\n",
      "Requirement already satisfied: zipp>=0.5 in c:\\users\\tellytenny\\appdata\\roaming\\python\\python37\\site-packages (from importlib-metadata>=0.20; python_version < \"3.8\"->catalogue<1.1.0,>=0.0.7->spacy<2.4.0,>=2.3.0->en_core_web_sm==2.3.1) (3.1.0)\n",
      "[+] Download and installation successful\n",
      "You can now load the model via spacy.load('en_core_web_sm')\n"
     ]
    }
   ],
   "source": [
    "!python -m spacy download en_core_web_sm"
   ]
  },
  {
   "cell_type": "code",
   "execution_count": 20,
   "metadata": {},
   "outputs": [
    {
     "name": "stdout",
     "output_type": "stream",
     "text": [
      "[['stay', 'nice', 'hotel', 'stay', 'suite', 'actually', 'kitchen', 'include', 'garbage', 'disposal', 'perfect', 'family', 'staying', 'day', 'room', 'face', 'room', 'open', 'blind', 'room', 'request', 'room', 'face', 'street', 'hotel', 'server', 'hot', 'breakfast', 'actually', 'pretty', 'good', 'supervised', 'good', 'went', 'second', 'hotel', 'parking', 'space', 'limit', 'small', 'leave', 'hotel', 'excellent', 'location', 'thank', 'take', 'time', 'pleasant', 'comment', 'downtown', 'ecstatic', 'hear', 'enjoy', 'room', 'morning', 'breakfast', 'spread', 'unbeatable', 'location', 'look', 'forward_hoste', 'future', 'happy', 'travel']]\n"
     ]
    }
   ],
   "source": [
    "# Remove Stop Words\n",
    "data_words_nostops = remove_stopwords(docs)\n",
    "\n",
    "# Form Bigrams\n",
    "data_words_bigrams = make_bigrams(data_words_nostops)\n",
    "\n",
    "# Initialize spacy 'en' model, keeping only tagger component (for efficiency)\n",
    "nlp = spacy.load('en_core_web_sm', disable=['parser', 'ner'])\n",
    "\n",
    "# Do lemmatization keeping only noun, adj, vb, adv\n",
    "data_lemmatized = lemmatization(data_words_bigrams, allowed_postags=['NOUN', 'ADJ', 'VERB', 'ADV'])\n",
    "\n",
    "print(data_lemmatized[:1])"
   ]
  },
  {
   "cell_type": "markdown",
   "metadata": {},
   "source": [
    "### Data transformation: Corpus and Dictionary"
   ]
  },
  {
   "cell_type": "code",
   "execution_count": 21,
   "metadata": {},
   "outputs": [
    {
     "name": "stdout",
     "output_type": "stream",
     "text": [
      "[[(0, 2), (1, 1), (2, 2), (3, 1), (4, 1), (5, 1), (6, 1), (7, 1), (8, 1), (9, 1), (10, 2), (11, 1), (12, 1), (13, 1), (14, 1), (15, 2), (16, 1), (17, 1), (18, 1), (19, 4), (20, 1), (21, 1), (22, 1), (23, 1), (24, 2), (25, 1), (26, 1), (27, 1), (28, 1), (29, 1), (30, 1), (31, 1), (32, 1), (33, 1), (34, 5), (35, 1), (36, 1), (37, 1), (38, 1), (39, 1), (40, 2), (41, 1), (42, 1), (43, 1), (44, 1), (45, 1), (46, 1), (47, 1), (48, 1), (49, 1), (50, 1)]]\n"
     ]
    }
   ],
   "source": [
    "# Create Dictionary\n",
    "id2word = corpora.Dictionary(data_lemmatized)\n",
    "\n",
    "# Create Corpus\n",
    "texts = data_lemmatized\n",
    "\n",
    "# Term Document Frequency (Bag of Words)\n",
    "corpus = [id2word.doc2bow(text) for text in texts]\n",
    "\n",
    "# View\n",
    "print(corpus[:1])"
   ]
  },
  {
   "cell_type": "markdown",
   "metadata": {},
   "source": [
    "### Base Model"
   ]
  },
  {
   "cell_type": "code",
   "execution_count": 23,
   "metadata": {},
   "outputs": [],
   "source": [
    "from gensim.models import LdaModel, LdaMulticore"
   ]
  },
  {
   "cell_type": "code",
   "execution_count": 24,
   "metadata": {},
   "outputs": [],
   "source": [
    "lda_model = LdaMulticore(corpus=corpus,\n",
    "                         id2word=id2word,\n",
    "                         random_state=100,\n",
    "                         num_topics=10,\n",
    "                         chunksize=100,\n",
    "                         passes =10,\n",
    "                         per_word_topics=True)"
   ]
  },
  {
   "cell_type": "code",
   "execution_count": 71,
   "metadata": {},
   "outputs": [
    {
     "name": "stdout",
     "output_type": "stream",
     "text": [
      "[(0,\n",
      "  '0.018*\"go\" + 0.018*\"tell\" + 0.017*\"check\" + 0.015*\"say\" + 0.014*\"get\" + '\n",
      "  '0.014*\"time\" + 0.014*\"try\" + 0.012*\"ask\" + 0.012*\"day\" + 0.011*\"book\"'),\n",
      " (1,\n",
      "  '0.029*\"dress\" + 0.027*\"size\" + 0.026*\"wear\" + 0.024*\"love\" + 0.024*\"look\" + '\n",
      "  '0.022*\"fit\" + 0.019*\"color\" + 0.015*\"small\" + 0.014*\"great\" + '\n",
      "  '0.012*\"order\"'),\n",
      " (2,\n",
      "  '0.046*\"cheap\" + 0.026*\"bright\" + 0.023*\"drape\" + 0.023*\"surprise\" + '\n",
      "  '0.020*\"coat\" + 0.016*\"stretchy\" + 0.016*\"snug\" + 0.016*\"carry\" + '\n",
      "  '0.014*\"stylish\" + 0.014*\"download\"'),\n",
      " (3,\n",
      "  '0.034*\"use\" + 0.027*\"easy\" + 0.024*\"work\" + 0.021*\"remote\" + 0.020*\"great\" '\n",
      "  '+ 0.017*\"love\" + 0.016*\"buy\" + 0.015*\"device\" + 0.012*\"tv\" + '\n",
      "  '0.012*\"tablet\"'),\n",
      " (4,\n",
      "  '0.029*\"smell\" + 0.028*\"suit\" + 0.026*\"daughter\" + 0.023*\"back\" + '\n",
      "  '0.021*\"cover\" + 0.020*\"gift\" + 0.020*\"carpet\" + 0.019*\"twice\" + '\n",
      "  '0.018*\"construction\" + 0.017*\"terrible\"'),\n",
      " (5,\n",
      "  '0.047*\"good\" + 0.044*\"sound\" + 0.041*\"great\" + 0.035*\"price\" + '\n",
      "  '0.024*\"quality\" + 0.023*\"speaker\" + 0.015*\"buy\" + 0.014*\"product\" + '\n",
      "  '0.013*\"well\" + 0.011*\"music\"'),\n",
      " (6,\n",
      "  '0.045*\"stay\" + 0.044*\"hotel\" + 0.035*\"room\" + 0.026*\"staff\" + 0.018*\"great\" '\n",
      "  '+ 0.018*\"good\" + 0.017*\"clean\" + 0.017*\"breakfast\" + 0.014*\"location\" + '\n",
      "  '0.013*\"nice\"'),\n",
      " (7,\n",
      "  '0.042*\"great\" + 0.038*\"love\" + 0.027*\"place\" + 0.020*\"awesome\" + '\n",
      "  '0.019*\"amazing\" + 0.019*\"perfect\" + 0.018*\"view\" + 0.017*\"year\" + '\n",
      "  '0.016*\"friend\" + 0.016*\"facility\"'),\n",
      " (8,\n",
      "  '0.022*\"button\" + 0.019*\"pocket\" + 0.017*\"like\" + 0.014*\"wash\" + '\n",
      "  '0.014*\"pink\" + 0.011*\"favorite\" + 0.010*\"incredibly\" + 0.009*\"stripe\" + '\n",
      "  '0.009*\"fan\" + 0.008*\"crop\"'),\n",
      " (9,\n",
      "  '0.097*\"room\" + 0.023*\"night\" + 0.021*\"bed\" + 0.017*\"small\" + '\n",
      "  '0.015*\"bathroom\" + 0.014*\"floor\" + 0.013*\"door\" + 0.013*\"bad\" + '\n",
      "  '0.012*\"clean\" + 0.011*\"old\"')]\n"
     ]
    }
   ],
   "source": [
    "from pprint import pprint\n",
    "# Print the Keyword in the 10 topics\n",
    "pprint(lda_model.print_topics())\n",
    "doc_lda = lda_model[corpus]"
   ]
  },
  {
   "cell_type": "code",
   "execution_count": 72,
   "metadata": {
    "scrolled": false
   },
   "outputs": [
    {
     "name": "stdout",
     "output_type": "stream",
     "text": [
      "\n",
      "Coherence Score:  0.5233377359067427\n"
     ]
    }
   ],
   "source": [
    "from gensim.models import CoherenceModel\n",
    "# Compute Coherence Score\n",
    "coherence_model_lda = CoherenceModel(model=lda_model, texts=data_lemmatized, dictionary=id2word, coherence='c_v')\n",
    "coherence_lda = coherence_model_lda.get_coherence()\n",
    "print('\\nCoherence Score: ', coherence_lda)"
   ]
  },
  {
   "cell_type": "markdown",
   "metadata": {},
   "source": [
    "### Hyperparameter Tuning"
   ]
  },
  {
   "cell_type": "code",
   "execution_count": 101,
   "metadata": {},
   "outputs": [],
   "source": [
    "# supporting function\n",
    "def compute_coherence_values(corpus, dictionary, k):\n",
    "    \n",
    "    lda_model = gensim.models.LdaMulticore(corpus=corpus,\n",
    "                                           id2word=id2word,\n",
    "                                           num_topics=k, \n",
    "                                           random_state=100,\n",
    "                                           chunksize=100,\n",
    "                                           passes=10,\n",
    "                                           per_word_topics=True)\n",
    "    \n",
    "    coherence_model_lda = CoherenceModel(model=lda_model, texts=data_lemmatized, dictionary=id2word, coherence='c_v')\n",
    "    \n",
    "    return coherence_model_lda.get_coherence()"
   ]
  },
  {
   "cell_type": "code",
   "execution_count": 102,
   "metadata": {},
   "outputs": [],
   "source": [
    "import numpy as np\n",
    "# Topics range\n",
    "min_topics = 3\n",
    "max_topics = 11\n",
    "step_size = 1\n",
    "topics_range = list(np.arange(min_topics, max_topics, step_size))\n",
    "# Validation sets\n",
    "model_results = {'Topics': [],'Coherence': []}\n"
   ]
  },
  {
   "cell_type": "code",
   "execution_count": 103,
   "metadata": {},
   "outputs": [
    {
     "data": {
      "text/plain": [
       "[3, 4, 5, 6, 7, 8, 9, 10]"
      ]
     },
     "execution_count": 103,
     "metadata": {},
     "output_type": "execute_result"
    }
   ],
   "source": [
    "topics_range"
   ]
  },
  {
   "cell_type": "code",
   "execution_count": 105,
   "metadata": {},
   "outputs": [],
   "source": [
    "# Can take a long time to run\n",
    "for k in topics_range:\n",
    "    # get the coherence score for the given parameters\n",
    "    cv = compute_coherence_values(corpus, dictionary=id2word, k=k)\n",
    "    # Save the model results\n",
    "    model_results['Topics'].append(k)\n",
    "    model_results['Coherence'].append(cv)\n",
    "    pbar.update(1)\n",
    "    pd.DataFrame(model_results).to_csv('lda_tuning_results.csv', index=False)\n",
    "    pbar.close()\n"
   ]
  },
  {
   "cell_type": "code",
   "execution_count": 123,
   "metadata": {},
   "outputs": [],
   "source": [
    "result = pd.DataFrame.from_dict(model_results)"
   ]
  },
  {
   "cell_type": "code",
   "execution_count": null,
   "metadata": {},
   "outputs": [],
   "source": []
  },
  {
   "cell_type": "code",
   "execution_count": 125,
   "metadata": {},
   "outputs": [
    {
     "data": {
      "text/html": [
       "<div>\n",
       "<style scoped>\n",
       "    .dataframe tbody tr th:only-of-type {\n",
       "        vertical-align: middle;\n",
       "    }\n",
       "\n",
       "    .dataframe tbody tr th {\n",
       "        vertical-align: top;\n",
       "    }\n",
       "\n",
       "    .dataframe thead th {\n",
       "        text-align: right;\n",
       "    }\n",
       "</style>\n",
       "<table border=\"1\" class=\"dataframe\">\n",
       "  <thead>\n",
       "    <tr style=\"text-align: right;\">\n",
       "      <th></th>\n",
       "      <th>Topics</th>\n",
       "      <th>Coherence</th>\n",
       "    </tr>\n",
       "  </thead>\n",
       "  <tbody>\n",
       "    <tr>\n",
       "      <th>12</th>\n",
       "      <td>3</td>\n",
       "      <td>0.587489</td>\n",
       "    </tr>\n",
       "    <tr>\n",
       "      <th>13</th>\n",
       "      <td>4</td>\n",
       "      <td>0.529793</td>\n",
       "    </tr>\n",
       "    <tr>\n",
       "      <th>14</th>\n",
       "      <td>5</td>\n",
       "      <td>0.489277</td>\n",
       "    </tr>\n",
       "    <tr>\n",
       "      <th>15</th>\n",
       "      <td>6</td>\n",
       "      <td>0.486334</td>\n",
       "    </tr>\n",
       "    <tr>\n",
       "      <th>16</th>\n",
       "      <td>7</td>\n",
       "      <td>0.510611</td>\n",
       "    </tr>\n",
       "    <tr>\n",
       "      <th>17</th>\n",
       "      <td>8</td>\n",
       "      <td>0.473760</td>\n",
       "    </tr>\n",
       "    <tr>\n",
       "      <th>18</th>\n",
       "      <td>9</td>\n",
       "      <td>0.505343</td>\n",
       "    </tr>\n",
       "  </tbody>\n",
       "</table>\n",
       "</div>"
      ],
      "text/plain": [
       "    Topics  Coherence\n",
       "12       3   0.587489\n",
       "13       4   0.529793\n",
       "14       5   0.489277\n",
       "15       6   0.486334\n",
       "16       7   0.510611\n",
       "17       8   0.473760\n",
       "18       9   0.505343"
      ]
     },
     "execution_count": 125,
     "metadata": {},
     "output_type": "execute_result"
    }
   ],
   "source": [
    "result"
   ]
  },
  {
   "cell_type": "code",
   "execution_count": 128,
   "metadata": {},
   "outputs": [
    {
     "data": {
      "text/plain": [
       "Text(0.5, 0, 'Topic Numbers')"
      ]
     },
     "execution_count": 128,
     "metadata": {},
     "output_type": "execute_result"
    },
    {
     "data": {
      "image/png": "[encoded data removed]",
      "text/plain": [
       "<Figure size 432x288 with 1 Axes>"
      ]
     },
     "metadata": {
      "needs_background": "light"
     },
     "output_type": "display_data"
    }
   ],
   "source": [
    "import matplotlib.pyplot as plt\n",
    "plt.plot(result['Topics'], result['Coherence'])\n",
    "plt.ylabel('Coherence Score')\n",
    "plt.xlabel('Topic Numbers')"
   ]
  },
  {
   "cell_type": "markdown",
   "metadata": {},
   "source": [
    "### Final Model (Bag-of-Words & Tf-idf)"
   ]
  },
  {
   "cell_type": "code",
   "execution_count": 129,
   "metadata": {},
   "outputs": [],
   "source": [
    "#Bag-of-words\n",
    "lda_model = gensim.models.LdaMulticore(corpus=corpus,\n",
    "                                        id2word=id2word,\n",
    "                                        num_topics=3, \n",
    "                                        random_state=100,\n",
    "                                        chunksize=100,\n",
    "                                        passes=10,\n",
    "                                        alpha=0.01,\n",
    "                                        eta=0.9)"
   ]
  },
  {
   "cell_type": "code",
   "execution_count": 130,
   "metadata": {},
   "outputs": [
    {
     "name": "stdout",
     "output_type": "stream",
     "text": [
      "\n",
      "Coherence Score (Topic Number = 3):  0.587662071755372\n"
     ]
    }
   ],
   "source": [
    "coherence_model_lda = CoherenceModel(model=lda_model, texts=data_lemmatized, dictionary=id2word, coherence='c_v')\n",
    "coherence_lda = coherence_model_lda.get_coherence()\n",
    "print('\\nCoherence Score (Topic Number = 3): ', coherence_lda)"
   ]
  },
  {
   "cell_type": "code",
   "execution_count": 134,
   "metadata": {},
   "outputs": [],
   "source": [
    "# Tf-idf\n",
    "tfidf = models.TfidfModel(corpus)"
   ]
  },
  {
   "cell_type": "code",
   "execution_count": 136,
   "metadata": {},
   "outputs": [],
   "source": [
    "lda_tfidf = LdaMulticore(corpus=tfidf[corpus],\n",
    "                         id2word=id2word,\n",
    "                         random_state=100,\n",
    "                         num_topics=3,\n",
    "                         chunksize=100,\n",
    "                         passes=10,\n",
    "                         per_word_topics=True)"
   ]
  },
  {
   "cell_type": "code",
   "execution_count": 140,
   "metadata": {},
   "outputs": [
    {
     "name": "stdout",
     "output_type": "stream",
     "text": [
      "\n",
      "Coherence Score (Topic Number = 3):  0.616455072567418\n"
     ]
    }
   ],
   "source": [
    "coherence_model_lda_tfidf = CoherenceModel(model=lda_tfidf, texts=data_lemmatized, dictionary=id2word, coherence='c_v')\n",
    "coherence_lda_tfidf = coherence_model_lda_tfidf.get_coherence()\n",
    "print('\\nCoherence Score (Topic Number = 3): ', coherence_lda_tfidf)"
   ]
  },
  {
   "cell_type": "markdown",
   "metadata": {},
   "source": [
    "### Visualize Results"
   ]
  },
  {
   "cell_type": "code",
   "execution_count": 131,
   "metadata": {},
   "outputs": [],
   "source": [
    "import pyLDAvis\n",
    "import pyLDAvis.gensim"
   ]
  },
  {
   "cell_type": "code",
   "execution_count": 132,
   "metadata": {},
   "outputs": [],
   "source": [
    "pyLDAvis.enable_notebook()"
   ]
  },
  {
   "cell_type": "markdown",
   "metadata": {},
   "source": [
    "#### Bag-of-words"
   ]
  },
  {
   "cell_type": "code",
   "execution_count": 133,
   "metadata": {},
   "outputs": [
    {
     "data": {
      "text/html": [
       "\n",
       "<link rel=\"stylesheet\" type=\"text/css\" href=\"https://cdn.rawgit.com/bmabey/pyLDAvis/files/ldavis.v1.0.0.css\">\n",
       "\n",
       "\n",
       "<div id=\"ldavis_el1714024532593630967126239470\"></div>\n",
       "<script type=\"text/javascript\">\n",
       "\n",
       "var ldavis_el1714024532593630967126239470_data = {\"mdsDat\": {\"x\": [0.1519907672102036, -0.20458273261651835, 0.052591965406314826], \"y\": [-0.11224594539309211, -0.04338339877598484, 0.15562934416907692], \"topics\": [1, 2, 3], \"cluster\": [1, 1, 1], \"Freq\": [47.16331481933594, 37.072628021240234, 15.764060974121094]}, \"tinfo\": {\"Term\": [\"room\", \"stay\", \"hotel\", \"dress\", \"wear\", \"fit\", \"size\", \"staff\", \"color\", \"clean\", \"use\", \"buy\", \"love\", \"breakfast\", \"sound\", \"fabric\", \"great\", \"good\", \"work\", \"easy\", \"location\", \"remote\", \"flattering\", \"look\", \"friendly\", \"bed\", \"purchase\", \"device\", \"soft\", \"cute\", \"hotel\", \"stay\", \"staff\", \"breakfast\", \"clean\", \"location\", \"bed\", \"restaurant\", \"guest\", \"visit\", \"helpful\", \"parking\", \"bathroom\", \"desk\", \"property\", \"pool\", \"food\", \"lobby\", \"downtown\", \"morning\", \"spacious\", \"manager\", \"shuttle\", \"pleasant\", \"amenity\", \"city\", \"dear\", \"elevator\", \"suite\", \"park\", \"room\", \"friendly\", \"coffee\", \"welcome\", \"quiet\", \"service\", \"thank\", \"night\", \"feedback\", \"experience\", \"check\", \"place\", \"area\", \"enjoy\", \"walk\", \"close\", \"good\", \"time\", \"free\", \"nice\", \"great\", \"comfortable\", \"take\", \"need\", \"day\", \"look\", \"dress\", \"wear\", \"fit\", \"fabric\", \"flattering\", \"material\", \"length\", \"petite\", \"shirt\", \"cute\", \"waist\", \"pant\", \"retailer\", \"sweater\", \"skirt\", \"sleeve\", \"top\", \"shoulder\", \"jean\", \"lbs\", \"bust\", \"chest\", \"arm\", \"hip\", \"blouse\", \"pattern\", \"boxy\", \"stretch\", \"flowy\", \"jacket\", \"color\", \"medium\", \"loose\", \"soft\", \"size\", \"tight\", \"cut\", \"order\", \"true\", \"style\", \"black\", \"look\", \"love\", \"usually\", \"small\", \"run\", \"short\", \"perfect\", \"try\", \"large\", \"little\", \"think\", \"buy\", \"long\", \"beautiful\", \"great\", \"bit\", \"feel\", \"get\", \"comfortable\", \"work\", \"nice\", \"remote\", \"device\", \"speaker\", \"tablet\", \"app\", \"screen\", \"headphone\", \"alexa\", \"video\", \"harmony\", \"bluetooth\", \"echo\", \"keyboard\", \"camera\", \"setup\", \"bass\", \"program\", \"kindle\", \"smart\", \"battery\", \"download\", \"function\", \"install\", \"audio\", \"wireless\", \"ipad\", \"radio\", \"user\", \"software\", \"portable\", \"sound\", \"control\", \"product\", \"music\", \"play\", \"use\", \"set\", \"feature\", \"phone\", \"easy\", \"tv\", \"connect\", \"volume\", \"buy\", \"work\", \"watch\", \"great\", \"turn\", \"good\", \"purchase\", \"price\", \"love\", \"button\", \"well\", \"need\", \"time\", \"quality\", \"get\", \"want\", \"new\", \"come\"], \"Freq\": [16515.0, 12532.0, 12420.0, 8307.0, 7118.0, 6292.0, 7946.0, 7165.0, 5286.0, 5473.0, 2981.0, 4555.0, 10144.0, 4608.0, 1936.0, 3243.0, 13580.0, 9837.0, 5361.0, 3130.0, 3981.0, 1590.0, 2495.0, 9469.0, 3573.0, 2888.0, 2666.0, 1141.0, 2444.0, 2101.0, 12418.3671875, 12530.09375, 7163.3173828125, 4606.8310546875, 5470.9365234375, 3979.906982421875, 2886.2236328125, 2066.718994140625, 2001.525390625, 1842.4371337890625, 2181.903564453125, 1557.24658203125, 1350.9322509765625, 1468.520263671875, 1218.1356201171875, 1830.303466796875, 1199.3223876953125, 951.6192626953125, 905.18115234375, 1144.623291015625, 787.7252807617188, 811.3283081054688, 648.474609375, 682.8433837890625, 617.567626953125, 637.56005859375, 560.5384521484375, 542.1516723632812, 520.4497680664062, 585.6080322265625, 16258.416015625, 3524.423828125, 759.9091796875, 774.990234375, 1040.2305908203125, 2484.4638671875, 3252.55810546875, 3709.54443359375, 1057.7108154296875, 2370.300048828125, 2456.13037109375, 2932.596923828125, 3035.85986328125, 1928.706298828125, 1583.714111328125, 1926.8389892578125, 6102.51611328125, 4083.218017578125, 1723.9287109375, 4245.40234375, 6235.91015625, 3043.523193359375, 1893.3411865234375, 2156.65966796875, 1918.4989013671875, 2191.63671875, 8305.8974609375, 7116.6240234375, 6289.65673828125, 3241.712646484375, 2493.942138671875, 2074.1650390625, 1932.7813720703125, 1729.56494140625, 1626.7708740234375, 2099.224365234375, 1508.367919921875, 1502.2080078125, 1487.275146484375, 1484.7479248046875, 1413.6689453125, 1202.4459228515625, 1311.4539794921875, 915.8440551757812, 793.7551879882812, 718.397705078125, 718.9840087890625, 732.3603515625, 812.1556396484375, 812.697509765625, 628.5238647460938, 693.6737060546875, 566.372314453125, 608.0283203125, 477.7010498046875, 481.5296630859375, 5180.640625, 1630.706298828125, 932.27587890625, 2363.16357421875, 7384.337890625, 1248.9859619140625, 1379.427490234375, 3280.21630859375, 1277.90234375, 1644.7392578125, 1243.711181640625, 6782.58056640625, 7014.7470703125, 1617.091552734375, 4274.94091796875, 2341.4638671875, 2061.777099609375, 2648.320068359375, 2727.0361328125, 2530.228515625, 3003.387451171875, 2292.290771484375, 2749.059814453125, 2277.5205078125, 2086.814208984375, 4201.84130859375, 1990.5775146484375, 2260.07373046875, 2242.40771484375, 2191.32080078125, 2006.270263671875, 2001.165771484375, 1588.2198486328125, 1139.858642578125, 989.4658813476562, 905.4683837890625, 560.2053833007812, 593.3351440429688, 425.794921875, 416.21600341796875, 372.1714782714844, 292.677490234375, 272.06915283203125, 270.327392578125, 247.44741821289062, 260.9167785644531, 296.63311767578125, 238.2018585205078, 332.7245788574219, 221.70379638671875, 224.12306213378906, 262.8167724609375, 195.41517639160156, 231.07659912109375, 184.07681274414062, 167.635498046875, 209.3353729248047, 170.2749481201172, 173.95648193359375, 174.08514404296875, 140.9847869873047, 144.4698486328125, 1829.4317626953125, 538.51708984375, 1058.12646484375, 574.0419921875, 504.13336181640625, 2229.2216796875, 925.1748657226562, 582.6438598632812, 613.1129760742188, 1772.2872314453125, 874.5713500976562, 355.0842590332031, 369.51678466796875, 1805.5308837890625, 2015.52001953125, 457.746337890625, 3143.009521484375, 558.58935546875, 2295.433349609375, 974.8779907226562, 1095.3021240234375, 1834.0911865234375, 592.2696533203125, 901.4906005859375, 962.9601440429688, 967.0787353515625, 741.150146484375, 812.245849609375, 723.8715209960938, 601.0499877929688, 561.8621826171875], \"Total\": [16515.0, 12532.0, 12420.0, 8307.0, 7118.0, 6292.0, 7946.0, 7165.0, 5286.0, 5473.0, 2981.0, 4555.0, 10144.0, 4608.0, 1936.0, 3243.0, 13580.0, 9837.0, 5361.0, 3130.0, 3981.0, 1590.0, 2495.0, 9469.0, 3573.0, 2888.0, 2666.0, 1141.0, 2444.0, 2101.0, 12420.064453125, 12532.1181640625, 7165.0205078125, 4608.52099609375, 5473.46826171875, 3981.994384765625, 2888.09912109375, 2068.440185546875, 2003.291015625, 1844.264404296875, 2184.0869140625, 1559.0146484375, 1352.6845703125, 1470.42919921875, 1219.8321533203125, 1832.9512939453125, 1201.07861328125, 953.3173828125, 906.8649291992188, 1146.9080810546875, 789.4274291992188, 813.175537109375, 650.1937255859375, 684.656494140625, 619.259765625, 639.3920288085938, 562.2808227539062, 543.8576049804688, 522.139892578125, 587.6168823242188, 16515.390625, 3573.1640625, 762.5219116210938, 778.2761840820312, 1047.7921142578125, 2532.45166015625, 3355.598876953125, 3900.8291015625, 1071.1929931640625, 2465.689453125, 2584.1630859375, 3263.188720703125, 3500.868408203125, 2167.07421875, 1733.0050048828125, 2226.838623046875, 9837.84375, 5915.86572265625, 1948.1859130859375, 6716.90673828125, 13580.76171875, 5276.36083984375, 2672.917724609375, 4180.3701171875, 2854.985107421875, 9469.779296875, 8307.6240234375, 7118.66259765625, 6292.1728515625, 3243.48388671875, 2495.646484375, 2076.0634765625, 1934.6873779296875, 1731.35693359375, 1628.531982421875, 2101.552978515625, 1510.065185546875, 1503.929443359375, 1488.985595703125, 1486.4830322265625, 1415.375, 1204.1435546875, 1313.7850341796875, 917.7938842773438, 795.4574584960938, 720.110107421875, 720.7310791015625, 734.1417236328125, 814.3309326171875, 814.8842163085938, 630.2252807617188, 695.60498046875, 568.0701904296875, 610.1007080078125, 479.39495849609375, 483.2960205078125, 5286.02734375, 1647.2176513671875, 941.0156860351562, 2444.954833984375, 7946.9658203125, 1293.718505859375, 1442.01806640625, 3701.98583984375, 1347.7698974609375, 1794.525390625, 1316.58837890625, 9469.779296875, 10144.0078125, 1822.493896484375, 6241.9892578125, 2947.201416015625, 2524.02734375, 3707.44091796875, 3877.12890625, 3603.994873046875, 4789.8427734375, 3245.609375, 4555.60888671875, 3284.044921875, 2819.89697265625, 13580.76171875, 2730.5654296875, 3980.1318359375, 4621.6953125, 5276.36083984375, 5361.4794921875, 6716.90673828125, 1590.0010986328125, 1141.6712646484375, 991.2056884765625, 907.1918334960938, 561.9480590820312, 595.3729858398438, 427.5329284667969, 417.9351806640625, 373.94146728515625, 294.3896789550781, 273.7865905761719, 272.0699768066406, 249.17926025390625, 262.74884033203125, 298.73663330078125, 239.93231201171875, 335.2003173828125, 223.43063354492188, 225.92576599121094, 264.96685791015625, 197.1331024169922, 233.36178588867188, 185.91107177734375, 169.35934448242188, 211.5690460205078, 172.150146484375, 175.91331481933594, 176.07606506347656, 142.69886779785156, 146.27235412597656, 1936.3387451171875, 561.8231201171875, 1142.0712890625, 643.653564453125, 571.444091796875, 2981.734619140625, 1156.929931640625, 735.2000732421875, 803.644775390625, 3130.436767578125, 1297.647705078125, 412.54949951171875, 445.60107421875, 4555.60888671875, 5361.4794921875, 617.30908203125, 13580.76171875, 888.9647216796875, 9837.84375, 2666.567626953125, 3679.15673828125, 10144.0078125, 1159.4083251953125, 3243.35595703125, 4180.3701171875, 5915.86572265625, 2632.943359375, 4621.6953125, 3474.21875, 1674.891357421875, 3181.52490234375], \"Category\": [\"Default\", \"Default\", \"Default\", \"Default\", \"Default\", \"Default\", \"Default\", \"Default\", \"Default\", \"Default\", \"Default\", \"Default\", \"Default\", \"Default\", \"Default\", \"Default\", \"Default\", \"Default\", \"Default\", \"Default\", \"Default\", \"Default\", \"Default\", \"Default\", \"Default\", \"Default\", \"Default\", \"Default\", \"Default\", \"Default\", \"Topic1\", \"Topic1\", \"Topic1\", \"Topic1\", \"Topic1\", \"Topic1\", \"Topic1\", \"Topic1\", \"Topic1\", \"Topic1\", \"Topic1\", \"Topic1\", \"Topic1\", \"Topic1\", \"Topic1\", \"Topic1\", \"Topic1\", \"Topic1\", \"Topic1\", \"Topic1\", \"Topic1\", \"Topic1\", \"Topic1\", \"Topic1\", \"Topic1\", \"Topic1\", \"Topic1\", \"Topic1\", \"Topic1\", \"Topic1\", \"Topic1\", \"Topic1\", \"Topic1\", \"Topic1\", \"Topic1\", \"Topic1\", \"Topic1\", \"Topic1\", \"Topic1\", \"Topic1\", \"Topic1\", \"Topic1\", \"Topic1\", \"Topic1\", \"Topic1\", \"Topic1\", \"Topic1\", \"Topic1\", \"Topic1\", \"Topic1\", \"Topic1\", \"Topic1\", \"Topic1\", \"Topic1\", \"Topic1\", \"Topic1\", \"Topic2\", \"Topic2\", \"Topic2\", \"Topic2\", \"Topic2\", \"Topic2\", \"Topic2\", \"Topic2\", \"Topic2\", \"Topic2\", \"Topic2\", \"Topic2\", \"Topic2\", \"Topic2\", \"Topic2\", \"Topic2\", \"Topic2\", \"Topic2\", \"Topic2\", \"Topic2\", \"Topic2\", \"Topic2\", \"Topic2\", \"Topic2\", \"Topic2\", \"Topic2\", \"Topic2\", \"Topic2\", \"Topic2\", \"Topic2\", \"Topic2\", \"Topic2\", \"Topic2\", \"Topic2\", \"Topic2\", \"Topic2\", \"Topic2\", \"Topic2\", \"Topic2\", \"Topic2\", \"Topic2\", \"Topic2\", \"Topic2\", \"Topic2\", \"Topic2\", \"Topic2\", \"Topic2\", \"Topic2\", \"Topic2\", \"Topic2\", \"Topic2\", \"Topic2\", \"Topic2\", \"Topic2\", \"Topic2\", \"Topic2\", \"Topic2\", \"Topic2\", \"Topic2\", \"Topic2\", \"Topic2\", \"Topic2\", \"Topic3\", \"Topic3\", \"Topic3\", \"Topic3\", \"Topic3\", \"Topic3\", \"Topic3\", \"Topic3\", \"Topic3\", \"Topic3\", \"Topic3\", \"Topic3\", \"Topic3\", \"Topic3\", \"Topic3\", \"Topic3\", \"Topic3\", \"Topic3\", \"Topic3\", \"Topic3\", \"Topic3\", \"Topic3\", \"Topic3\", \"Topic3\", \"Topic3\", \"Topic3\", \"Topic3\", \"Topic3\", \"Topic3\", \"Topic3\", \"Topic3\", \"Topic3\", \"Topic3\", \"Topic3\", \"Topic3\", \"Topic3\", \"Topic3\", \"Topic3\", \"Topic3\", \"Topic3\", \"Topic3\", \"Topic3\", \"Topic3\", \"Topic3\", \"Topic3\", \"Topic3\", \"Topic3\", \"Topic3\", \"Topic3\", \"Topic3\", \"Topic3\", \"Topic3\", \"Topic3\", \"Topic3\", \"Topic3\", \"Topic3\", \"Topic3\", \"Topic3\", \"Topic3\", \"Topic3\", \"Topic3\"], \"logprob\": [30.0, 29.0, 28.0, 27.0, 26.0, 25.0, 24.0, 23.0, 22.0, 21.0, 20.0, 19.0, 18.0, 17.0, 16.0, 15.0, 14.0, 13.0, 12.0, 11.0, 10.0, 9.0, 8.0, 7.0, 6.0, 5.0, 4.0, 3.0, 2.0, 1.0, -3.605299949645996, -3.596400022506714, -4.155600070953369, -4.5970001220703125, -4.425099849700928, -4.743299961090088, -5.064599990844727, -5.398600101470947, -5.430600166320801, -5.513400077819824, -5.344299793243408, -5.681600093841553, -5.823699951171875, -5.740300178527832, -5.927199840545654, -5.519999980926514, -5.942800045013428, -6.174099922180176, -6.224100112915039, -5.9893999099731445, -6.363100051879883, -6.333600044250488, -6.557700157165527, -6.50600004196167, -6.606500148773193, -6.5746002197265625, -6.703400135040283, -6.736700057983398, -6.777599811553955, -6.659599781036377, -3.335900068283081, -4.864799976348877, -6.399099826812744, -6.37939977645874, -6.085100173950195, -5.2144999504089355, -4.945099830627441, -4.813600063323975, -6.068399906158447, -5.261499881744385, -5.225900173187256, -5.048600196838379, -5.013999938964844, -5.467700004577637, -5.66480016708374, -5.468599796295166, -4.315800189971924, -4.717599868774414, -5.579899787902832, -4.678699970245361, -4.2941999435424805, -5.011499881744385, -5.486199855804443, -5.355999946594238, -5.4730000495910645, -5.339900016784668, -3.7667999267578125, -3.9214000701904297, -4.044899940490723, -4.707699775695801, -4.969900131225586, -5.154200077056885, -5.224800109863281, -5.335899829864502, -5.397200107574463, -5.142199993133545, -5.472799777984619, -5.476900100708008, -5.486800193786621, -5.488500118255615, -5.537600040435791, -5.699399948120117, -5.61269998550415, -5.971700191497803, -6.114799976348877, -6.2144999504089355, -6.213699817657471, -6.195300102233887, -6.091899871826172, -6.09119987487793, -6.348199844360352, -6.249499797821045, -6.452300071716309, -6.38129997253418, -6.622600078582764, -6.61460018157959, -4.238900184631348, -5.394800186157227, -5.95389986038208, -5.023799896240234, -3.884399890899658, -5.661499977111816, -5.562099933624268, -4.695899963378906, -5.638599872589111, -5.386199951171875, -5.6656999588012695, -3.969399929046631, -3.935800075531006, -5.403200149536133, -4.431000232696533, -5.0329999923706055, -5.160200119018555, -4.909900188446045, -4.8805999755859375, -4.95550012588501, -4.783999919891357, -5.054200172424316, -4.872499942779541, -5.060699939727783, -5.148099899291992, -4.448299884796143, -5.195400238037109, -5.068399906158447, -5.076200008392334, -5.099299907684326, -5.1875, -5.190100193023682, -4.565999984741211, -4.89769983291626, -5.0391998291015625, -5.127900123596191, -5.608099937438965, -5.550600051879883, -5.882400035858154, -5.905200004577637, -6.017000198364258, -6.257299900054932, -6.3302998542785645, -6.3368000984191895, -6.42519998550415, -6.372200012207031, -6.243899822235107, -6.4633002281188965, -6.1290998458862305, -6.535099983215332, -6.524199962615967, -6.3649001121521, -6.661300182342529, -6.493599891662598, -6.7210001945495605, -6.814599990844727, -6.59250020980835, -6.798999786376953, -6.777599811553955, -6.776899814605713, -6.98769998550415, -6.9633002281188965, -4.424600124359131, -5.647600173950195, -4.972099781036377, -5.583700180053711, -5.713600158691406, -4.2270002365112305, -5.106400012969971, -5.56879997253418, -5.5177998542785645, -4.456399917602539, -5.162700176239014, -6.064000129699707, -6.024199962615967, -4.43779993057251, -4.3277997970581055, -5.810100078582764, -3.883500099182129, -5.611000061035156, -4.197700023651123, -5.054100036621094, -4.937600135803223, -4.422100067138672, -5.5524001121521, -5.132299900054932, -5.066400051116943, -5.062099933624268, -5.328199863433838, -5.236599922180176, -5.351799964904785, -5.537700176239014, -5.605100154876709], \"loglift\": [30.0, 29.0, 28.0, 27.0, 26.0, 25.0, 24.0, 23.0, 22.0, 21.0, 20.0, 19.0, 18.0, 17.0, 16.0, 15.0, 14.0, 13.0, 12.0, 11.0, 10.0, 9.0, 8.0, 7.0, 6.0, 5.0, 4.0, 3.0, 2.0, 1.0, 0.7513999938964844, 0.7513999938964844, 0.7512999773025513, 0.7512000203132629, 0.7511000037193298, 0.7509999871253967, 0.7508999705314636, 0.7506999969482422, 0.7506999969482422, 0.7505999803543091, 0.7505999803543091, 0.7504000067710876, 0.7502999901771545, 0.7502999901771545, 0.7501999735832214, 0.7501000165939331, 0.7501000165939331, 0.7498000264167786, 0.7497000098228455, 0.7495999932289124, 0.7494000196456909, 0.7493000030517578, 0.7488999962806702, 0.7488999962806702, 0.7487999796867371, 0.7487000226974487, 0.7484999895095825, 0.7483999729156494, 0.7483000159263611, 0.7480999827384949, 0.7358999848365784, 0.7378000020980835, 0.7480999827384949, 0.7473000288009644, 0.7443000078201294, 0.7324000000953674, 0.7203999757766724, 0.7013000249862671, 0.7389000058174133, 0.7121000289916992, 0.7006999850273132, 0.6446999907493591, 0.609000027179718, 0.6349999904632568, 0.6614999771118164, 0.6068999767303467, 0.27399998903274536, 0.3808000087738037, 0.6292999982833862, 0.29280000925064087, -0.026799999177455902, 0.2012999951839447, 0.4066999852657318, 0.08969999849796295, 0.3540000021457672, -0.711899995803833, 0.9921000003814697, 0.9919999837875366, 0.9919000267982483, 0.9916999936103821, 0.991599977016449, 0.9914000034332275, 0.9912999868392944, 0.9912999868392944, 0.9911999702453613, 0.9911999702453613, 0.9911999702453613, 0.991100013256073, 0.991100013256073, 0.991100013256073, 0.991100013256073, 0.9908999800682068, 0.9904999732971191, 0.9901999831199646, 0.9901000261306763, 0.9898999929428101, 0.9898999929428101, 0.9898999929428101, 0.9896000027656555, 0.9896000027656555, 0.9896000027656555, 0.9894999861717224, 0.989300012588501, 0.9889000058174133, 0.9887999892234802, 0.9886000156402588, 0.9721999764442444, 0.982200026512146, 0.9829999804496765, 0.958299994468689, 0.9189000129699707, 0.957099974155426, 0.9478999972343445, 0.8712999820709229, 0.9391000270843506, 0.9050999879837036, 0.9352999925613403, 0.6585000157356262, 0.6233999729156494, 0.8726999759674072, 0.6137999892234802, 0.7621999979019165, 0.7900000214576721, 0.6559000015258789, 0.6403999924659729, 0.6385999917984009, 0.5254999995231628, 0.6445000171661377, 0.487199991941452, 0.6262999773025513, 0.6912000179290771, -0.18080000579357147, 0.6761999726295471, 0.42640000581741333, 0.26910001039505005, 0.1136000007390976, 0.00930000003427267, -0.21860000491142273, 1.8463000059127808, 1.8458000421524048, 1.8457000255584717, 1.8454999923706055, 1.8443000316619873, 1.843999981880188, 1.843400001525879, 1.8432999849319458, 1.8427000045776367, 1.841599941253662, 1.8410999774932861, 1.840999960899353, 1.840499997138977, 1.840399980545044, 1.840399980545044, 1.8401999473571777, 1.840000033378601, 1.8396999835968018, 1.839400053024292, 1.8393000364303589, 1.8387000560760498, 1.8375999927520752, 1.837499976158142, 1.8372000455856323, 1.8367999792099, 1.8365000486373901, 1.836300015449524, 1.8360999822616577, 1.8353999853134155, 1.8350000381469727, 1.7905999422073364, 1.8050999641418457, 1.7711000442504883, 1.7330000400543213, 1.722100019454956, 1.5565999746322632, 1.623900055885315, 1.61489999294281, 1.576799988746643, 1.278499960899353, 1.4529000520706177, 1.6973999738693237, 1.6601999998092651, 0.9218999743461609, 0.8690999746322632, 1.5484000444412231, 0.3840000033378601, 1.3827999830245972, 0.3921000063419342, 0.8411999940872192, 0.6358000040054321, 0.1370999962091446, 1.1756999492645264, 0.5670999884605408, 0.37929999828338623, 0.03629999980330467, 0.579800009727478, 0.10869999974966049, 0.27889999747276306, 0.8226000070571899, 0.1136000007390976]}, \"token.table\": {\"Topic\": [1, 2, 3, 1, 2, 3, 1, 2, 3, 1, 2, 3, 1, 2, 3, 1, 2, 3, 1, 2, 3, 1, 2, 3, 1, 2, 3, 1, 2, 3, 1, 2, 3, 1, 2, 3, 1, 2, 3, 1, 2, 3, 1, 2, 3, 1, 2, 3, 1, 2, 3, 1, 2, 3, 1, 2, 3, 1, 2, 3, 1, 2, 3, 1, 2, 3, 1, 2, 3, 1, 2, 3, 1, 2, 3, 1, 2, 3, 1, 2, 3, 1, 2, 3, 1, 2, 3, 1, 2, 3, 1, 2, 3, 1, 2, 3, 1, 2, 3, 1, 2, 3, 1, 2, 3, 1, 2, 3, 1, 2, 3, 1, 2, 3, 1, 2, 3, 1, 2, 3, 1, 2, 3, 1, 2, 3, 1, 2, 3, 1, 2, 3, 1, 2, 3, 1, 2, 3, 1, 2, 3, 1, 2, 3, 1, 2, 3, 1, 2, 3, 1, 2, 3, 1, 2, 3, 1, 2, 3, 1, 2, 3, 1, 2, 3, 1, 2, 3, 1, 2, 3, 1, 2, 3, 1, 2, 3, 1, 2, 3, 1, 2, 3, 1, 2, 3, 1, 2, 3, 1, 2, 3, 1, 2, 3, 1, 2, 3, 1, 2, 3, 1, 2, 3, 1, 2, 3, 1, 2, 3, 1, 2, 3, 1, 2, 3, 1, 2, 3, 1, 2, 3, 1, 2, 3, 1, 2, 3, 1, 2, 3, 1, 2, 3, 1, 2, 3, 1, 2, 3, 1, 2, 3, 1, 2, 3, 1, 2, 3, 1, 2, 3, 1, 2, 3, 1, 2, 3, 1, 2, 3, 1, 2, 3, 1, 2, 3, 1, 2, 3, 1, 2, 3, 1, 2, 3, 1, 2, 3, 1, 2, 3, 1, 2, 3, 1, 2, 3, 1, 2, 3, 1, 2, 3, 1, 2, 3, 1, 2, 3, 1, 2, 3, 1, 2, 3, 1, 2, 3, 1, 2, 3, 1, 2, 3, 1, 2, 3, 1, 2, 3, 1, 2, 3, 1, 2, 3, 1, 2, 3, 1, 2, 3, 1, 2, 3, 1, 2, 3, 1, 2, 3, 1, 2, 3, 1, 2, 3, 1, 2, 3, 1, 2, 3, 1, 2, 3, 1, 2, 3, 1, 2, 3, 1, 2, 3, 1, 2, 3, 1, 2, 3, 1, 2, 3, 1, 2, 3, 1, 2, 3, 1, 2, 3, 1, 2, 3, 1, 2, 3, 1, 2, 3, 1, 2, 3, 1, 2, 3, 1, 2, 3, 1, 2, 3, 1, 2, 3, 1, 2, 3, 1, 2, 3, 1, 2, 3, 1, 2, 3, 1, 2, 3, 1, 2, 3, 1, 2, 3, 1, 2, 3, 1, 2, 3, 1, 2, 3, 1, 2, 3, 1, 2, 3, 1, 2, 3, 1, 2, 3, 1, 2, 3, 1, 2, 3, 1, 2, 3, 1, 2, 3, 1, 2, 3, 1, 2, 3, 1, 2, 3, 1, 2, 3, 1, 2, 3, 1, 2, 3, 1, 2, 3, 1, 2, 3, 1, 2, 3, 1, 2, 3, 1, 2, 3, 1, 2, 3, 1, 2, 3], \"Freq\": [0.0023927155416458845, 0.0023927155416458845, 0.9953696727752686, 0.9979656934738159, 0.0016148312715813518, 0.0016148312715813518, 0.0017795239109545946, 0.0017795239109545946, 0.9965333938598633, 0.8672134280204773, 0.13225290179252625, 0.0005712868296541274, 0.0012280020164325833, 0.9971376061439514, 0.0012280020164325833, 0.005904604680836201, 0.005904604680836201, 0.9919735789299011, 0.004167842213064432, 0.004167842213064432, 0.9919463992118835, 0.998754620552063, 0.0007392706465907395, 0.0007392706465907395, 0.0037740569096058607, 0.0037740569096058607, 0.9925769567489624, 0.2595839500427246, 0.7400979399681091, 0.000354622898157686, 0.9992731809616089, 0.0003462485037744045, 0.0003462485037744045, 0.2083817422389984, 0.729153037071228, 0.06262439489364624, 0.023545702919363976, 0.9448662996292114, 0.03190062940120697, 0.0015867342008277774, 0.9980558156967163, 0.0015867342008277774, 0.0036524797324091196, 0.0036524797324091196, 0.993474543094635, 0.001760345883667469, 0.9963557720184326, 0.001760345883667469, 0.9996699690818787, 0.00021698935597669333, 0.00021698935597669333, 0.0013874800642952323, 0.9975981712341309, 0.0013874800642952323, 0.0008625088958069682, 0.4881800413131714, 0.5106052756309509, 0.00021950963127892464, 0.6034319400787354, 0.39643439650535583, 0.0038059158250689507, 0.0038059158250689507, 0.9933440685272217, 0.9504044055938721, 0.02554018422961235, 0.024379266425967216, 0.001362134818919003, 0.9970827102661133, 0.001362134818919003, 0.9978228807449341, 0.0015639857156202197, 0.0015639857156202197, 0.9995490312576294, 0.00018269951397087425, 0.00018269951397087425, 0.8653523325920105, 0.10463263839483261, 0.03008749708533287, 0.9966926574707031, 0.0013114376924932003, 0.0026228753849864006, 0.0001891779829747975, 0.9801311492919922, 0.01967450976371765, 0.5553940534591675, 0.2681104242801666, 0.17664484679698944, 0.5769127607345581, 0.4152483344078064, 0.007960031740367413, 0.13816523551940918, 0.0024239516351372004, 0.8605027794837952, 0.039158232510089874, 0.0017799196066334844, 0.9593766927719116, 0.02843237668275833, 0.9562987089157104, 0.015256396494805813, 0.000475838576676324, 0.9987851977348328, 0.000475838576676324, 0.6718073487281799, 0.2350274920463562, 0.09317035973072052, 0.9977220892906189, 0.0017784707015380263, 0.0017784707015380263, 0.9990280270576477, 0.000680073571857065, 0.000680073571857065, 0.0008759088814258575, 0.0008759088814258575, 0.9985361099243164, 0.005072714760899544, 0.005072714760899544, 0.9891793727874756, 0.9979435205459595, 0.0011027000145986676, 0.0011027000145986676, 0.00012037136184517294, 0.9998044967651367, 0.00012037136184517294, 0.26481926441192627, 0.1693054437637329, 0.566055178642273, 0.003675525076687336, 0.003675525076687336, 0.9923917651176453, 0.996584415435791, 0.0018387165619060397, 0.0018387165619060397, 0.8901402354240417, 0.0004614516510628164, 0.10936404019594193, 0.9611915946006775, 0.00040556606836616993, 0.03812321275472641, 0.0003083104675170034, 0.9995424747467041, 0.0003083104675170034, 0.14417843520641327, 0.06256800144910812, 0.7929814457893372, 0.9876838326454163, 0.0009335385984741151, 0.012136002071201801, 0.34169721603393555, 0.5678203701972961, 0.0904492661356926, 0.00015892760711722076, 0.9996546506881714, 0.00015892760711722076, 0.0004006977833341807, 0.9993402361869812, 0.0004006977833341807, 0.002085962798446417, 0.9970901608467102, 0.002085962798446417, 0.9982693791389465, 0.0008325849776156247, 0.0008325849776156247, 0.8849257826805115, 0.012319153174757957, 0.10265960544347763, 0.9862407445907593, 0.00027986400527879596, 0.013433472253382206, 0.004285191651433706, 0.004285191651433706, 0.989879310131073, 0.33905306458473206, 0.4851033687591553, 0.1756931096315384, 0.6203595399856567, 0.14637354016304016, 0.23328281939029694, 0.45917895436286926, 0.3094082772731781, 0.231430321931839, 0.9993555545806885, 0.0004991785972379148, 0.0004991785972379148, 0.0033968582283705473, 0.0033968582283705473, 0.9952794313430786, 0.0023390010464936495, 0.0023390010464936495, 0.9964144825935364, 0.9990444779396057, 0.0004578572406899184, 0.0004578572406899184, 0.0012271682498976588, 0.9976877570152283, 0.0012271682498976588, 0.9998337626457214, 8.05148811195977e-05, 8.05148811195977e-05, 0.005378915928304195, 0.005378915928304195, 0.9897205233573914, 0.0058088828809559345, 0.0058088828809559345, 0.9875100255012512, 0.0020691251847893, 0.9973183870315552, 0.0020691251847893, 0.001257138210348785, 0.9981677532196045, 0.001257138210348785, 0.004013175144791603, 0.004013175144791603, 0.9912542700767517, 0.0044756620191037655, 0.0044756620191037655, 0.9935969710350037, 0.26914578676223755, 0.701998770236969, 0.02885686606168747, 0.0013886765809729695, 0.9970697164535522, 0.0013886765809729695, 0.0005168793722987175, 0.9991278052330017, 0.0005168793722987175, 0.28080254793167114, 0.6269516944885254, 0.09227859973907471, 0.9986181259155273, 0.0010489686392247677, 0.0010489686392247677, 0.9994991421699524, 0.0002511304337531328, 0.0002511304337531328, 0.19427262246608734, 0.6936567425727844, 0.11236143857240677, 0.2314731925725937, 0.7162785530090332, 0.05237714573740959, 0.0010626815492287278, 0.9904192090034485, 0.008501452393829823, 0.1276615709066391, 0.6915412545204163, 0.18079638481140137, 0.9973246455192566, 0.0012297467328608036, 0.0012297467328608036, 0.0004816808504983783, 0.9990060925483704, 0.0004816808504983783, 0.0006070843082852662, 0.990154504776001, 0.00910626444965601, 0.9983363151550293, 0.0008719094330444932, 0.0008719094330444932, 0.10720052570104599, 0.0015536308055743575, 0.8917840719223022, 0.5159830451011658, 0.2538052797317505, 0.23036237061023712, 0.5188395977020264, 0.12179894745349884, 0.35882923007011414, 0.6319873332977295, 0.29790499806404114, 0.0699726864695549, 0.9510798454284668, 0.048707593232393265, 0.0005127115291543305, 0.08508946746587753, 0.8860109448432922, 0.028903406113386154, 0.0006649247952736914, 0.9987170696258545, 0.0006649247952736914, 0.9972484111785889, 0.0017017890932038426, 0.0017017890932038426, 0.9987077713012695, 0.000641430786345154, 0.000641430786345154, 0.0014375975588336587, 0.9976927042007446, 0.0014375975588336587, 0.2187492698431015, 0.7142392992973328, 0.06689250469207764, 0.0005775816389359534, 0.9992162585258484, 0.0005775816389359534, 0.23642286658287048, 0.0012443308951333165, 0.7627748250961304, 0.8988140821456909, 0.0827411562204361, 0.018386922776699066, 0.11549686640501022, 0.0017499524401500821, 0.8819760680198669, 0.9975805282592773, 0.001460586441680789, 0.001460586441680789, 0.9983898401260376, 0.0005455682403407991, 0.0010911364806815982, 0.00683656195178628, 0.00683656195178628, 0.9844648838043213, 0.4655958116054535, 0.23673902451992035, 0.29762256145477295, 0.0008756020688451827, 0.07267497479915619, 0.9263870120048523, 0.005966581404209137, 0.0029832907021045685, 0.993435800075531, 0.9984980225563049, 0.0008197849383577704, 0.0008197849383577704, 0.00037501391489058733, 0.6337735652923584, 0.3656385838985443, 0.1598971039056778, 0.5586903095245361, 0.2814340889453888, 0.9925633072853088, 0.0009543877677060664, 0.0066807144321501255, 0.005684617906808853, 0.005684617906808853, 0.989123523235321, 0.0006289304001256824, 0.0006289304001256824, 0.9987414479255676, 0.9993037581443787, 0.00048345609684474766, 0.00048345609684474766, 0.0006715981871820986, 0.9986664652824402, 0.0006715981871820986, 0.9844151139259338, 0.015440143644809723, 0.00012109916133340448, 0.14793695509433746, 0.7943128943443298, 0.057681839913129807, 0.0016796194249764085, 0.0016796194249764085, 0.9960142970085144, 0.9808676838874817, 0.00039487428148277104, 0.018559090793132782, 0.199666365981102, 0.0008643565815873444, 0.7995298504829407, 0.00334743014536798, 0.00334743014536798, 0.9941867589950562, 0.0006140499608591199, 0.99905925989151, 0.0006140499608591199, 0.170362651348114, 0.8169483542442322, 0.01267815101891756, 0.001089569297619164, 0.9980454444885254, 0.001089569297619164, 0.9966260194778442, 0.001538003096356988, 0.001538003096356988, 0.05234702304005623, 0.9291596412658691, 0.01849762536585331, 0.0007065265672281384, 0.9990285038948059, 0.0007065265672281384, 0.0008304657530970871, 0.9982198476791382, 0.0008304657530970871, 0.2715480625629425, 0.6848778128623962, 0.04357585310935974, 0.004426232539117336, 0.004426232539117336, 0.9914761185646057, 0.03272043913602829, 0.966480016708374, 0.0004090055008418858, 0.007007764186710119, 0.007007764186710119, 0.9880947470664978, 0.054742489010095596, 0.0005164385656826198, 0.9445661306381226, 0.9981918334960938, 0.0012667408445850015, 0.0012667408445850015, 0.0010088722920045257, 0.0010088722920045257, 0.9977747201919556, 0.9997180104255676, 0.00013956693874206394, 0.00013956693874206394, 0.999830961227417, 7.979496876941994e-05, 7.979496876941994e-05, 0.0016390737146139145, 0.9965567588806152, 0.0016390737146139145, 0.08247306197881699, 0.916676938533783, 0.0011145008029416203, 0.9959017038345337, 0.0019151956075802445, 0.0019151956075802445, 0.0006727288127876818, 0.9990023374557495, 0.0006727288127876818, 0.0011023026891052723, 0.0011023026891052723, 0.9975839257240295, 0.7082148194313049, 0.1743413209915161, 0.11710049957036972, 0.9694245457649231, 0.012218385003507137, 0.018476583063602448, 0.18948675692081451, 0.7061848044395447, 0.10414069145917892, 0.03401048853993416, 0.9654341340065002, 0.0007729656645096838, 0.6901779174804688, 0.1463860124349594, 0.16345874965190887, 0.0007611595210619271, 0.9978801608085632, 0.0007611595210619271, 0.03858225420117378, 0.9482330679893494, 0.012613428756594658, 0.181577667593956, 0.7033554911613464, 0.1150335744023323, 0.2666022479534149, 0.1057409793138504, 0.6288213729858398, 0.3252038359642029, 0.0007706251926720142, 0.674297034740448, 0.20692652463912964, 0.04527565836906433, 0.747551441192627, 0.00567936385050416, 0.00567936385050416, 0.9882092475891113, 0.07956130802631378, 0.887245774269104, 0.0329219214618206, 0.00267421524040401, 0.00267421524040401, 0.9948080778121948, 0.9987722039222717, 0.0005422215908765793, 0.0005422215908765793, 0.0022441598121076822, 0.1683119833469391, 0.8303391337394714, 0.0006622230866923928, 0.9986323714256287, 0.0006622230866923928, 0.9140192866325378, 0.08540078997612, 0.0011540647828951478, 0.37792667746543884, 0.41361817717552185, 0.2083921730518341, 0.2575695216655731, 0.0016199341043829918, 0.7419297695159912, 0.00014047582226339728, 0.99976646900177, 0.00014047582226339728, 0.9957904815673828, 0.0012848909245803952, 0.0025697818491607904, 0.35025450587272644, 0.3715287446975708, 0.27779868245124817, 0.0047265891917049885, 0.0047265891917049885, 0.9878571629524231, 0.24993100762367249, 0.37415045499801636, 0.3760156035423279], \"Term\": [\"alexa\", \"alexa\", \"alexa\", \"amenity\", \"amenity\", \"amenity\", \"app\", \"app\", \"app\", \"area\", \"area\", \"area\", \"arm\", \"arm\", \"arm\", \"audio\", \"audio\", \"audio\", \"bass\", \"bass\", \"bass\", \"bathroom\", \"bathroom\", \"bathroom\", \"battery\", \"battery\", \"battery\", \"beautiful\", \"beautiful\", \"beautiful\", \"bed\", \"bed\", \"bed\", \"bit\", \"bit\", \"bit\", \"black\", \"black\", \"black\", \"blouse\", \"blouse\", \"blouse\", \"bluetooth\", \"bluetooth\", \"bluetooth\", \"boxy\", \"boxy\", \"boxy\", \"breakfast\", \"breakfast\", \"breakfast\", \"bust\", \"bust\", \"bust\", \"button\", \"button\", \"button\", \"buy\", \"buy\", \"buy\", \"camera\", \"camera\", \"camera\", \"check\", \"check\", \"check\", \"chest\", \"chest\", \"chest\", \"city\", \"city\", \"city\", \"clean\", \"clean\", \"clean\", \"close\", \"close\", \"close\", \"coffee\", \"coffee\", \"coffee\", \"color\", \"color\", \"color\", \"come\", \"come\", \"come\", \"comfortable\", \"comfortable\", \"comfortable\", \"connect\", \"connect\", \"connect\", \"control\", \"control\", \"control\", \"cut\", \"cut\", \"cut\", \"cute\", \"cute\", \"cute\", \"day\", \"day\", \"day\", \"dear\", \"dear\", \"dear\", \"desk\", \"desk\", \"desk\", \"device\", \"device\", \"device\", \"download\", \"download\", \"download\", \"downtown\", \"downtown\", \"downtown\", \"dress\", \"dress\", \"dress\", \"easy\", \"easy\", \"easy\", \"echo\", \"echo\", \"echo\", \"elevator\", \"elevator\", \"elevator\", \"enjoy\", \"enjoy\", \"enjoy\", \"experience\", \"experience\", \"experience\", \"fabric\", \"fabric\", \"fabric\", \"feature\", \"feature\", \"feature\", \"feedback\", \"feedback\", \"feedback\", \"feel\", \"feel\", \"feel\", \"fit\", \"fit\", \"fit\", \"flattering\", \"flattering\", \"flattering\", \"flowy\", \"flowy\", \"flowy\", \"food\", \"food\", \"food\", \"free\", \"free\", \"free\", \"friendly\", \"friendly\", \"friendly\", \"function\", \"function\", \"function\", \"get\", \"get\", \"get\", \"good\", \"good\", \"good\", \"great\", \"great\", \"great\", \"guest\", \"guest\", \"guest\", \"harmony\", \"harmony\", \"harmony\", \"headphone\", \"headphone\", \"headphone\", \"helpful\", \"helpful\", \"helpful\", \"hip\", \"hip\", \"hip\", \"hotel\", \"hotel\", \"hotel\", \"install\", \"install\", \"install\", \"ipad\", \"ipad\", \"ipad\", \"jacket\", \"jacket\", \"jacket\", \"jean\", \"jean\", \"jean\", \"keyboard\", \"keyboard\", \"keyboard\", \"kindle\", \"kindle\", \"kindle\", \"large\", \"large\", \"large\", \"lbs\", \"lbs\", \"lbs\", \"length\", \"length\", \"length\", \"little\", \"little\", \"little\", \"lobby\", \"lobby\", \"lobby\", \"location\", \"location\", \"location\", \"long\", \"long\", \"long\", \"look\", \"look\", \"look\", \"loose\", \"loose\", \"loose\", \"love\", \"love\", \"love\", \"manager\", \"manager\", \"manager\", \"material\", \"material\", \"material\", \"medium\", \"medium\", \"medium\", \"morning\", \"morning\", \"morning\", \"music\", \"music\", \"music\", \"need\", \"need\", \"need\", \"new\", \"new\", \"new\", \"nice\", \"nice\", \"nice\", \"night\", \"night\", \"night\", \"order\", \"order\", \"order\", \"pant\", \"pant\", \"pant\", \"park\", \"park\", \"park\", \"parking\", \"parking\", \"parking\", \"pattern\", \"pattern\", \"pattern\", \"perfect\", \"perfect\", \"perfect\", \"petite\", \"petite\", \"petite\", \"phone\", \"phone\", \"phone\", \"place\", \"place\", \"place\", \"play\", \"play\", \"play\", \"pleasant\", \"pleasant\", \"pleasant\", \"pool\", \"pool\", \"pool\", \"portable\", \"portable\", \"portable\", \"price\", \"price\", \"price\", \"product\", \"product\", \"product\", \"program\", \"program\", \"program\", \"property\", \"property\", \"property\", \"purchase\", \"purchase\", \"purchase\", \"quality\", \"quality\", \"quality\", \"quiet\", \"quiet\", \"quiet\", \"radio\", \"radio\", \"radio\", \"remote\", \"remote\", \"remote\", \"restaurant\", \"restaurant\", \"restaurant\", \"retailer\", \"retailer\", \"retailer\", \"room\", \"room\", \"room\", \"run\", \"run\", \"run\", \"screen\", \"screen\", \"screen\", \"service\", \"service\", \"service\", \"set\", \"set\", \"set\", \"setup\", \"setup\", \"setup\", \"shirt\", \"shirt\", \"shirt\", \"short\", \"short\", \"short\", \"shoulder\", \"shoulder\", \"shoulder\", \"shuttle\", \"shuttle\", \"shuttle\", \"size\", \"size\", \"size\", \"skirt\", \"skirt\", \"skirt\", \"sleeve\", \"sleeve\", \"sleeve\", \"small\", \"small\", \"small\", \"smart\", \"smart\", \"smart\", \"soft\", \"soft\", \"soft\", \"software\", \"software\", \"software\", \"sound\", \"sound\", \"sound\", \"spacious\", \"spacious\", \"spacious\", \"speaker\", \"speaker\", \"speaker\", \"staff\", \"staff\", \"staff\", \"stay\", \"stay\", \"stay\", \"stretch\", \"stretch\", \"stretch\", \"style\", \"style\", \"style\", \"suite\", \"suite\", \"suite\", \"sweater\", \"sweater\", \"sweater\", \"tablet\", \"tablet\", \"tablet\", \"take\", \"take\", \"take\", \"thank\", \"thank\", \"thank\", \"think\", \"think\", \"think\", \"tight\", \"tight\", \"tight\", \"time\", \"time\", \"time\", \"top\", \"top\", \"top\", \"true\", \"true\", \"true\", \"try\", \"try\", \"try\", \"turn\", \"turn\", \"turn\", \"tv\", \"tv\", \"tv\", \"use\", \"use\", \"use\", \"user\", \"user\", \"user\", \"usually\", \"usually\", \"usually\", \"video\", \"video\", \"video\", \"visit\", \"visit\", \"visit\", \"volume\", \"volume\", \"volume\", \"waist\", \"waist\", \"waist\", \"walk\", \"walk\", \"walk\", \"want\", \"want\", \"want\", \"watch\", \"watch\", \"watch\", \"wear\", \"wear\", \"wear\", \"welcome\", \"welcome\", \"welcome\", \"well\", \"well\", \"well\", \"wireless\", \"wireless\", \"wireless\", \"work\", \"work\", \"work\"]}, \"R\": 30, \"lambda.step\": 0.01, \"plot.opts\": {\"xlab\": \"PC1\", \"ylab\": \"PC2\"}, \"topic.order\": [1, 2, 3]};\n",
       "\n",
       "function LDAvis_load_lib(url, callback){\n",
       "  var s = document.createElement('script');\n",
       "  s.src = url;\n",
       "  s.async = true;\n",
       "  s.onreadystatechange = s.onload = callback;\n",
       "  s.onerror = function(){console.warn(\"failed to load library \" + url);};\n",
       "  document.getElementsByTagName(\"head\")[0].appendChild(s);\n",
       "}\n",
       "\n",
       "if(typeof(LDAvis) !== \"undefined\"){\n",
       "   // already loaded: just create the visualization\n",
       "   !function(LDAvis){\n",
       "       new LDAvis(\"#\" + \"ldavis_el1714024532593630967126239470\", ldavis_el1714024532593630967126239470_data);\n",
       "   }(LDAvis);\n",
       "}else if(typeof define === \"function\" && define.amd){\n",
       "   // require.js is available: use it to load d3/LDAvis\n",
       "   require.config({paths: {d3: \"https://cdnjs.cloudflare.com/ajax/libs/d3/3.5.5/d3.min\"}});\n",
       "   require([\"d3\"], function(d3){\n",
       "      window.d3 = d3;\n",
       "      LDAvis_load_lib(\"https://cdn.rawgit.com/bmabey/pyLDAvis/files/ldavis.v1.0.0.js\", function(){\n",
       "        new LDAvis(\"#\" + \"ldavis_el1714024532593630967126239470\", ldavis_el1714024532593630967126239470_data);\n",
       "      });\n",
       "    });\n",
       "}else{\n",
       "    // require.js not available: dynamically load d3 & LDAvis\n",
       "    LDAvis_load_lib(\"https://cdnjs.cloudflare.com/ajax/libs/d3/3.5.5/d3.min.js\", function(){\n",
       "         LDAvis_load_lib(\"https://cdn.rawgit.com/bmabey/pyLDAvis/files/ldavis.v1.0.0.js\", function(){\n",
       "                 new LDAvis(\"#\" + \"ldavis_el1714024532593630967126239470\", ldavis_el1714024532593630967126239470_data);\n",
       "            })\n",
       "         });\n",
       "}\n",
       "</script>"
      ],
      "text/plain": [
       "PreparedData(topic_coordinates=              x         y  topics  cluster       Freq\n",
       "topic                                                \n",
       "0      0.151991 -0.112246       1        1  47.163315\n",
       "1     -0.204583 -0.043383       2        1  37.072628\n",
       "2      0.052592  0.155629       3        1  15.764061, topic_info=        Term          Freq         Total Category  logprob  loglift\n",
       "34      room  16515.000000  16515.000000  Default  30.0000  30.0000\n",
       "40      stay  12532.000000  12532.000000  Default  29.0000  29.0000\n",
       "19     hotel  12420.000000  12420.000000  Default  28.0000  28.0000\n",
       "103    dress   8307.000000   8307.000000  Default  27.0000  27.0000\n",
       "146     wear   7118.000000   7118.000000  Default  26.0000  26.0000\n",
       "..       ...           ...           ...      ...      ...      ...\n",
       "542  quality    741.150146   2632.943359   Topic3  -5.3282   0.5798\n",
       "54       get    812.245850   4621.695312   Topic3  -5.2366   0.1087\n",
       "568     want    723.871521   3474.218750   Topic3  -5.3518   0.2789\n",
       "110      new    601.049988   1674.891357   Topic3  -5.5377   0.8226\n",
       "159     come    561.862183   3181.524902   Topic3  -5.6051   0.1136\n",
       "\n",
       "[209 rows x 6 columns], token_table=      Topic      Freq      Term\n",
       "term                           \n",
       "2255      1  0.002393     alexa\n",
       "2255      2  0.002393     alexa\n",
       "2255      3  0.995370     alexa\n",
       "660       1  0.997966   amenity\n",
       "660       2  0.001615   amenity\n",
       "...     ...       ...       ...\n",
       "2296      2  0.004727  wireless\n",
       "2296      3  0.987857  wireless\n",
       "69        1  0.249931      work\n",
       "69        2  0.374150      work\n",
       "69        3  0.376016      work\n",
       "\n",
       "[501 rows x 3 columns], R=30, lambda_step=0.01, plot_opts={'xlab': 'PC1', 'ylab': 'PC2'}, topic_order=[1, 2, 3])"
      ]
     },
     "execution_count": 133,
     "metadata": {},
     "output_type": "execute_result"
    }
   ],
   "source": [
    "vis = pyLDAvis.gensim.prepare(lda_model, corpus, dictionary=lda_model.id2word)\n",
    "vis"
   ]
  },
  {
   "cell_type": "markdown",
   "metadata": {},
   "source": [
    "#### Tf-idf"
   ]
  },
  {
   "cell_type": "code",
   "execution_count": 139,
   "metadata": {},
   "outputs": [
    {
     "data": {
      "text/html": [
       "\n",
       "<link rel=\"stylesheet\" type=\"text/css\" href=\"https://cdn.rawgit.com/bmabey/pyLDAvis/files/ldavis.v1.0.0.css\">\n",
       "\n",
       "\n",
       "<div id=\"ldavis_el1714024533532914729615860203\"></div>\n",
       "<script type=\"text/javascript\">\n",
       "\n",
       "var ldavis_el1714024533532914729615860203_data = {\"mdsDat\": {\"x\": [0.12375510822387817, -0.23116696225332606, 0.10741185402944782], \"y\": [0.16394238247769435, 0.00791352530406321, -0.17185590778175747], \"topics\": [1, 2, 3], \"cluster\": [1, 1, 1], \"Freq\": [40.49565505981445, 39.37849807739258, 20.125850677490234]}, \"tinfo\": {\"Term\": [\"room\", \"dress\", \"hotel\", \"stay\", \"use\", \"size\", \"wear\", \"fit\", \"sound\", \"staff\", \"easy\", \"color\", \"clean\", \"product\", \"buy\", \"remote\", \"breakfast\", \"tablet\", \"friendly\", \"fabric\", \"location\", \"order\", \"flattering\", \"soft\", \"work\", \"night\", \"speaker\", \"love\", \"cute\", \"device\", \"hotel\", \"room\", \"stay\", \"staff\", \"clean\", \"breakfast\", \"friendly\", \"location\", \"bed\", \"helpful\", \"service\", \"night\", \"thank\", \"check\", \"restaurant\", \"experience\", \"pool\", \"visit\", \"guest\", \"parking\", \"property\", \"food\", \"quiet\", \"bathroom\", \"desk\", \"trip\", \"convenient\", \"downtown\", \"spacious\", \"morning\", \"view\", \"place\", \"walk\", \"close\", \"free\", \"area\", \"bad\", \"wonderful\", \"enjoy\", \"family\", \"good\", \"nice\", \"time\", \"comfortable\", \"great\", \"need\", \"dress\", \"wear\", \"fit\", \"color\", \"fabric\", \"flattering\", \"soft\", \"material\", \"cute\", \"shirt\", \"length\", \"medium\", \"sweater\", \"pant\", \"skirt\", \"petite\", \"retailer\", \"waist\", \"true\", \"top\", \"cut\", \"sleeve\", \"tight\", \"black\", \"summer\", \"jean\", \"loose\", \"shape\", \"shoulder\", \"blouse\", \"size\", \"regular\", \"order\", \"style\", \"usually\", \"fall\", \"run\", \"look\", \"small\", \"love\", \"short\", \"large\", \"beautiful\", \"perfect\", \"try\", \"think\", \"little\", \"long\", \"buy\", \"feel\", \"pretty\", \"great\", \"sound\", \"product\", \"remote\", \"tablet\", \"speaker\", \"device\", \"feature\", \"app\", \"music\", \"screen\", \"play\", \"gift\", \"control\", \"headphone\", \"alexa\", \"video\", \"keyboard\", \"echo\", \"kindle\", \"connect\", \"setup\", \"program\", \"camera\", \"battery\", \"install\", \"bluetooth\", \"bass\", \"harmony\", \"user\", \"smart\", \"original\", \"use\", \"set\", \"easy\", \"taste\", \"watch\", \"phone\", \"tv\", \"replace\", \"work\", \"buy\", \"great\", \"kid\", \"good\", \"price\", \"purchase\", \"love\", \"fast\", \"well\", \"awesome\", \"quality\", \"light\", \"need\"], \"Freq\": [880.0, 814.0, 785.0, 779.0, 462.0, 718.0, 657.0, 620.0, 350.0, 599.0, 494.0, 560.0, 503.0, 276.0, 593.0, 250.0, 445.0, 245.0, 415.0, 391.0, 394.0, 408.0, 354.0, 350.0, 586.0, 360.0, 197.0, 867.0, 322.0, 182.0, 784.7218627929688, 879.6361694335938, 778.8700561523438, 598.957763671875, 502.5218505859375, 444.938720703125, 415.149658203125, 393.8214416503906, 311.4560241699219, 293.757080078125, 271.2771911621094, 359.99261474609375, 279.75323486328125, 269.02972412109375, 237.21009826660156, 238.31112670898438, 224.8225555419922, 209.33851623535156, 181.14810180664062, 175.93450927734375, 156.5620574951172, 156.80093383789062, 156.5413360595703, 154.73110961914062, 152.89622497558594, 149.0566864013672, 155.28125, 132.260498046875, 125.5394515991211, 133.15260314941406, 143.60252380371094, 316.0189514160156, 178.9043426513672, 234.54763793945312, 210.67381286621094, 297.675537109375, 236.32183837890625, 194.7158203125, 211.26104736328125, 195.50363159179688, 452.48101806640625, 376.06829833984375, 308.3289794921875, 289.102783203125, 346.9621276855469, 199.21896362304688, 813.8876342773438, 657.2142944335938, 619.9545288085938, 560.036865234375, 391.09893798828125, 353.8067932128906, 349.5287170410156, 313.2564697265625, 321.4862365722656, 285.42864990234375, 270.9083557128906, 266.5181579589844, 248.27099609375, 243.68638610839844, 241.4154052734375, 241.6734161376953, 218.21939086914062, 215.75985717773438, 229.65673828125, 207.9597930908203, 214.2257843017578, 197.01870727539062, 202.9507598876953, 208.1714630126953, 217.4069366455078, 160.25502014160156, 158.19435119628906, 162.81459045410156, 142.44818115234375, 129.81423950195312, 709.5643920898438, 155.6453857421875, 401.8161315917969, 249.19200134277344, 252.2886505126953, 210.7521514892578, 342.51068115234375, 531.5328369140625, 456.452392578125, 588.5743408203125, 286.60638427734375, 332.3955993652344, 302.1836242675781, 342.29791259765625, 303.4936218261719, 282.768798828125, 325.0702819824219, 292.85638427734375, 300.8974609375, 273.5892639160156, 257.8556213378906, 284.70928955078125, 349.5503845214844, 275.4359436035156, 250.04736328125, 245.24288940429688, 196.768310546875, 182.0560302734375, 131.77392578125, 107.95072174072266, 112.9528579711914, 103.7991943359375, 108.07866668701172, 102.39722442626953, 93.80243682861328, 85.68584442138672, 83.94620513916016, 79.97826385498047, 75.73919677734375, 75.5804672241211, 67.95649719238281, 77.3985824584961, 62.968101501464844, 62.61956787109375, 60.13408279418945, 60.51778030395508, 58.35123062133789, 57.90867233276367, 57.80845260620117, 49.43486785888672, 50.45752716064453, 48.44289016723633, 55.09437561035156, 428.8721008300781, 182.9832000732422, 382.2900390625, 77.21369171142578, 98.24444580078125, 100.76420593261719, 156.1794891357422, 77.4583511352539, 297.3665466308594, 292.56329345703125, 350.8660888671875, 118.05743408203125, 278.2671813964844, 180.90167236328125, 165.8114471435547, 223.24256896972656, 94.74771118164062, 134.25914001464844, 103.65568542480469, 117.5049819946289, 108.1025161743164, 115.07783508300781], \"Total\": [880.0, 814.0, 785.0, 779.0, 462.0, 718.0, 657.0, 620.0, 350.0, 599.0, 494.0, 560.0, 503.0, 276.0, 593.0, 250.0, 445.0, 245.0, 415.0, 391.0, 394.0, 408.0, 354.0, 350.0, 586.0, 360.0, 197.0, 867.0, 322.0, 182.0, 785.3325805664062, 880.3209228515625, 779.4988403320312, 599.5697021484375, 503.165771484375, 445.5490417480469, 415.7913818359375, 394.4410400390625, 312.07427978515625, 294.3792419433594, 271.9100036621094, 360.8543395996094, 280.4249572753906, 269.7115173339844, 237.8212432861328, 238.97198486328125, 225.4541778564453, 209.95936584472656, 181.76080322265625, 176.54507446289062, 157.17185974121094, 157.41226196289062, 157.1605682373047, 155.34674072265625, 153.51402282714844, 149.7285919189453, 155.984130859375, 132.86993408203125, 126.15049743652344, 133.8060760498047, 144.36831665039062, 336.0465393066406, 185.1774444580078, 254.27772521972656, 226.3185577392578, 345.57635498046875, 267.7789611816406, 215.50418090820312, 249.6572265625, 221.54833984375, 828.5804443359375, 618.3018798828125, 476.7605285644531, 542.7771606445312, 982.5374755859375, 418.33831787109375, 814.506591796875, 657.8474731445312, 620.612060546875, 560.68896484375, 391.7169189453125, 354.423095703125, 350.193603515625, 313.8796081542969, 322.12835693359375, 286.0466003417969, 271.5306701660156, 267.16241455078125, 248.88870239257812, 244.30470275878906, 242.03233337402344, 242.29379272460938, 218.83865356445312, 216.37525939941406, 230.3228302001953, 208.58982849121094, 214.88436889648438, 197.63485717773438, 203.61219787597656, 208.86392211914062, 218.16941833496094, 160.87156677246094, 158.83511352539062, 163.4950714111328, 143.0740966796875, 130.43141174316406, 718.2813110351562, 156.43199157714844, 408.4435729980469, 255.29104614257812, 259.7251892089844, 217.3673858642578, 381.574462890625, 665.9589233398438, 594.5513916015625, 867.3528442382812, 323.69061279296875, 410.5875244140625, 373.834716796875, 464.18121337890625, 385.1197204589844, 354.51336669921875, 482.0576171875, 385.046630859375, 593.7713623046875, 410.34149169921875, 332.99163818359375, 982.5374755859375, 350.1700439453125, 276.058349609375, 250.6436309814453, 245.83482360839844, 197.3616485595703, 182.65283203125, 132.47447204589844, 108.54151916503906, 113.59603881835938, 104.41061401367188, 108.7164077758789, 103.03206634521484, 94.43501281738281, 86.28235626220703, 84.53831481933594, 80.5741958618164, 76.33248901367188, 76.17337036132812, 68.54817199707031, 78.07380676269531, 63.572906494140625, 63.235965728759766, 60.737205505371094, 61.133399963378906, 58.945533752441406, 58.499290466308594, 58.40013885498047, 50.024837493896484, 51.064510345458984, 49.03712844848633, 55.77180862426758, 462.6846618652344, 193.72816467285156, 494.9295654296875, 82.10900115966797, 111.81552124023438, 116.20196533203125, 201.17530822753906, 85.1557846069336, 586.474853515625, 593.7713623046875, 982.5374755859375, 176.18658447265625, 828.5804443359375, 452.202880859375, 403.08343505859375, 867.3528442382812, 128.07351684570312, 383.102783203125, 184.169921875, 362.63775634765625, 252.85003662109375, 418.33831787109375], \"Category\": [\"Default\", \"Default\", \"Default\", \"Default\", \"Default\", \"Default\", \"Default\", \"Default\", \"Default\", \"Default\", \"Default\", \"Default\", \"Default\", \"Default\", \"Default\", \"Default\", \"Default\", \"Default\", \"Default\", \"Default\", \"Default\", \"Default\", \"Default\", \"Default\", \"Default\", \"Default\", \"Default\", \"Default\", \"Default\", \"Default\", \"Topic1\", \"Topic1\", \"Topic1\", \"Topic1\", \"Topic1\", \"Topic1\", \"Topic1\", \"Topic1\", \"Topic1\", \"Topic1\", \"Topic1\", \"Topic1\", \"Topic1\", \"Topic1\", \"Topic1\", \"Topic1\", \"Topic1\", \"Topic1\", \"Topic1\", \"Topic1\", \"Topic1\", \"Topic1\", \"Topic1\", \"Topic1\", \"Topic1\", \"Topic1\", \"Topic1\", \"Topic1\", \"Topic1\", \"Topic1\", \"Topic1\", \"Topic1\", \"Topic1\", \"Topic1\", \"Topic1\", \"Topic1\", \"Topic1\", \"Topic1\", \"Topic1\", \"Topic1\", \"Topic1\", \"Topic1\", \"Topic1\", \"Topic1\", \"Topic1\", \"Topic1\", \"Topic2\", \"Topic2\", \"Topic2\", \"Topic2\", \"Topic2\", \"Topic2\", \"Topic2\", \"Topic2\", \"Topic2\", \"Topic2\", \"Topic2\", \"Topic2\", \"Topic2\", \"Topic2\", \"Topic2\", \"Topic2\", \"Topic2\", \"Topic2\", \"Topic2\", \"Topic2\", \"Topic2\", \"Topic2\", \"Topic2\", \"Topic2\", \"Topic2\", \"Topic2\", \"Topic2\", \"Topic2\", \"Topic2\", \"Topic2\", \"Topic2\", \"Topic2\", \"Topic2\", \"Topic2\", \"Topic2\", \"Topic2\", \"Topic2\", \"Topic2\", \"Topic2\", \"Topic2\", \"Topic2\", \"Topic2\", \"Topic2\", \"Topic2\", \"Topic2\", \"Topic2\", \"Topic2\", \"Topic2\", \"Topic2\", \"Topic2\", \"Topic2\", \"Topic2\", \"Topic3\", \"Topic3\", \"Topic3\", \"Topic3\", \"Topic3\", \"Topic3\", \"Topic3\", \"Topic3\", \"Topic3\", \"Topic3\", \"Topic3\", \"Topic3\", \"Topic3\", \"Topic3\", \"Topic3\", \"Topic3\", \"Topic3\", \"Topic3\", \"Topic3\", \"Topic3\", \"Topic3\", \"Topic3\", \"Topic3\", \"Topic3\", \"Topic3\", \"Topic3\", \"Topic3\", \"Topic3\", \"Topic3\", \"Topic3\", \"Topic3\", \"Topic3\", \"Topic3\", \"Topic3\", \"Topic3\", \"Topic3\", \"Topic3\", \"Topic3\", \"Topic3\", \"Topic3\", \"Topic3\", \"Topic3\", \"Topic3\", \"Topic3\", \"Topic3\", \"Topic3\", \"Topic3\", \"Topic3\", \"Topic3\", \"Topic3\", \"Topic3\", \"Topic3\", \"Topic3\"], \"logprob\": [30.0, 29.0, 28.0, 27.0, 26.0, 25.0, 24.0, 23.0, 22.0, 21.0, 20.0, 19.0, 18.0, 17.0, 16.0, 15.0, 14.0, 13.0, 12.0, 11.0, 10.0, 9.0, 8.0, 7.0, 6.0, 5.0, 4.0, 3.0, 2.0, 1.0, -4.419600009918213, -4.3053998947143555, -4.427000045776367, -4.689700126647949, -4.865300178527832, -4.986999988555908, -5.056300163269043, -5.109000205993652, -5.343599796295166, -5.402100086212158, -5.481800079345703, -5.198800086975098, -5.451000213623047, -5.490099906921387, -5.615900039672852, -5.611299991607666, -5.669600009918213, -5.740900039672852, -5.8856000900268555, -5.91480016708374, -6.031400203704834, -6.029900074005127, -6.031599998474121, -6.0432000160217285, -6.055099964141846, -6.080599784851074, -6.039700031280518, -6.200099945068359, -6.252299785614014, -6.193399906158447, -6.117800235748291, -5.329100131988525, -5.8979997634887695, -5.627200126647949, -5.734600067138672, -5.388899803161621, -5.619699954986572, -5.813399791717529, -5.731800079345703, -5.809299945831299, -4.970099925994873, -5.155099868774414, -5.353700160980225, -5.418099880218506, -5.2357001304626465, -5.790500164031982, -4.355100154876709, -4.568900108337402, -4.627299785614014, -4.728899955749512, -5.0879998207092285, -5.188199996948242, -5.200300216674805, -5.309899806976318, -5.283999919891357, -5.402900218963623, -5.455100059509277, -5.471499919891357, -5.542399883270264, -5.560999870300293, -5.570400238037109, -5.569300174713135, -5.67140007019043, -5.682799816131592, -5.620299816131592, -5.719600200653076, -5.689899921417236, -5.773600101470947, -5.74399995803833, -5.718599796295166, -5.675099849700928, -5.980199813842773, -5.993100166320801, -5.964300155639648, -6.097899913787842, -6.190800189971924, -4.492300033569336, -6.009300231933594, -5.0609002113342285, -5.538700103759766, -5.526299953460693, -5.706200122833252, -5.220600128173828, -4.781199932098389, -4.9334001541137695, -4.679200172424316, -5.398799896240234, -5.2505998611450195, -5.345900058746338, -5.221199989318848, -5.341599941253662, -5.412300109863281, -5.272900104522705, -5.377200126647949, -5.350100040435791, -5.445300102233887, -5.504499912261963, -5.4054999351501465, -4.529099941253662, -4.767300128936768, -4.864099979400635, -4.883500099182129, -5.103700160980225, -5.181399822235107, -5.5046000480651855, -5.703999996185303, -5.658699989318848, -5.743199825286865, -5.7027997970581055, -5.756800174713135, -5.8445000648498535, -5.934999942779541, -5.95550012588501, -6.003900051116943, -6.0584001541137695, -6.060500144958496, -6.166800022125244, -6.0366997718811035, -6.243100166320801, -6.248600006103516, -6.289100170135498, -6.282800197601318, -6.319200038909912, -6.3267998695373535, -6.32859992980957, -6.485000133514404, -6.464600086212158, -6.505300045013428, -6.376699924468994, -4.32450008392334, -5.176300048828125, -4.439499855041504, -6.039100170135498, -5.7982001304626465, -5.772900104522705, -5.334700107574463, -6.035999774932861, -4.690700054168701, -4.706999778747559, -4.525300025939941, -5.614500045776367, -4.7571001052856445, -5.18779993057251, -5.274899959564209, -4.977399826049805, -5.834499835968018, -5.485899925231934, -5.74459981918335, -5.619200229644775, -5.702600002288818, -5.640100002288818], \"loglift\": [30.0, 29.0, 28.0, 27.0, 26.0, 25.0, 24.0, 23.0, 22.0, 21.0, 20.0, 19.0, 18.0, 17.0, 16.0, 15.0, 14.0, 13.0, 12.0, 11.0, 10.0, 9.0, 8.0, 7.0, 6.0, 5.0, 4.0, 3.0, 2.0, 1.0, 0.9031999707221985, 0.9031999707221985, 0.9031999707221985, 0.902999997138977, 0.9027000069618225, 0.9025999903678894, 0.902400016784668, 0.902400016784668, 0.9020000100135803, 0.9018999934196472, 0.9016000032424927, 0.9016000032424927, 0.9016000032424927, 0.9014000296592712, 0.9014000296592712, 0.901199996471405, 0.901199996471405, 0.9010000228881836, 0.900600016117096, 0.9004999995231628, 0.9000999927520752, 0.9000999927520752, 0.8999999761581421, 0.8999999761581421, 0.8999000191688538, 0.8995000123977661, 0.8995000123977661, 0.899399995803833, 0.8991000056266785, 0.8991000056266785, 0.8986999988555908, 0.8424999713897705, 0.8694999814033508, 0.823199987411499, 0.8323000073432922, 0.754800021648407, 0.7789999842643738, 0.8025000095367432, 0.7369999885559082, 0.7789000272750854, 0.29899999499320984, 0.4068000018596649, 0.46810001134872437, 0.27410000562667847, -0.13689999282360077, 0.16210000216960907, 0.9312000274658203, 0.9309999942779541, 0.930899977684021, 0.9308000206947327, 0.930400013923645, 0.9301999807357788, 0.9300000071525574, 0.9300000071525574, 0.9300000071525574, 0.9297999739646912, 0.9297000169754028, 0.9294999837875366, 0.9294999837875366, 0.9294000267982483, 0.9294000267982483, 0.9294000267982483, 0.929099977016449, 0.929099977016449, 0.929099977016449, 0.9289000034332275, 0.9289000034332275, 0.9287999868392944, 0.9286999702453613, 0.928600013256073, 0.9283999800682068, 0.9280999898910522, 0.9279000163078308, 0.9277999997138977, 0.9276000261306763, 0.9272000193595886, 0.919700026512146, 0.9269000291824341, 0.9156000018119812, 0.907800018787384, 0.902899980545044, 0.9010000228881836, 0.8238999843597412, 0.7064999938011169, 0.6675999760627747, 0.5442000031471252, 0.8102999925613403, 0.7207000255584717, 0.7192000150680542, 0.6273999810218811, 0.6937999725341797, 0.7057999968528748, 0.5378999710083008, 0.65829998254776, 0.25220000743865967, 0.5266000032424927, 0.6761999726295471, -0.3066999912261963, 1.6014000177383423, 1.6009000539779663, 1.6008000373840332, 1.6008000373840332, 1.6002000570297241, 1.5999000072479248, 1.5979000329971313, 1.5976999998092651, 1.597499966621399, 1.5973000526428223, 1.5973000526428223, 1.597000002861023, 1.5964000225067139, 1.5961999893188477, 1.5960999727249146, 1.5957000255584717, 1.5953999757766724, 1.5953999757766724, 1.594499945640564, 1.594499945640564, 1.5936000347137451, 1.593400001525879, 1.5931999683380127, 1.593000054359436, 1.593000054359436, 1.593000054359436, 1.593000054359436, 1.5913000106811523, 1.5911999940872192, 1.590999960899353, 1.59089994430542, 1.5273000001907349, 1.5461000204086304, 1.3449000120162964, 1.541700005531311, 1.4737999439239502, 1.4606000185012817, 1.350000023841858, 1.5083999633789062, 0.9240000247955322, 0.8953999876976013, 0.5734000205993652, 1.2028000354766846, 0.5120000243186951, 0.6869999766349792, 0.714900016784668, 0.2460000067949295, 1.301800012588501, 0.5546000003814697, 1.02839994430542, 0.47620001435279846, 0.7534000277519226, 0.3125]}, \"token.table\": {\"Topic\": [3, 3, 1, 2, 1, 2, 3, 1, 2, 3, 1, 3, 1, 2, 1, 2, 2, 3, 1, 2, 3, 3, 1, 1, 1, 2, 2, 1, 2, 3, 3, 1, 2, 2, 1, 3, 1, 2, 1, 2, 3, 3, 1, 3, 1, 2, 1, 2, 1, 3, 1, 3, 3, 1, 2, 3, 2, 2, 1, 1, 3, 1, 3, 1, 2, 3, 1, 2, 3, 1, 3, 3, 1, 1, 3, 2, 3, 1, 3, 3, 1, 2, 2, 1, 2, 3, 1, 2, 3, 1, 1, 2, 3, 1, 2, 3, 2, 1, 2, 3, 2, 2, 1, 3, 1, 2, 3, 1, 2, 3, 1, 2, 1, 2, 3, 2, 1, 1, 2, 3, 2, 1, 3, 1, 2, 3, 1, 1, 2, 3, 1, 2, 3, 3, 3, 1, 2, 3, 1, 2, 3, 1, 2, 3, 1, 3, 1, 2, 1, 1, 2, 3, 3, 1, 1, 3, 3, 2, 2, 1, 2, 2, 1, 2, 2, 2, 1, 2, 3, 3, 2, 3, 1, 3, 1, 1, 1, 2, 2, 2, 3, 1, 3, 1, 1, 2, 3, 2, 1, 2, 3, 2, 1, 2, 1, 2, 3, 1, 3, 1, 3, 3, 1, 2, 3, 1, 1, 2, 1, 2, 1, 3, 2, 1, 2, 3, 1, 2, 1, 2, 3], \"Freq\": [0.9936323165893555, 0.9950109720230103, 0.862327516078949, 0.13889838755130768, 0.3257860839366913, 0.1085953637957573, 0.5646958947181702, 0.8813239336013794, 0.11576712131500244, 0.9931483268737793, 0.997767984867096, 0.997817873954773, 0.1899235099554062, 0.8078436255455017, 0.9965575933456421, 0.9958637356758118, 0.996692419052124, 0.9914650321006775, 0.9987677335739136, 0.5069291591644287, 0.4934559166431427, 0.9878623485565186, 0.997361958026886, 0.9996705651283264, 0.9241863489151001, 0.07472144812345505, 0.9987711906433105, 0.5324468612670898, 0.4661213159561157, 0.9862462878227234, 0.9953935146331787, 0.9936908483505249, 0.9958844184875488, 0.9964971542358398, 0.9966516494750977, 0.9964258074760437, 0.9934527277946472, 0.9993780255317688, 0.14547523856163025, 0.08081958442926407, 0.771826982498169, 0.9977239966392517, 0.8451588153839111, 0.15220868587493896, 0.9959326386451721, 0.9981697797775269, 0.027603037655353546, 0.9707068204879761, 0.8846827745437622, 0.11735587567090988, 0.2576645016670227, 0.7417614459991455, 0.9964184165000916, 0.2851283550262451, 0.6677365303039551, 0.04873989149928093, 0.9990137815475464, 0.9988062381744385, 0.9973810315132141, 0.9323141574859619, 0.06627825647592545, 0.9980967044830322, 0.989983081817627, 0.5455113053321838, 0.11827457696199417, 0.3355135917663574, 0.35316717624664307, 0.2900652587413788, 0.3572382926940918, 0.9958142638206482, 0.97951340675354, 0.9967275261878967, 0.9987117052078247, 0.9995765089988708, 0.9839591979980469, 0.9945822358131409, 0.995644211769104, 0.3291964530944824, 0.6697445511817932, 0.9920030832290649, 0.1899716705083847, 0.8085973858833313, 0.9980456233024597, 0.05932370200753212, 0.5141387581825256, 0.42713063955307007, 0.22818848490715027, 0.674193263053894, 0.09749872237443924, 0.9988818764686584, 0.14024275541305542, 0.7609468102455139, 0.09868934750556946, 0.16817854344844818, 0.7988480925559998, 0.033035069704055786, 0.9947422742843628, 0.06456426531076431, 0.6790777444839478, 0.25710412859916687, 0.9971976280212402, 0.9993920922279358, 0.993975818157196, 0.9947530031204224, 0.475691556930542, 0.24860261380672455, 0.27489712834358215, 0.6081171631813049, 0.3250839114189148, 0.06631065160036087, 0.9976324439048767, 0.0027712013106793165, 0.014689912088215351, 0.9842240810394287, 0.9861612915992737, 0.998752772808075, 0.9969125390052795, 0.170192152261734, 0.7367812395095825, 0.09263623505830765, 0.9987874627113342, 0.12908560037612915, 0.8691763281822205, 0.9403459429740906, 0.059515565633773804, 0.9934102892875671, 0.9979854822158813, 0.14114467799663544, 0.7747942209243774, 0.08408619463443756, 0.37593746185302734, 0.22335107624530792, 0.40026283264160156, 0.9961662292480469, 0.9962685108184814, 0.9989065527915955, 0.587967574596405, 0.41182541847229004, 0.08548475801944733, 0.5928781628608704, 0.32539358735084534, 0.998978316783905, 0.9972384572029114, 0.9974321126937866, 0.08220228552818298, 0.9042251110076904, 0.9965468049049377, 0.9961677193641663, 0.9996354579925537, 0.08124233782291412, 0.8989071249961853, 0.020965764299035072, 0.9960673451423645, 0.9966533184051514, 0.05161872133612633, 0.9446225762367249, 0.9909881949424744, 0.9969719648361206, 0.9963411688804626, 0.11430668085813522, 0.8866491317749023, 0.9924927353858948, 0.011137697845697403, 0.9884706735610962, 0.9957347512245178, 0.9967877268791199, 0.20351478457450867, 0.7669647932052612, 0.02859298698604107, 0.9788501262664795, 0.9994471669197083, 0.9995144009590149, 0.9988070130348206, 0.9981675744056702, 0.9990498423576355, 0.9993600249290466, 0.023502586409449577, 0.9753573536872864, 0.9946398735046387, 0.9964293241500854, 0.9966041445732117, 0.060894664376974106, 0.9377778172492981, 0.9984846115112305, 0.12693455815315247, 0.7982773780822754, 0.0761607363820076, 0.9969933032989502, 0.646026611328125, 0.15731167793273926, 0.19506648182868958, 0.9971722960472107, 0.9951339364051819, 0.9985983371734619, 0.1298297643661499, 0.7867683172225952, 0.08049444854259491, 0.22368550300598145, 0.7754430770874023, 0.07132287323474884, 0.9271973371505737, 0.9791536331176758, 0.026951564475893974, 0.9702562689781189, 0.9928737282752991, 0.997448742389679, 0.9954307079315186, 0.9982656836509705, 0.9666404128074646, 0.03240135312080383, 0.11626292765140533, 0.87644362449646, 0.9987117648124695, 0.26363682746887207, 0.3863193094730377, 0.3497755825519562, 0.9048548340797424, 0.09280562400817871, 0.15345926582813263, 0.3410205841064453, 0.5064155459403992], \"Term\": [\"alexa\", \"app\", \"area\", \"area\", \"awesome\", \"awesome\", \"awesome\", \"bad\", \"bad\", \"bass\", \"bathroom\", \"battery\", \"beautiful\", \"beautiful\", \"bed\", \"black\", \"blouse\", \"bluetooth\", \"breakfast\", \"buy\", \"buy\", \"camera\", \"check\", \"clean\", \"close\", \"close\", \"color\", \"comfortable\", \"comfortable\", \"connect\", \"control\", \"convenient\", \"cut\", \"cute\", \"desk\", \"device\", \"downtown\", \"dress\", \"easy\", \"easy\", \"easy\", \"echo\", \"enjoy\", \"enjoy\", \"experience\", \"fabric\", \"fall\", \"fall\", \"family\", \"family\", \"fast\", \"fast\", \"feature\", \"feel\", \"feel\", \"feel\", \"fit\", \"flattering\", \"food\", \"free\", \"free\", \"friendly\", \"gift\", \"good\", \"good\", \"good\", \"great\", \"great\", \"great\", \"guest\", \"harmony\", \"headphone\", \"helpful\", \"hotel\", \"install\", \"jean\", \"keyboard\", \"kid\", \"kid\", \"kindle\", \"large\", \"large\", \"length\", \"light\", \"light\", \"light\", \"little\", \"little\", \"little\", \"location\", \"long\", \"long\", \"long\", \"look\", \"look\", \"look\", \"loose\", \"love\", \"love\", \"love\", \"material\", \"medium\", \"morning\", \"music\", \"need\", \"need\", \"need\", \"nice\", \"nice\", \"nice\", \"night\", \"night\", \"order\", \"order\", \"original\", \"pant\", \"parking\", \"perfect\", \"perfect\", \"perfect\", \"petite\", \"phone\", \"phone\", \"place\", \"place\", \"play\", \"pool\", \"pretty\", \"pretty\", \"pretty\", \"price\", \"price\", \"price\", \"product\", \"program\", \"property\", \"purchase\", \"purchase\", \"quality\", \"quality\", \"quality\", \"quiet\", \"regular\", \"remote\", \"replace\", \"replace\", \"restaurant\", \"retailer\", \"room\", \"run\", \"run\", \"run\", \"screen\", \"service\", \"set\", \"set\", \"setup\", \"shape\", \"shirt\", \"short\", \"short\", \"shoulder\", \"size\", \"size\", \"skirt\", \"sleeve\", \"small\", \"small\", \"small\", \"smart\", \"soft\", \"sound\", \"spacious\", \"speaker\", \"staff\", \"stay\", \"style\", \"style\", \"summer\", \"sweater\", \"tablet\", \"taste\", \"taste\", \"thank\", \"think\", \"think\", \"think\", \"tight\", \"time\", \"time\", \"time\", \"top\", \"trip\", \"true\", \"try\", \"try\", \"try\", \"tv\", \"tv\", \"use\", \"use\", \"user\", \"usually\", \"usually\", \"video\", \"view\", \"visit\", \"waist\", \"walk\", \"walk\", \"watch\", \"watch\", \"wear\", \"well\", \"well\", \"well\", \"wonderful\", \"wonderful\", \"work\", \"work\", \"work\"]}, \"R\": 30, \"lambda.step\": 0.01, \"plot.opts\": {\"xlab\": \"PC1\", \"ylab\": \"PC2\"}, \"topic.order\": [1, 2, 3]};\n",
       "\n",
       "function LDAvis_load_lib(url, callback){\n",
       "  var s = document.createElement('script');\n",
       "  s.src = url;\n",
       "  s.async = true;\n",
       "  s.onreadystatechange = s.onload = callback;\n",
       "  s.onerror = function(){console.warn(\"failed to load library \" + url);};\n",
       "  document.getElementsByTagName(\"head\")[0].appendChild(s);\n",
       "}\n",
       "\n",
       "if(typeof(LDAvis) !== \"undefined\"){\n",
       "   // already loaded: just create the visualization\n",
       "   !function(LDAvis){\n",
       "       new LDAvis(\"#\" + \"ldavis_el1714024533532914729615860203\", ldavis_el1714024533532914729615860203_data);\n",
       "   }(LDAvis);\n",
       "}else if(typeof define === \"function\" && define.amd){\n",
       "   // require.js is available: use it to load d3/LDAvis\n",
       "   require.config({paths: {d3: \"https://cdnjs.cloudflare.com/ajax/libs/d3/3.5.5/d3.min\"}});\n",
       "   require([\"d3\"], function(d3){\n",
       "      window.d3 = d3;\n",
       "      LDAvis_load_lib(\"https://cdn.rawgit.com/bmabey/pyLDAvis/files/ldavis.v1.0.0.js\", function(){\n",
       "        new LDAvis(\"#\" + \"ldavis_el1714024533532914729615860203\", ldavis_el1714024533532914729615860203_data);\n",
       "      });\n",
       "    });\n",
       "}else{\n",
       "    // require.js not available: dynamically load d3 & LDAvis\n",
       "    LDAvis_load_lib(\"https://cdnjs.cloudflare.com/ajax/libs/d3/3.5.5/d3.min.js\", function(){\n",
       "         LDAvis_load_lib(\"https://cdn.rawgit.com/bmabey/pyLDAvis/files/ldavis.v1.0.0.js\", function(){\n",
       "                 new LDAvis(\"#\" + \"ldavis_el1714024533532914729615860203\", ldavis_el1714024533532914729615860203_data);\n",
       "            })\n",
       "         });\n",
       "}\n",
       "</script>"
      ],
      "text/plain": [
       "PreparedData(topic_coordinates=              x         y  topics  cluster       Freq\n",
       "topic                                                \n",
       "0      0.123755  0.163942       1        1  40.495655\n",
       "1     -0.231167  0.007914       2        1  39.378498\n",
       "2      0.107412 -0.171856       3        1  20.125851, topic_info=        Term        Freq       Total Category  logprob  loglift\n",
       "34      room  880.000000  880.000000  Default  30.0000  30.0000\n",
       "103    dress  814.000000  814.000000  Default  29.0000  29.0000\n",
       "19     hotel  785.000000  785.000000  Default  28.0000  28.0000\n",
       "40      stay  779.000000  779.000000  Default  27.0000  27.0000\n",
       "85       use  462.000000  462.000000  Default  26.0000  26.0000\n",
       "..       ...         ...         ...      ...      ...      ...\n",
       "205     well  134.259140  383.102783   Topic3  -5.4859   0.5546\n",
       "386  awesome  103.655685  184.169922   Topic3  -5.7446   1.0284\n",
       "542  quality  117.504982  362.637756   Topic3  -5.6192   0.4762\n",
       "285    light  108.102516  252.850037   Topic3  -5.7026   0.7534\n",
       "526     need  115.077835  418.338318   Topic3  -5.6401   0.3125\n",
       "\n",
       "[181 rows x 6 columns], token_table=      Topic      Freq       Term\n",
       "term                            \n",
       "2255      3  0.993632      alexa\n",
       "470       3  0.995011        app\n",
       "154       1  0.862328       area\n",
       "154       2  0.138898       area\n",
       "386       1  0.325786    awesome\n",
       "...     ...       ...        ...\n",
       "99        1  0.904855  wonderful\n",
       "99        2  0.092806  wonderful\n",
       "69        1  0.153459       work\n",
       "69        2  0.341021       work\n",
       "69        3  0.506416       work\n",
       "\n",
       "[221 rows x 3 columns], R=30, lambda_step=0.01, plot_opts={'xlab': 'PC1', 'ylab': 'PC2'}, topic_order=[1, 2, 3])"
      ]
     },
     "execution_count": 139,
     "metadata": {},
     "output_type": "execute_result"
    }
   ],
   "source": [
    "vis = pyLDAvis.gensim.prepare(lda_tfidf,tfidf[corpus], dictionary=lda_tfidf.id2word)\n",
    "vis"
   ]
  },
  {
   "cell_type": "code",
   "execution_count": 141,
   "metadata": {},
   "outputs": [
    {
     "data": {
      "text/plain": [
       "['lda_model_tfidf.pkl']"
      ]
     },
     "execution_count": 141,
     "metadata": {},
     "output_type": "execute_result"
    }
   ],
   "source": [
    "import joblib\n",
    "joblib.dump(lda_model, 'lda_model.pkl')\n",
    "joblib.dump(lda_tfidf, 'lda_model_tfidf.pkl')"
   ]
  }
 ],
 "metadata": {
  "kernelspec": {
   "display_name": "Python 3",
   "language": "python",
   "name": "python3"
  },
  "language_info": {
   "codemirror_mode": {
    "name": "ipython",
    "version": 3
   },
   "file_extension": ".py",
   "mimetype": "text/x-python",
   "name": "python",
   "nbconvert_exporter": "python",
   "pygments_lexer": "ipython3",
   "version": "3.7.3"
  }
 },
 "nbformat": 4,
 "nbformat_minor": 2
}
